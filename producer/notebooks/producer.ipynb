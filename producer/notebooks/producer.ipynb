{
 "cells": [
  {
   "cell_type": "code",
   "execution_count": 21,
   "id": "6b8cbc25-efd6-43e9-8134-b08ba77ae2b7",
   "metadata": {},
   "outputs": [],
   "source": [
    "PATIENT_FILE = \"../synthea/output/csv/patients.csv\"\n",
    "PATIENT_VALUE_SCHEMA = \"../resources/schemas/patients.avsc\"\n",
    "PATIENT_KEY_SCHEMA = \"../resources/key_schemas/patient_key.avsc\""
   ]
  },
  {
   "cell_type": "code",
   "execution_count": 2,
   "id": "41eb31c5-a96a-4753-a21c-e39a763e72eb",
   "metadata": {},
   "outputs": [],
   "source": [
    "import os\n",
    "import csv\n",
    "from time import sleep\n",
    "from typing import Dict"
   ]
  },
  {
   "cell_type": "code",
   "execution_count": 33,
   "id": "1c8c04f8-9cc6-4a16-b94c-e676100973a5",
   "metadata": {},
   "outputs": [],
   "source": [
    "import sys\n",
    "import os\n",
    "\n",
    "# Add the project root to sys.path\n",
    "sys.path.append(os.path.abspath(os.path.join(os.getcwd(), '..')))"
   ]
  },
  {
   "cell_type": "code",
   "execution_count": 17,
   "id": "7e00fb00-eed0-4a17-a62f-0db52c179dd4",
   "metadata": {},
   "outputs": [],
   "source": [
    "# !pip install confluent_kafka\n",
    "# !pip install cachetools\n",
    "# !pip install authlib\n",
    "# !pip install fastavro"
   ]
  },
  {
   "cell_type": "code",
   "execution_count": 18,
   "id": "fa039191-d91a-4c57-b5cc-e7a96a3d6cd9",
   "metadata": {},
   "outputs": [],
   "source": [
    "from confluent_kafka import Producer\n",
    "from confluent_kafka.schema_registry import SchemaRegistryClient\n",
    "from confluent_kafka.schema_registry.avro import AvroSerializer\n",
    "from confluent_kafka.serialization import SerializationContext, MessageField"
   ]
  },
  {
   "cell_type": "code",
   "execution_count": 36,
   "id": "71760fbb-4760-4200-a54d-cca0b3910216",
   "metadata": {},
   "outputs": [],
   "source": [
    "from scripts.patient_record_key import PatientRecordKey, patient_record_key_to_dict\n",
    "from scripts.patient_record import PatientRecord, patient_record_to_dict\n",
    "# from settings import RIDE_KEY_SCHEMA_PATH, RIDE_VALUE_SCHEMA_PATH,SCHEMA_REGISTRY_URL, BOOTSTRAP_SERVERS, INPUT_DATA_PATH, KAFKA_TOPIC"
   ]
  },
  {
   "cell_type": "code",
   "execution_count": 74,
   "id": "fc5ddb5d-5f30-4023-91c1-a3e15ff5339e",
   "metadata": {},
   "outputs": [],
   "source": [
    "# INPUT_DATA_PATH = '../resources/rides.csv'\n",
    "\n",
    "# RIDE_KEY_SCHEMA_PATH = '../resources/schemas/taxi_ride_key.avsc'\n",
    "# RIDE_VALUE_SCHEMA_PATH = '../resources/schemas/taxi_ride_value.avsc'\n",
    "\n",
    "SCHEMA_REGISTRY_URL = 'http://schema-registry:8081'\n",
    "BOOTSTRAP_SERVERS = \"broker:29092\"\n",
    "FHIR_TOPIC = \"FHIR_TOPIC\""
   ]
  },
  {
   "cell_type": "code",
   "execution_count": 67,
   "id": "d3e7c7fb-4b2b-4eb5-9eb0-71d633468869",
   "metadata": {},
   "outputs": [],
   "source": [
    "def delivery_report(err, msg):\n",
    "    if err is not None:\n",
    "        print(\"Delivery failed for record {}: {}\".format(msg.key(), err))\n",
    "        return\n",
    "    print('Record {} successfully produced to {} [{}] at offset {}'.format(\n",
    "        msg.key(), msg.topic(), msg.partition(), msg.offset()))"
   ]
  },
  {
   "cell_type": "code",
   "execution_count": 68,
   "id": "58a11db1-c6bc-4688-913a-7f6ba10e5469",
   "metadata": {},
   "outputs": [],
   "source": [
    "class PatientProducer():\n",
    "    def __init__(self, props: Dict):\n",
    "        key_schema_str = self.load_schema(props['schema.key'])\n",
    "        value_schema_str = self.load_schema(props['schema.value'])\n",
    "        schema_registry_props = {'url': props['schema_registry.url']}\n",
    "        schema_registry_client = SchemaRegistryClient(schema_registry_props)\n",
    "        self.key_serializer = AvroSerializer(schema_registry_client, key_schema_str, patient_record_key_to_dict)\n",
    "        self.value_serializer = AvroSerializer(schema_registry_client, value_schema_str, patient_record_to_dict)\n",
    "\n",
    "                # Producer Configuration\n",
    "        producer_props = {'bootstrap.servers': props['bootstrap.servers']}\n",
    "        self.producer = Producer(producer_props)\n",
    "\n",
    "\n",
    "    @staticmethod\n",
    "    def load_schema(schema_path: str):\n",
    "        with open(f\"{schema_path}\") as f:\n",
    "            schema_str = f.read()\n",
    "        return schema_str\n",
    "\n",
    "    @staticmethod\n",
    "    def read_records(resource_path: str):\n",
    "        patient_records, patient_keys = [], []\n",
    "        with open(resource_path, 'r') as f:\n",
    "            reader = csv.reader(f)\n",
    "            header = next(reader)  # skip the header\n",
    "            for row in reader:\n",
    "                patient_records.append(PatientRecord(row))\n",
    "                patient_keys.append(PatientRecordKey())\n",
    "        return zip(patient_keys, patient_records)\n",
    "\n",
    "\n",
    "    def publish(self, topic: str, records: [PatientRecordKey, PatientRecord]):\n",
    "        for key_value in records:\n",
    "            key, value = key_value\n",
    "            try:\n",
    "                self.producer.produce(topic=topic,\n",
    "                                      key=self.key_serializer(key, SerializationContext(topic=topic,\n",
    "                                                                                        field=MessageField.KEY)),\n",
    "                                      value=self.value_serializer(value, SerializationContext(topic=topic,\n",
    "                                                                                              field=MessageField.VALUE)),\n",
    "                                      on_delivery=delivery_report)\n",
    "            except KeyboardInterrupt:\n",
    "                break\n",
    "            except Exception as e:\n",
    "                print(f\"Exception while producing record - {value}: {e}\")\n",
    "\n",
    "        self.producer.flush()\n",
    "        sleep(1)"
   ]
  },
  {
   "cell_type": "code",
   "execution_count": 78,
   "id": "c1d15fc3-2f38-43c6-bf62-12ef5c74df16",
   "metadata": {},
   "outputs": [
    {
     "name": "stdout",
     "output_type": "stream",
     "text": [
      "Record b'\\x00\\x00\\x00\\x00\\x01\\x0epatient' successfully produced to FHIR_TOPIC [0] at offset 0\n",
      "Record b'\\x00\\x00\\x00\\x00\\x01\\x0epatient' successfully produced to FHIR_TOPIC [0] at offset 1\n",
      "Record b'\\x00\\x00\\x00\\x00\\x01\\x0epatient' successfully produced to FHIR_TOPIC [0] at offset 2\n",
      "Record b'\\x00\\x00\\x00\\x00\\x01\\x0epatient' successfully produced to FHIR_TOPIC [0] at offset 3\n",
      "Record b'\\x00\\x00\\x00\\x00\\x01\\x0epatient' successfully produced to FHIR_TOPIC [0] at offset 4\n",
      "Record b'\\x00\\x00\\x00\\x00\\x01\\x0epatient' successfully produced to FHIR_TOPIC [0] at offset 5\n",
      "Record b'\\x00\\x00\\x00\\x00\\x01\\x0epatient' successfully produced to FHIR_TOPIC [0] at offset 6\n",
      "Record b'\\x00\\x00\\x00\\x00\\x01\\x0epatient' successfully produced to FHIR_TOPIC [0] at offset 7\n",
      "Record b'\\x00\\x00\\x00\\x00\\x01\\x0epatient' successfully produced to FHIR_TOPIC [0] at offset 8\n",
      "Record b'\\x00\\x00\\x00\\x00\\x01\\x0epatient' successfully produced to FHIR_TOPIC [0] at offset 9\n",
      "Record b'\\x00\\x00\\x00\\x00\\x01\\x0epatient' successfully produced to FHIR_TOPIC [0] at offset 10\n",
      "Record b'\\x00\\x00\\x00\\x00\\x01\\x0epatient' successfully produced to FHIR_TOPIC [0] at offset 11\n",
      "Record b'\\x00\\x00\\x00\\x00\\x01\\x0epatient' successfully produced to FHIR_TOPIC [0] at offset 12\n",
      "Record b'\\x00\\x00\\x00\\x00\\x01\\x0epatient' successfully produced to FHIR_TOPIC [0] at offset 13\n",
      "Record b'\\x00\\x00\\x00\\x00\\x01\\x0epatient' successfully produced to FHIR_TOPIC [0] at offset 14\n",
      "Record b'\\x00\\x00\\x00\\x00\\x01\\x0epatient' successfully produced to FHIR_TOPIC [0] at offset 15\n",
      "Record b'\\x00\\x00\\x00\\x00\\x01\\x0epatient' successfully produced to FHIR_TOPIC [0] at offset 16\n",
      "Record b'\\x00\\x00\\x00\\x00\\x01\\x0epatient' successfully produced to FHIR_TOPIC [0] at offset 17\n",
      "Record b'\\x00\\x00\\x00\\x00\\x01\\x0epatient' successfully produced to FHIR_TOPIC [0] at offset 18\n",
      "Record b'\\x00\\x00\\x00\\x00\\x01\\x0epatient' successfully produced to FHIR_TOPIC [0] at offset 19\n",
      "Record b'\\x00\\x00\\x00\\x00\\x01\\x0epatient' successfully produced to FHIR_TOPIC [0] at offset 20\n",
      "Record b'\\x00\\x00\\x00\\x00\\x01\\x0epatient' successfully produced to FHIR_TOPIC [0] at offset 21\n"
     ]
    }
   ],
   "source": [
    "if __name__ == \"__main__\":\n",
    "    config = {\n",
    "        'bootstrap.servers': BOOTSTRAP_SERVERS,\n",
    "        'schema_registry.url': SCHEMA_REGISTRY_URL,\n",
    "        'schema.key': PATIENT_KEY_SCHEMA,\n",
    "        'schema.value': PATIENT_VALUE_SCHEMA\n",
    "    }\n",
    "    producer = PatientProducer(props=config)\n",
    "    patient_records = producer.read_records(resource_path=PATIENT_FILE)\n",
    "    producer.publish(topic=FHIR_TOPIC, records=patient_records)"
   ]
  },
  {
   "cell_type": "code",
   "execution_count": null,
   "id": "f78ee65c-c084-481e-be6b-da7291673f8a",
   "metadata": {},
   "outputs": [],
   "source": []
  },
  {
   "cell_type": "code",
   "execution_count": null,
   "id": "290671a0-67f7-4059-a469-0947a444c16d",
   "metadata": {},
   "outputs": [],
   "source": []
  }
 ],
 "metadata": {
  "kernelspec": {
   "display_name": "Python 3 (ipykernel)",
   "language": "python",
   "name": "python3"
  },
  "language_info": {
   "codemirror_mode": {
    "name": "ipython",
    "version": 3
   },
   "file_extension": ".py",
   "mimetype": "text/x-python",
   "name": "python",
   "nbconvert_exporter": "python",
   "pygments_lexer": "ipython3",
   "version": "3.11.11"
  }
 },
 "nbformat": 4,
 "nbformat_minor": 5
}
