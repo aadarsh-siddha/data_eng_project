{
 "cells": [
  {
   "cell_type": "code",
   "execution_count": 0,
   "metadata": {
    "application/vnd.databricks.v1+cell": {
     "cellMetadata": {},
     "inputWidgets": {},
     "nuid": "b119d0cf-4f16-422a-bb8f-214617fa83e4",
     "showTitle": false,
     "tableResultSettingsMap": {},
     "title": ""
    }
   },
   "outputs": [],
   "source": [
    "import json\n",
    "from databricks.sdk import WorkspaceClient\n",
    "\n",
    "# Read the secrets file from DBFS\n",
    "with open('/dbfs/tmp/secrets.json', 'r') as f:\n",
    "    secrets = json.load(f)\n",
    "\n",
    "w = WorkspaceClient()\n",
    "\n",
    "scope_name = \"confluent\"  # Use your actual scope name\n",
    "\n",
    "for key, value in secrets.items():\n",
    "    w.secrets.put_secret(scope_name, key, string_value=value)"
   ]
  }
 ],
 "metadata": {
  "application/vnd.databricks.v1+notebook": {
   "computePreferences": null,
   "dashboards": [],
   "environmentMetadata": {
    "base_environment": "",
    "environment_version": "2"
   },
   "inputWidgetPreferences": null,
   "language": "python",
   "notebookMetadata": {
    "pythonIndentUnit": 4
   },
   "notebookName": "secrets_reader",
   "widgets": {}
  },
  "language_info": {
   "name": "python"
  }
 },
 "nbformat": 4,
 "nbformat_minor": 0
}
