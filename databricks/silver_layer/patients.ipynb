{
 "cells": [
  {
   "cell_type": "code",
   "execution_count": 0,
   "metadata": {
    "application/vnd.databricks.v1+cell": {
     "cellMetadata": {
      "byteLimit": 2048000,
      "rowLimit": 10000
     },
     "inputWidgets": {},
     "nuid": "d57be87d-2057-4085-87bf-c1e34635b5ec",
     "showTitle": false,
     "tableResultSettingsMap": {},
     "title": ""
    }
   },
   "outputs": [],
   "source": [
    "from pyspark.sql import functions as F\n",
    "from pyspark.sql.types import StructType, StructField, StringType, IntegerType, LongType, DoubleType, TimestampType, BooleanType, DateType\n",
    "from pyspark.sql.window import Window\n",
    "from pyspark.sql.functions import when, col"
   ]
  },
  {
   "cell_type": "code",
   "execution_count": 0,
   "metadata": {
    "application/vnd.databricks.v1+cell": {
     "cellMetadata": {
      "byteLimit": 2048000,
      "rowLimit": 10000
     },
     "inputWidgets": {},
     "nuid": "2b8630bd-9cf7-41a2-b1b8-fd55f0618e0b",
     "showTitle": false,
     "tableResultSettingsMap": {},
     "title": ""
    }
   },
   "outputs": [],
   "source": [
    "df_patients_bronze = spark.read.table('fhir_data_bronze.patients')\n",
    "target_table = \"fhir_data_silver.patients\""
   ]
  },
  {
   "cell_type": "code",
   "execution_count": 0,
   "metadata": {
    "application/vnd.databricks.v1+cell": {
     "cellMetadata": {
      "byteLimit": 2048000,
      "rowLimit": 10000
     },
     "inputWidgets": {},
     "nuid": "41e6f31d-1579-4646-9fe6-f92dbefb8ef1",
     "showTitle": false,
     "tableResultSettingsMap": {},
     "title": ""
    }
   },
   "outputs": [],
   "source": [
    "df_patients_bronze = df_patients_bronze.withColumn('fullname', F.concat_ws(' ', col('prefix'), col('first'), col('middle'), col('last'), col('suffix'))) \\\n",
    "    .withColumnRenamed('first' , 'first_name') \\\n",
    "    .withColumnRenamed('last' , 'last_name') \\\n",
    "    .withColumnRenamed('middle' , 'middle_name') \\\n",
    "    .withColumnRenamed('ssn' , 'social_security_number') \\\n",
    "    .withColumnRenamed('drivers' , 'drivers_license_number') \\\n",
    "    .withColumnRenamed('passport' , 'passport_number') \\\n",
    "    .withColumnRenamed('marital' , 'marital_status') \\\n",
    "    .filter(col(\"patient_id\").isNotNull() & col(\"fullname\").isNotNull())"
   ]
  },
  {
   "cell_type": "code",
   "execution_count": 0,
   "metadata": {
    "application/vnd.databricks.v1+cell": {
     "cellMetadata": {
      "byteLimit": 2048000,
      "rowLimit": 10000
     },
     "inputWidgets": {},
     "nuid": "ae55c0e8-806b-4bef-8a2a-9f7878784dba",
     "showTitle": false,
     "tableResultSettingsMap": {},
     "title": ""
    }
   },
   "outputs": [],
   "source": [
    "window = Window.partitionBy(\"patient_id\", \"timestamp\").orderBy(col(\"timestamp\").desc())\n",
    "df_patients_bronze = df_patients_bronze.withColumn(\"row_num\", F.row_number().over(window)) \\\n",
    "                    .filter(col(\"row_num\") == 1) \\\n",
    "                    .drop(\"row_num\")"
   ]
  },
  {
   "cell_type": "code",
   "execution_count": 0,
   "metadata": {
    "application/vnd.databricks.v1+cell": {
     "cellMetadata": {
      "byteLimit": 2048000,
      "rowLimit": 10000
     },
     "inputWidgets": {},
     "nuid": "78d2c2bf-fc9b-44aa-8d04-209030ebcce8",
     "showTitle": false,
     "tableResultSettingsMap": {},
     "title": ""
    }
   },
   "outputs": [],
   "source": [
    "window = Window.orderBy(F.lit(1))\n",
    "df_patients_bronze = df_patients_bronze \\\n",
    "    .withColumn(\"gender\",\n",
    "        when(col(\"gender\") == \"M\", \"Male\") \\\n",
    "        .when(col(\"gender\") == \"F\", \"Female\") \\\n",
    "        .otherwise(col(\"gender\"))) \\\n",
    "    .withColumn(\"marital_status\", \n",
    "        when(col(\"marital_status\") == \"S\", \"Single\") \\\n",
    "        .when(col(\"marital_status\") == \"M\", \"Married\") \\\n",
    "        .when(col(\"marital_status\") == \"D\", \"Divorced\") \\\n",
    "        .otherwise(col(\"marital_status\")))"
   ]
  },
  {
   "cell_type": "code",
   "execution_count": 0,
   "metadata": {
    "application/vnd.databricks.v1+cell": {
     "cellMetadata": {
      "byteLimit": 2048000,
      "rowLimit": 10000
     },
     "inputWidgets": {},
     "nuid": "ee7d8dea-80a2-485a-843f-233fa886d8ba",
     "showTitle": false,
     "tableResultSettingsMap": {},
     "title": ""
    }
   },
   "outputs": [],
   "source": [
    "if spark.catalog.tableExists(\"target_schema.patients\"):\n",
    "    max_key = spark.table(target_table).agg({\"patient_key\": \"max\"}).collect()[0][0]\n",
    "    if max_key is None:\n",
    "        max_key = 0\n",
    "else:\n",
    "    max_key = 0\n",
    "\n",
    "\n",
    "df_patients_bronze = df_patients_bronze.withColumn(\"patient_key\", F.row_number().over(window) + max_key)"
   ]
  },
  {
   "cell_type": "code",
   "execution_count": 0,
   "metadata": {
    "application/vnd.databricks.v1+cell": {
     "cellMetadata": {
      "byteLimit": 2048000,
      "rowLimit": 10000
     },
     "inputWidgets": {},
     "nuid": "07c528c8-90d2-45cb-b9a8-72b99dbb7ed9",
     "showTitle": false,
     "tableResultSettingsMap": {},
     "title": ""
    }
   },
   "outputs": [],
   "source": [
    "target_schema = StructType([\n",
    "    StructField(\"patient_key\", IntegerType(), False),\n",
    "    StructField(\"patient_id\", StringType(), False),\n",
    "    StructField(\"date_of_birth\", StringType(), True),\n",
    "    StructField(\"date_of_death\", StringType(), True),\n",
    "    StructField(\"social_security_number\", StringType(), True),\n",
    "    StructField(\"drivers_license_number\", StringType(), True),\n",
    "    StructField(\"passport_number\", StringType(), True),\n",
    "    StructField(\"prefix\", StringType(), True),\n",
    "    StructField(\"first_name\", StringType(), True),\n",
    "    StructField(\"middle_name\", StringType(), True),\n",
    "    StructField(\"last_name\", StringType(), True),\n",
    "    StructField(\"suffix\", StringType(), True),\n",
    "    StructField(\"maiden\", StringType(), True),\n",
    "    StructField(\"marital_status\", StringType(), True),\n",
    "    StructField(\"race\", StringType(), True),\n",
    "    StructField(\"ethnicity\", StringType(), True),\n",
    "    StructField(\"gender\", StringType(), True),\n",
    "    StructField(\"birthplace\", StringType(), True),\n",
    "    StructField(\"address\", StringType(), True),\n",
    "    StructField(\"city\", StringType(), True),\n",
    "    StructField(\"state\", StringType(), True),\n",
    "    StructField(\"county\", StringType(), True),\n",
    "    StructField(\"fips\", IntegerType(), True),\n",
    "    StructField(\"zip\", IntegerType(), True),\n",
    "    StructField(\"lat\", DoubleType(), True),\n",
    "    StructField(\"lon\", DoubleType(), True),\n",
    "    StructField(\"healthcare_expenses\", DoubleType(), True),\n",
    "    StructField(\"healthcare_coverage\", DoubleType(), True),\n",
    "    StructField(\"income\", LongType(), True),\n",
    "    StructField(\"fullname\", StringType(), False),\n",
    "    # SCD2 columns\n",
    "    StructField(\"effective_start_date\", TimestampType(), False),\n",
    "    StructField(\"effective_end_date\", TimestampType(), True),\n",
    "    StructField(\"current_flag\", StringType(), False),\n",
    "])  \n",
    "\n",
    "if not spark.catalog.tableExists(target_table):\n",
    "    spark.catalog.createTable(\n",
    "        target_table,\n",
    "        schema=target_schema \n",
    "    )"
   ]
  },
  {
   "cell_type": "code",
   "execution_count": 0,
   "metadata": {
    "application/vnd.databricks.v1+cell": {
     "cellMetadata": {},
     "inputWidgets": {},
     "nuid": "e72fd687-ca47-4b8d-8994-6d7553e4a7d0",
     "showTitle": false,
     "tableResultSettingsMap": {},
     "title": ""
    }
   },
   "outputs": [],
   "source": []
  }
 ],
 "metadata": {
  "application/vnd.databricks.v1+notebook": {
   "computePreferences": null,
   "dashboards": [],
   "environmentMetadata": {
    "base_environment": "",
    "environment_version": "2"
   },
   "inputWidgetPreferences": null,
   "language": "python",
   "notebookMetadata": {
    "pythonIndentUnit": 4
   },
   "notebookName": "patients",
   "widgets": {}
  },
  "language_info": {
   "name": "python"
  }
 },
 "nbformat": 4,
 "nbformat_minor": 0
}
