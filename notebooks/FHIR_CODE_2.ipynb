{
 "cells": [
  {
   "cell_type": "code",
   "execution_count": 122,
   "id": "d7827d17-6997-46b1-abcd-d2083362bc92",
   "metadata": {},
   "outputs": [],
   "source": [
    "# !pip install fhir.resources\n",
    "# !pip install fhir_kindling[ds]  # Install with data science extras\n",
    "# !pip install \"pydantic<2\"\n",
    "import json\n",
    "from fhir.resources.R4B.bundle import Bundle\n",
    "import os"
   ]
  },
  {
   "cell_type": "code",
   "execution_count": 17,
   "id": "d4302cca-00b5-44b7-a5bb-9f146bdc59b8",
   "metadata": {},
   "outputs": [],
   "source": [
    "json_file_path = 'synthea/output/fhir/Ana972_Alonso270_2a734a29-efb1-eec9-2f44-24374e1b1d6f.json'"
   ]
  },
  {
   "cell_type": "code",
   "execution_count": 18,
   "id": "74a860f7-374d-4e83-9d50-fabe11658b9c",
   "metadata": {},
   "outputs": [],
   "source": [
    "# file_names  = os.listdir(\"./synthea/output/fhir/\")\n",
    "# resources = []\n",
    "# for file in file_names:\n",
    "#     json_file_path = \"synthea/output/fhir/\" + file\n",
    "#     with open(json_file_path) as f:\n",
    "#         data = json.load(f)\n",
    "\n",
    "#     # Validate root bundle structure\n",
    "#     bundle = Bundle(**data)\n",
    "\n",
    "#     for entry in bundle.entry:\n",
    "#         resources.append(type(entry.resource))\n",
    "# set(resources)"
   ]
  },
  {
   "cell_type": "code",
   "execution_count": 19,
   "id": "00b468fd-ccc9-43bf-bc93-643a87906770",
   "metadata": {},
   "outputs": [],
   "source": [
    "with open(json_file_path) as f:\n",
    "    data = json.load(f)\n",
    "\n",
    "# Validate root bundle structure\n",
    "bundle = Bundle(**data)"
   ]
  },
  {
   "cell_type": "code",
   "execution_count": 123,
   "id": "d70a5807-a78d-422b-ad2e-db45e63d6c62",
   "metadata": {},
   "outputs": [
    {
     "ename": "ModuleNotFoundError",
     "evalue": "No module named 'pydantic.deprecated'",
     "output_type": "error",
     "traceback": [
      "\u001b[31m---------------------------------------------------------------------------\u001b[39m",
      "\u001b[31mModuleNotFoundError\u001b[39m                       Traceback (most recent call last)",
      "\u001b[36mCell\u001b[39m\u001b[36m \u001b[39m\u001b[32mIn[123]\u001b[39m\u001b[32m, line 1\u001b[39m\n\u001b[32m----> \u001b[39m\u001b[32m1\u001b[39m \u001b[38;5;28;01mfrom\u001b[39;00m\u001b[38;5;250m \u001b[39m\u001b[34;01mfhir_kindling\u001b[39;00m\u001b[38;5;250m \u001b[39m\u001b[38;5;28;01mimport\u001b[39;00m FhirServer\n",
      "\u001b[36mFile \u001b[39m\u001b[32m/usr/local/lib/python3.11/site-packages/fhir_kindling/__init__.py:2\u001b[39m\n\u001b[32m      1\u001b[39m \u001b[33;03m\"\"\"Top-level package for fhir-kindling.\"\"\"\u001b[39;00m\n\u001b[32m----> \u001b[39m\u001b[32m2\u001b[39m \u001b[38;5;28;01mfrom\u001b[39;00m\u001b[38;5;250m \u001b[39m\u001b[34;01m.\u001b[39;00m\u001b[34;01mfhir_query\u001b[39;00m\u001b[38;5;250m \u001b[39m\u001b[38;5;28;01mimport\u001b[39;00m FhirQueryAsync, FhirQuerySync\n\u001b[32m      3\u001b[39m \u001b[38;5;28;01mfrom\u001b[39;00m\u001b[38;5;250m \u001b[39m\u001b[34;01m.\u001b[39;00m\u001b[34;01mfhir_server\u001b[39;00m\u001b[38;5;250m \u001b[39m\u001b[38;5;28;01mimport\u001b[39;00m FhirServer\n",
      "\u001b[36mFile \u001b[39m\u001b[32m/usr/local/lib/python3.11/site-packages/fhir_kindling/fhir_query/__init__.py:1\u001b[39m\n\u001b[32m----> \u001b[39m\u001b[32m1\u001b[39m \u001b[38;5;28;01mfrom\u001b[39;00m\u001b[38;5;250m \u001b[39m\u001b[34;01m.\u001b[39;00m\u001b[34;01mquery_async\u001b[39;00m\u001b[38;5;250m \u001b[39m\u001b[38;5;28;01mimport\u001b[39;00m FhirQueryAsync\n\u001b[32m      2\u001b[39m \u001b[38;5;28;01mfrom\u001b[39;00m\u001b[38;5;250m \u001b[39m\u001b[34;01m.\u001b[39;00m\u001b[34;01mquery_parameters\u001b[39;00m\u001b[38;5;250m \u001b[39m\u001b[38;5;28;01mimport\u001b[39;00m (\n\u001b[32m      3\u001b[39m     FhirQueryParameters,\n\u001b[32m      4\u001b[39m     FieldParameter,\n\u001b[32m   (...)\u001b[39m\u001b[32m      7\u001b[39m     ReverseChainParameter,\n\u001b[32m      8\u001b[39m )\n\u001b[32m      9\u001b[39m \u001b[38;5;28;01mfrom\u001b[39;00m\u001b[38;5;250m \u001b[39m\u001b[34;01m.\u001b[39;00m\u001b[34;01mquery_response\u001b[39;00m\u001b[38;5;250m \u001b[39m\u001b[38;5;28;01mimport\u001b[39;00m QueryResponse\n",
      "\u001b[36mFile \u001b[39m\u001b[32m/usr/local/lib/python3.11/site-packages/fhir_kindling/fhir_query/query_async.py:8\u001b[39m\n\u001b[32m      6\u001b[39m \u001b[38;5;28;01mimport\u001b[39;00m\u001b[38;5;250m \u001b[39m\u001b[34;01mxmltodict\u001b[39;00m\n\u001b[32m      7\u001b[39m \u001b[38;5;28;01mfrom\u001b[39;00m\u001b[38;5;250m \u001b[39m\u001b[34;01mfhir\u001b[39;00m\u001b[34;01m.\u001b[39;00m\u001b[34;01mresources\u001b[39;00m\u001b[38;5;250m \u001b[39m\u001b[38;5;28;01mimport\u001b[39;00m FHIRAbstractModel\n\u001b[32m----> \u001b[39m\u001b[32m8\u001b[39m \u001b[38;5;28;01mfrom\u001b[39;00m\u001b[38;5;250m \u001b[39m\u001b[34;01mfhir\u001b[39;00m\u001b[34;01m.\u001b[39;00m\u001b[34;01mresources\u001b[39;00m\u001b[34;01m.\u001b[39;00m\u001b[34;01mfhirresourcemodel\u001b[39;00m\u001b[38;5;250m \u001b[39m\u001b[38;5;28;01mimport\u001b[39;00m FHIRResourceModel\n\u001b[32m     10\u001b[39m \u001b[38;5;28;01mfrom\u001b[39;00m\u001b[38;5;250m \u001b[39m\u001b[34;01mfhir_kindling\u001b[39;00m\u001b[34;01m.\u001b[39;00m\u001b[34;01mfhir_query\u001b[39;00m\u001b[34;01m.\u001b[39;00m\u001b[34;01mbase\u001b[39;00m\u001b[38;5;250m \u001b[39m\u001b[38;5;28;01mimport\u001b[39;00m FhirQueryBase\n\u001b[32m     11\u001b[39m \u001b[38;5;28;01mfrom\u001b[39;00m\u001b[38;5;250m \u001b[39m\u001b[34;01mfhir_kindling\u001b[39;00m\u001b[34;01m.\u001b[39;00m\u001b[34;01mfhir_query\u001b[39;00m\u001b[34;01m.\u001b[39;00m\u001b[34;01mquery_parameters\u001b[39;00m\u001b[38;5;250m \u001b[39m\u001b[38;5;28;01mimport\u001b[39;00m (\n\u001b[32m     12\u001b[39m     FhirQueryParameters,\n\u001b[32m     13\u001b[39m )\n",
      "\u001b[36mFile \u001b[39m\u001b[32m/usr/local/lib/python3.11/site-packages/fhir/resources/fhirresourcemodel.py:7\u001b[39m\n\u001b[32m      3\u001b[39m \u001b[38;5;28;01mfrom\u001b[39;00m\u001b[38;5;250m \u001b[39m\u001b[34;01mtyping\u001b[39;00m\u001b[38;5;250m \u001b[39m\u001b[38;5;28;01mimport\u001b[39;00m Optional, Union\n\u001b[32m      5\u001b[39m \u001b[38;5;28;01mfrom\u001b[39;00m\u001b[38;5;250m \u001b[39m\u001b[34;01mpydantic\u001b[39;00m\u001b[38;5;250m \u001b[39m\u001b[38;5;28;01mimport\u001b[39;00m Field\n\u001b[32m----> \u001b[39m\u001b[32m7\u001b[39m \u001b[38;5;28;01mfrom\u001b[39;00m\u001b[38;5;250m \u001b[39m\u001b[34;01mfhir\u001b[39;00m\u001b[34;01m.\u001b[39;00m\u001b[34;01mresources\u001b[39;00m\u001b[34;01m.\u001b[39;00m\u001b[34;01mcore\u001b[39;00m\u001b[34;01m.\u001b[39;00m\u001b[34;01mfhirabstractmodel\u001b[39;00m\u001b[38;5;250m \u001b[39m\u001b[38;5;28;01mimport\u001b[39;00m FHIRAbstractModel\n\u001b[32m      9\u001b[39m \u001b[38;5;28;01mfrom\u001b[39;00m\u001b[38;5;250m \u001b[39m\u001b[34;01m.\u001b[39;00m\u001b[34;01mfhirtypes\u001b[39;00m\u001b[38;5;250m \u001b[39m\u001b[38;5;28;01mimport\u001b[39;00m Id, String\n\u001b[32m     12\u001b[39m \u001b[38;5;28;01mclass\u001b[39;00m\u001b[38;5;250m \u001b[39m\u001b[34;01mFHIRResourceModel\u001b[39;00m(FHIRAbstractModel):\n",
      "\u001b[36mFile \u001b[39m\u001b[32m/usr/local/lib/python3.11/site-packages/fhir/resources/core/fhirabstractmodel.py:12\u001b[39m\n\u001b[32m      9\u001b[39m \u001b[38;5;28;01mfrom\u001b[39;00m\u001b[38;5;250m \u001b[39m\u001b[34;01menum\u001b[39;00m\u001b[38;5;250m \u001b[39m\u001b[38;5;28;01mimport\u001b[39;00m Enum\n\u001b[32m     10\u001b[39m \u001b[38;5;28;01mfrom\u001b[39;00m\u001b[38;5;250m \u001b[39m\u001b[34;01mfunctools\u001b[39;00m\u001b[38;5;250m \u001b[39m\u001b[38;5;28;01mimport\u001b[39;00m lru_cache\n\u001b[32m---> \u001b[39m\u001b[32m12\u001b[39m \u001b[38;5;28;01mfrom\u001b[39;00m\u001b[38;5;250m \u001b[39m\u001b[34;01mpydantic\u001b[39;00m\u001b[38;5;250m \u001b[39m\u001b[38;5;28;01mimport\u001b[39;00m BaseModel, Extra, Field\n\u001b[32m     13\u001b[39m \u001b[38;5;28;01mfrom\u001b[39;00m\u001b[38;5;250m \u001b[39m\u001b[34;01mpydantic\u001b[39;00m\u001b[34;01m.\u001b[39;00m\u001b[34;01mclass_validators\u001b[39;00m\u001b[38;5;250m \u001b[39m\u001b[38;5;28;01mimport\u001b[39;00m ROOT_VALIDATOR_CONFIG_KEY, root_validator\n\u001b[32m     14\u001b[39m \u001b[38;5;28;01mfrom\u001b[39;00m\u001b[38;5;250m \u001b[39m\u001b[34;01mpydantic\u001b[39;00m\u001b[34;01m.\u001b[39;00m\u001b[34;01merror_wrappers\u001b[39;00m\u001b[38;5;250m \u001b[39m\u001b[38;5;28;01mimport\u001b[39;00m ErrorWrapper, ValidationError\n",
      "\u001b[36mFile \u001b[39m\u001b[32m/usr/local/lib/python3.11/site-packages/pydantic/__init__.py:421\u001b[39m, in \u001b[36m__getattr__\u001b[39m\u001b[34m(attr_name)\u001b[39m\n\u001b[32m      0\u001b[39m <Error retrieving source code with stack_data see ipython/ipython#13598>\n",
      "\u001b[36mFile \u001b[39m\u001b[32m/usr/local/lib/python3.11/importlib/__init__.py:126\u001b[39m, in \u001b[36mimport_module\u001b[39m\u001b[34m(name, package)\u001b[39m\n\u001b[32m    124\u001b[39m             \u001b[38;5;28;01mbreak\u001b[39;00m\n\u001b[32m    125\u001b[39m         level += \u001b[32m1\u001b[39m\n\u001b[32m--> \u001b[39m\u001b[32m126\u001b[39m \u001b[38;5;28;01mreturn\u001b[39;00m \u001b[43m_bootstrap\u001b[49m\u001b[43m.\u001b[49m\u001b[43m_gcd_import\u001b[49m\u001b[43m(\u001b[49m\u001b[43mname\u001b[49m\u001b[43m[\u001b[49m\u001b[43mlevel\u001b[49m\u001b[43m:\u001b[49m\u001b[43m]\u001b[49m\u001b[43m,\u001b[49m\u001b[43m \u001b[49m\u001b[43mpackage\u001b[49m\u001b[43m,\u001b[49m\u001b[43m \u001b[49m\u001b[43mlevel\u001b[49m\u001b[43m)\u001b[49m\n",
      "\u001b[31mModuleNotFoundError\u001b[39m: No module named 'pydantic.deprecated'"
     ]
    }
   ],
   "source": [
    "from fhir_kindling import FhirServer"
   ]
  },
  {
   "cell_type": "code",
   "execution_count": null,
   "id": "76b7fe88-e7ec-432c-bddb-d676cf48c447",
   "metadata": {},
   "outputs": [],
   "source": [
    "flattened_df = FhirServer.flatten_bundle(data)"
   ]
  },
  {
   "cell_type": "code",
   "execution_count": 27,
   "id": "d05a3246-d1ae-442e-a1ff-6b71532ce41e",
   "metadata": {},
   "outputs": [
    {
     "data": {
      "text/plain": [
       "{fhir.resources.R4B.careplan.CarePlan,\n",
       " fhir.resources.R4B.careteam.CareTeam,\n",
       " fhir.resources.R4B.claim.Claim,\n",
       " fhir.resources.R4B.condition.Condition,\n",
       " fhir.resources.R4B.diagnosticreport.DiagnosticReport,\n",
       " fhir.resources.R4B.documentreference.DocumentReference,\n",
       " fhir.resources.R4B.encounter.Encounter,\n",
       " fhir.resources.R4B.explanationofbenefit.ExplanationOfBenefit,\n",
       " fhir.resources.R4B.immunization.Immunization,\n",
       " fhir.resources.R4B.medicationrequest.MedicationRequest,\n",
       " fhir.resources.R4B.observation.Observation,\n",
       " fhir.resources.R4B.patient.Patient,\n",
       " fhir.resources.R4B.procedure.Procedure,\n",
       " fhir.resources.R4B.provenance.Provenance}"
      ]
     },
     "execution_count": 27,
     "metadata": {},
     "output_type": "execute_result"
    }
   ],
   "source": [
    "resources = []\n",
    "for entry in bundle.entry:\n",
    "    resources.append(type(entry.resource))\n",
    "set(resources)"
   ]
  },
  {
   "cell_type": "code",
   "execution_count": null,
   "id": "824a10be-c4a3-486b-a057-2f6294a51571",
   "metadata": {},
   "outputs": [],
   "source": []
  },
  {
   "cell_type": "code",
   "execution_count": null,
   "id": "26b398f5-3c5a-4376-ac2a-6cea443ff33d",
   "metadata": {},
   "outputs": [],
   "source": []
  },
  {
   "cell_type": "markdown",
   "id": "fd8957be-528e-4ebc-9461-e6b023c56d76",
   "metadata": {},
   "source": [
    "## Observation Resource"
   ]
  },
  {
   "cell_type": "code",
   "execution_count": 46,
   "id": "32e4e478-28c9-4fa9-9069-bcfd6d3dd03c",
   "metadata": {},
   "outputs": [
    {
     "data": {
      "text/plain": [
       "fhir.resources.R4B.observation.Observation"
      ]
     },
     "execution_count": 46,
     "metadata": {},
     "output_type": "execute_result"
    }
   ],
   "source": [
    "type(bundle.entry[3].resource)"
   ]
  },
  {
   "cell_type": "code",
   "execution_count": 47,
   "id": "ce0dde9f-8fbc-4ccb-aa71-b8bc5b095afa",
   "metadata": {},
   "outputs": [],
   "source": [
    "obs = bundle.entry[3].resource"
   ]
  },
  {
   "cell_type": "code",
   "execution_count": 48,
   "id": "51c55a16-9590-4b6c-abf2-ecf1dca4cc5e",
   "metadata": {},
   "outputs": [
    {
     "data": {
      "text/plain": [
       "Observation(fhir_comments=None, id='eea657b7-e54e-7dd7-0d84-78be2d8b8d3e', implicitRules=None, implicitRules__ext=None, language=None, language__ext=None, meta=Meta(fhir_comments=None, extension=None, id=None, lastUpdated=None, lastUpdated__ext=None, profile=['http://hl7.org/fhir/us/core/StructureDefinition/us-core-body-height'], profile__ext=None, security=None, source=None, source__ext=None, tag=None, versionId=None, versionId__ext=None), contained=None, extension=None, modifierExtension=None, text=None, basedOn=None, bodySite=None, category=[CodeableConcept(fhir_comments=None, extension=None, id=None, coding=[Coding(fhir_comments=None, extension=None, id=None, code='vital-signs', code__ext=None, display='Vital signs', display__ext=None, system='http://terminology.hl7.org/CodeSystem/observation-category', system__ext=None, userSelected=None, userSelected__ext=None, version=None, version__ext=None)], text=None, text__ext=None)], code=CodeableConcept(fhir_comments=None, extension=None, id=None, coding=[Coding(fhir_comments=None, extension=None, id=None, code='8302-2', code__ext=None, display='Body Height', display__ext=None, system='http://loinc.org', system__ext=None, userSelected=None, userSelected__ext=None, version=None, version__ext=None)], text='Body Height', text__ext=None), component=None, dataAbsentReason=None, derivedFrom=None, device=None, effectiveDateTime=datetime.datetime(2018, 12, 5, 6, 41, 28, tzinfo=TzInfo(UTC)), effectiveDateTime__ext=None, effectiveInstant=None, effectiveInstant__ext=None, effectivePeriod=None, effectiveTiming=None, encounter=Reference(fhir_comments=None, extension=None, id=None, display=None, display__ext=None, identifier=None, reference='urn:uuid:8e3a5914-280f-9e60-8b84-ceb68c2b1956', reference__ext=None, type=None, type__ext=None), focus=None, hasMember=None, identifier=None, interpretation=None, issued=datetime.datetime(2018, 12, 5, 6, 41, 28, 538000, tzinfo=TzInfo(UTC)), issued__ext=None, method=None, note=None, partOf=None, performer=None, referenceRange=None, specimen=None, status='final', status__ext=None, subject=Reference(fhir_comments=None, extension=None, id=None, display=None, display__ext=None, identifier=None, reference='urn:uuid:2a734a29-efb1-eec9-2f44-24374e1b1d6f', reference__ext=None, type=None, type__ext=None), valueBoolean=None, valueBoolean__ext=None, valueCodeableConcept=None, valueDateTime=None, valueDateTime__ext=None, valueInteger=None, valueInteger__ext=None, valuePeriod=None, valueQuantity=Quantity(fhir_comments=None, extension=None, id=None, code='cm', code__ext=None, comparator=None, comparator__ext=None, system='http://unitsofmeasure.org', system__ext=None, unit='cm', unit__ext=None, value=Decimal('49.89999999999999857891452847979962825775146484375'), value__ext=None), valueRange=None, valueRatio=None, valueSampledData=None, valueString=None, valueString__ext=None, valueTime=None, valueTime__ext=None)"
      ]
     },
     "execution_count": 48,
     "metadata": {},
     "output_type": "execute_result"
    }
   ],
   "source": [
    "obs"
   ]
  },
  {
   "cell_type": "code",
   "execution_count": 49,
   "id": "ae255721-2e04-4022-ad42-82b2063ec952",
   "metadata": {},
   "outputs": [
    {
     "data": {
      "text/plain": [
       "'eea657b7-e54e-7dd7-0d84-78be2d8b8d3e'"
      ]
     },
     "execution_count": 49,
     "metadata": {},
     "output_type": "execute_result"
    }
   ],
   "source": [
    "obs.id"
   ]
  },
  {
   "cell_type": "code",
   "execution_count": 50,
   "id": "c4f2a530-919b-4b43-bdc7-4b4e79e60ede",
   "metadata": {},
   "outputs": [],
   "source": [
    "obs.basedOn"
   ]
  },
  {
   "cell_type": "code",
   "execution_count": 51,
   "id": "88258c74-a7e4-4274-a6e9-016eafa7f713",
   "metadata": {},
   "outputs": [],
   "source": [
    "obs.partOf"
   ]
  },
  {
   "cell_type": "code",
   "execution_count": 52,
   "id": "813a3cc0-d663-4499-a949-0b716bda538f",
   "metadata": {},
   "outputs": [
    {
     "data": {
      "text/plain": [
       "'final'"
      ]
     },
     "execution_count": 52,
     "metadata": {},
     "output_type": "execute_result"
    }
   ],
   "source": [
    "obs.status"
   ]
  },
  {
   "cell_type": "code",
   "execution_count": 53,
   "id": "5b0576b9-cb8a-4fde-b6c1-c7ffb053d744",
   "metadata": {},
   "outputs": [
    {
     "data": {
      "text/plain": [
       "'vital-signs'"
      ]
     },
     "execution_count": 53,
     "metadata": {},
     "output_type": "execute_result"
    }
   ],
   "source": [
    "n_codeable_concept_parser(obs.category)"
   ]
  },
  {
   "cell_type": "code",
   "execution_count": 55,
   "id": "984de999-0a10-4b27-ba57-fa40ee1f272e",
   "metadata": {},
   "outputs": [
    {
     "data": {
      "text/plain": [
       "'8302-2'"
      ]
     },
     "execution_count": 55,
     "metadata": {},
     "output_type": "execute_result"
    }
   ],
   "source": [
    "codeable_concept_parser(obs.code)"
   ]
  },
  {
   "cell_type": "code",
   "execution_count": 57,
   "id": "15a68924-3d17-44b9-bc0f-7684b760acfe",
   "metadata": {},
   "outputs": [
    {
     "data": {
      "text/plain": [
       "'urn:uuid:2a734a29-efb1-eec9-2f44-24374e1b1d6f'"
      ]
     },
     "execution_count": 57,
     "metadata": {},
     "output_type": "execute_result"
    }
   ],
   "source": [
    "obs.subject.reference"
   ]
  },
  {
   "cell_type": "code",
   "execution_count": 58,
   "id": "e21ded2e-5915-4dde-a89f-ec7feeca840f",
   "metadata": {},
   "outputs": [],
   "source": [
    "obs.focus"
   ]
  },
  {
   "cell_type": "code",
   "execution_count": 60,
   "id": "a4e2b26c-4205-4a43-a6a3-63af4ff333a8",
   "metadata": {},
   "outputs": [
    {
     "data": {
      "text/plain": [
       "'urn:uuid:8e3a5914-280f-9e60-8b84-ceb68c2b1956'"
      ]
     },
     "execution_count": 60,
     "metadata": {},
     "output_type": "execute_result"
    }
   ],
   "source": [
    "obs.encounter.reference"
   ]
  },
  {
   "cell_type": "code",
   "execution_count": 61,
   "id": "f5d262b8-b6f4-4c0b-bdd2-60973a99f088",
   "metadata": {},
   "outputs": [
    {
     "data": {
      "text/plain": [
       "datetime.datetime(2018, 12, 5, 6, 41, 28, tzinfo=TzInfo(UTC))"
      ]
     },
     "execution_count": 61,
     "metadata": {},
     "output_type": "execute_result"
    }
   ],
   "source": [
    "obs.effectiveDateTime"
   ]
  },
  {
   "cell_type": "code",
   "execution_count": 63,
   "id": "036c3e84-31dd-4d32-a1ab-858c25cee6f7",
   "metadata": {},
   "outputs": [],
   "source": [
    "obs.effectivePeriod"
   ]
  },
  {
   "cell_type": "code",
   "execution_count": 64,
   "id": "9cd432b2-6106-4b35-8027-fb1f1d94d3f7",
   "metadata": {},
   "outputs": [],
   "source": [
    "obs.effectiveTiming"
   ]
  },
  {
   "cell_type": "code",
   "execution_count": 65,
   "id": "59315b7c-db71-42b1-b729-7b045f62c3a1",
   "metadata": {},
   "outputs": [
    {
     "data": {
      "text/plain": [
       "datetime.datetime(2018, 12, 5, 6, 41, 28, 538000, tzinfo=TzInfo(UTC))"
      ]
     },
     "execution_count": 65,
     "metadata": {},
     "output_type": "execute_result"
    }
   ],
   "source": [
    "obs.issued"
   ]
  },
  {
   "cell_type": "code",
   "execution_count": 66,
   "id": "4db9803b-979a-496c-808a-01482dcdfef5",
   "metadata": {},
   "outputs": [],
   "source": [
    "obs.performer"
   ]
  },
  {
   "cell_type": "code",
   "execution_count": 68,
   "id": "fea93216-25d3-47ca-b383-e890dc5dc12d",
   "metadata": {},
   "outputs": [],
   "source": [
    "obs.valueBoolean"
   ]
  },
  {
   "cell_type": "code",
   "execution_count": 69,
   "id": "2dbb01b8-105f-4880-af37-c3df95032242",
   "metadata": {},
   "outputs": [],
   "source": [
    "obs.valueCodeableConcept"
   ]
  },
  {
   "cell_type": "code",
   "execution_count": 70,
   "id": "814f696a-1581-4a54-a2b7-79c47750f9c2",
   "metadata": {},
   "outputs": [],
   "source": [
    "obs.valueDateTime"
   ]
  },
  {
   "cell_type": "code",
   "execution_count": 71,
   "id": "c8f3eabf-4c9f-4803-9a0a-56d77dcb779c",
   "metadata": {},
   "outputs": [],
   "source": [
    "obs.valueInteger"
   ]
  },
  {
   "cell_type": "code",
   "execution_count": 73,
   "id": "51658d3e-b397-4283-832b-bbca711a5753",
   "metadata": {},
   "outputs": [
    {
     "data": {
      "text/plain": [
       "'cm'"
      ]
     },
     "execution_count": 73,
     "metadata": {},
     "output_type": "execute_result"
    }
   ],
   "source": [
    "obs.valueQuantity.unit"
   ]
  },
  {
   "cell_type": "code",
   "execution_count": 75,
   "id": "3682d147-3c79-4c7a-afe2-9b98a6a7358e",
   "metadata": {},
   "outputs": [
    {
     "data": {
      "text/plain": [
       "Decimal('49.89999999999999857891452847979962825775146484375')"
      ]
     },
     "execution_count": 75,
     "metadata": {},
     "output_type": "execute_result"
    }
   ],
   "source": [
    "obs.valueQuantity.value"
   ]
  },
  {
   "cell_type": "code",
   "execution_count": 76,
   "id": "b883e24a-75b5-4ee0-989b-82faac72478f",
   "metadata": {},
   "outputs": [],
   "source": [
    "obs.valueString"
   ]
  },
  {
   "cell_type": "code",
   "execution_count": 77,
   "id": "8f571e6a-df86-47e6-8da3-71f86c618947",
   "metadata": {},
   "outputs": [],
   "source": [
    "obs.dataAbsentReason"
   ]
  },
  {
   "cell_type": "code",
   "execution_count": 78,
   "id": "b724cc0f-a878-4670-99fd-1725f09a9b89",
   "metadata": {},
   "outputs": [],
   "source": [
    "obs.interpretation"
   ]
  },
  {
   "cell_type": "code",
   "execution_count": 79,
   "id": "4ae2bf58-3904-4ce5-9ed6-0e4049286f61",
   "metadata": {},
   "outputs": [],
   "source": [
    "obs.note"
   ]
  },
  {
   "cell_type": "code",
   "execution_count": 80,
   "id": "36001982-e292-43b0-8afd-77d8162ade9d",
   "metadata": {},
   "outputs": [],
   "source": [
    "obs.bodySite"
   ]
  },
  {
   "cell_type": "code",
   "execution_count": 81,
   "id": "d8a4f456-2107-4036-acf1-33159b498e0f",
   "metadata": {},
   "outputs": [],
   "source": [
    "obs.method"
   ]
  },
  {
   "cell_type": "code",
   "execution_count": 82,
   "id": "1a17d294-8dd4-4ed7-982e-8d3b0acfb56c",
   "metadata": {},
   "outputs": [],
   "source": [
    "obs.specimen"
   ]
  },
  {
   "cell_type": "code",
   "execution_count": 83,
   "id": "50a52fad-6b4a-4bd8-aed9-af3df44f46b2",
   "metadata": {},
   "outputs": [],
   "source": [
    "obs.device"
   ]
  },
  {
   "cell_type": "code",
   "execution_count": 84,
   "id": "6c507db9-bb81-4aae-976c-cc33078e122a",
   "metadata": {},
   "outputs": [],
   "source": [
    "obs.referenceRange"
   ]
  },
  {
   "cell_type": "code",
   "execution_count": 85,
   "id": "18809262-4471-4ac2-bb1a-6ea7df49d964",
   "metadata": {},
   "outputs": [],
   "source": [
    "obs.hasMember"
   ]
  },
  {
   "cell_type": "code",
   "execution_count": 86,
   "id": "e4b062bf-4ebe-404c-84b4-e357f844f963",
   "metadata": {},
   "outputs": [],
   "source": [
    "obs.derivedFrom"
   ]
  },
  {
   "cell_type": "code",
   "execution_count": 87,
   "id": "6e1c0735-b25f-4781-bf0a-67c112832edf",
   "metadata": {},
   "outputs": [],
   "source": [
    "obs.component"
   ]
  },
  {
   "cell_type": "code",
   "execution_count": 91,
   "id": "7c558d0d-8569-4e90-9300-5f9be43dc647",
   "metadata": {},
   "outputs": [],
   "source": [
    "def observation_resource_parser(obs):\n",
    "    if obs.id == None:\n",
    "        return None\n",
    "    observation_schema = dict()\n",
    "    observation_schema['ID'] = obs.id\n",
    "    observation_schema['based_on'] = getattr(obs,'basedOn', None)\n",
    "    observation_schema['part_of'] = getattr(obs,'partOf', None)\n",
    "    observation_schema['status'] = getattr(obs,'status', None)\n",
    "    observation_schema['category_type'] = n_codeable_concept_parser(obs.category)\n",
    "    observation_schema['loinc_code'] = codeable_concept_parser(obs.code)\n",
    "    observation_schema['patient_id'] = getattr(getattr(obs,'subject',None),'reference',None)\n",
    "    observation_schema['focus'] = getattr(obs, 'focus', None)\n",
    "    observation_schema['encounter_id'] = getattr(getattr(obs,'encounter',None),'reference',None)\n",
    "    observation_schema['effective_datetime'] = getattr(obs, 'effectiveDateTime', None)\n",
    "    observation_schema['effective_period'] = getattr(obs, 'effectivePeriod', None)\n",
    "    observation_schema['effective_timing'] = getattr(obs, 'effectiveTiming', None)\n",
    "    observation_schema['issued'] = getattr(obs, 'issued', None)\n",
    "    observation_schema['performer'] = getattr(obs, 'performer', None)\n",
    "    observation_schema['value_boolean'] = getattr(obs, 'valueBoolean', None)\n",
    "    observation_schema['value_codeable_concept'] = getattr(obs, 'valueCodeableConcept', None)\n",
    "    observation_schema['value_datetime'] = getattr(obs, 'valueDateTime', None)\n",
    "    observation_schema['value_integer'] = getattr(obs, 'valueInteger', None)\n",
    "    observation_schema['value_unit'] = getattr(getattr(obs,'valueQuantity',None),'unit',None)\n",
    "    observation_schema['value'] = getattr(getattr(obs,'valueQuantity',None),'value',None)\n",
    "    observation_schema['value_tring'] = getattr(obs, 'valueString', None)\n",
    "    observation_schema['data_absent_reason'] = getattr(obs, 'dataAbsentReason', None)\n",
    "    observation_schema['interpretation'] = getattr(obs, 'interpretation', None)\n",
    "    observation_schema['note'] = getattr(obs, 'note', None)\n",
    "    observation_schema['bodysite'] = getattr(obs, 'bodySite', None)\n",
    "    observation_schema['method'] = getattr(obs, 'method', None)\n",
    "    observation_schema['specimen'] = getattr(obs, 'specimen', None)\n",
    "    observation_schema['device'] = getattr(obs, 'device', None)\n",
    "    observation_schema['reference_range'] = getattr(obs, 'referenceRange', None)\n",
    "    observation_schema['has_member'] = getattr(obs, 'hasMember', None)\n",
    "    observation_schema['derived_from'] = getattr(obs, 'derivedFrom', None)\n",
    "    observation_schema['component'] = getattr(obs, 'component', None)\n",
    "\n",
    "    return observation_schema    "
   ]
  },
  {
   "cell_type": "code",
   "execution_count": 96,
   "id": "a18ac1dc-fad3-4e2b-8ae0-0a3175823738",
   "metadata": {},
   "outputs": [],
   "source": [
    "parse_results = []\n",
    "for entry in bundle.entry: ## TESTING\n",
    "    if entry.request.url == 'Observation':\n",
    "        result = observation_resource_parser(entry.resource)\n",
    "        parse_results.append(result)\n",
    "\n",
    "# parse_results"
   ]
  },
  {
   "cell_type": "markdown",
   "id": "29ee1ec5-f2b8-44d8-8d51-adc413b128e7",
   "metadata": {},
   "source": []
  },
  {
   "cell_type": "markdown",
   "id": "d4a3682d-52a7-4962-a5ec-774671236098",
   "metadata": {},
   "source": [
    "## Procedure Resource"
   ]
  },
  {
   "cell_type": "code",
   "execution_count": 111,
   "id": "32d0d5be-1c76-45b5-a9ac-4e05894386c9",
   "metadata": {},
   "outputs": [
    {
     "data": {
      "text/plain": [
       "fhir.resources.R4B.procedure.Procedure"
      ]
     },
     "execution_count": 111,
     "metadata": {},
     "output_type": "execute_result"
    }
   ],
   "source": [
    "type(bundle.entry[24].resource)"
   ]
  },
  {
   "cell_type": "code",
   "execution_count": 112,
   "id": "8b77e400-88ca-44b8-b0db-a519dfa0ee21",
   "metadata": {},
   "outputs": [
    {
     "data": {
      "text/plain": [
       "Procedure(fhir_comments=None, id='69ee986f-4c92-d211-ba91-1f70f72974a6', implicitRules=None, implicitRules__ext=None, language=None, language__ext=None, meta=Meta(fhir_comments=None, extension=None, id=None, lastUpdated=None, lastUpdated__ext=None, profile=['http://hl7.org/fhir/us/core/StructureDefinition/us-core-procedure'], profile__ext=None, security=None, source=None, source__ext=None, tag=None, versionId=None, versionId__ext=None), contained=None, extension=None, modifierExtension=None, text=None, asserter=None, basedOn=None, bodySite=None, category=None, code=CodeableConcept(fhir_comments=None, extension=None, id=None, coding=[Coding(fhir_comments=None, extension=None, id=None, code='430193006', code__ext=None, display='Medication reconciliation (procedure)', display__ext=None, system='http://snomed.info/sct', system__ext=None, userSelected=None, userSelected__ext=None, version=None, version__ext=None)], text='Medication reconciliation (procedure)', text__ext=None), complication=None, complicationDetail=None, encounter=Reference(fhir_comments=None, extension=None, id=None, display=None, display__ext=None, identifier=None, reference='urn:uuid:8e3a5914-280f-9e60-8b84-ceb68c2b1956', reference__ext=None, type=None, type__ext=None), focalDevice=None, followUp=None, identifier=None, instantiatesCanonical=None, instantiatesCanonical__ext=None, instantiatesUri=None, instantiatesUri__ext=None, location=Reference(fhir_comments=None, extension=None, id=None, display='PERSONAL PHYSICIANS HEALTHCARE PC', display__ext=None, identifier=None, reference='Location?identifier=https://github.com/synthetichealth/synthea|30f41284-e55c-3df1-a38f-e850ab726745', reference__ext=None, type=None, type__ext=None), note=None, outcome=None, partOf=None, performedAge=None, performedDateTime=None, performedDateTime__ext=None, performedPeriod=Period(fhir_comments=None, extension=None, id=None, end=datetime.datetime(2018, 12, 5, 6, 56, 28, tzinfo=TzInfo(UTC)), end__ext=None, start=datetime.datetime(2018, 12, 5, 6, 41, 28, tzinfo=TzInfo(UTC)), start__ext=None), performedRange=None, performedString=None, performedString__ext=None, performer=None, reasonCode=None, reasonReference=None, recorder=None, report=None, status='completed', status__ext=None, statusReason=None, subject=Reference(fhir_comments=None, extension=None, id=None, display=None, display__ext=None, identifier=None, reference='urn:uuid:2a734a29-efb1-eec9-2f44-24374e1b1d6f', reference__ext=None, type=None, type__ext=None), usedCode=None, usedReference=None)"
      ]
     },
     "execution_count": 112,
     "metadata": {},
     "output_type": "execute_result"
    }
   ],
   "source": [
    "procedure = bundle.entry[24].resource\n",
    "procedure"
   ]
  },
  {
   "cell_type": "code",
   "execution_count": null,
   "id": "07d1868c-dce4-4ad1-9b49-1dcb38e9bb98",
   "metadata": {},
   "outputs": [],
   "source": []
  },
  {
   "cell_type": "code",
   "execution_count": 118,
   "id": "d96cbf24-21bb-4c6f-824b-ce48e30120d3",
   "metadata": {},
   "outputs": [
    {
     "data": {
      "text/plain": [
       "Patient(fhir_comments=None, id='2a734a29-efb1-eec9-2f44-24374e1b1d6f', implicitRules=None, implicitRules__ext=None, language=None, language__ext=None, meta=Meta(fhir_comments=None, extension=None, id=None, lastUpdated=None, lastUpdated__ext=None, profile=['http://hl7.org/fhir/us/core/StructureDefinition/us-core-patient'], profile__ext=None, security=None, source=None, source__ext=None, tag=None, versionId=None, versionId__ext=None), contained=None, extension=[Extension(fhir_comments=None, extension=[Extension(fhir_comments=None, extension=None, id=None, url='ombCategory', valueAddress=None, valueAge=None, valueAnnotation=None, valueAttachment=None, valueBase64Binary=None, valueBoolean=None, valueCanonical=None, valueCode=None, valueCodeableConcept=None, valueCodeableReference=None, valueCoding=Coding(fhir_comments=None, extension=None, id=None, code='2028-9', code__ext=None, display='Asian', display__ext=None, system='urn:oid:2.16.840.1.113883.6.238', system__ext=None, userSelected=None, userSelected__ext=None, version=None, version__ext=None), valueContactDetail=None, valueContactPoint=None, valueContributor=None, valueCount=None, valueDataRequirement=None, valueDate=None, valueDateTime=None, valueDecimal=None, valueDistance=None, valueDosage=None, valueDuration=None, valueExpression=None, valueHumanName=None, valueId=None, valueIdentifier=None, valueInstant=None, valueInteger=None, valueMarkdown=None, valueMoney=None, valueOid=None, valueParameterDefinition=None, valuePeriod=None, valuePositiveInt=None, valueQuantity=None, valueRange=None, valueRatio=None, valueRatioRange=None, valueReference=None, valueRelatedArtifact=None, valueSampledData=None, valueSignature=None, valueString=None, valueTime=None, valueTiming=None, valueTriggerDefinition=None, valueUnsignedInt=None, valueUri=None, valueUrl=None, valueUsageContext=None, valueUuid=None), Extension(fhir_comments=None, extension=None, id=None, url='text', valueAddress=None, valueAge=None, valueAnnotation=None, valueAttachment=None, valueBase64Binary=None, valueBoolean=None, valueCanonical=None, valueCode=None, valueCodeableConcept=None, valueCodeableReference=None, valueCoding=None, valueContactDetail=None, valueContactPoint=None, valueContributor=None, valueCount=None, valueDataRequirement=None, valueDate=None, valueDateTime=None, valueDecimal=None, valueDistance=None, valueDosage=None, valueDuration=None, valueExpression=None, valueHumanName=None, valueId=None, valueIdentifier=None, valueInstant=None, valueInteger=None, valueMarkdown=None, valueMoney=None, valueOid=None, valueParameterDefinition=None, valuePeriod=None, valuePositiveInt=None, valueQuantity=None, valueRange=None, valueRatio=None, valueRatioRange=None, valueReference=None, valueRelatedArtifact=None, valueSampledData=None, valueSignature=None, valueString='Asian', valueTime=None, valueTiming=None, valueTriggerDefinition=None, valueUnsignedInt=None, valueUri=None, valueUrl=None, valueUsageContext=None, valueUuid=None)], id=None, url='http://hl7.org/fhir/us/core/StructureDefinition/us-core-race', valueAddress=None, valueAge=None, valueAnnotation=None, valueAttachment=None, valueBase64Binary=None, valueBoolean=None, valueCanonical=None, valueCode=None, valueCodeableConcept=None, valueCodeableReference=None, valueCoding=None, valueContactDetail=None, valueContactPoint=None, valueContributor=None, valueCount=None, valueDataRequirement=None, valueDate=None, valueDateTime=None, valueDecimal=None, valueDistance=None, valueDosage=None, valueDuration=None, valueExpression=None, valueHumanName=None, valueId=None, valueIdentifier=None, valueInstant=None, valueInteger=None, valueMarkdown=None, valueMoney=None, valueOid=None, valueParameterDefinition=None, valuePeriod=None, valuePositiveInt=None, valueQuantity=None, valueRange=None, valueRatio=None, valueRatioRange=None, valueReference=None, valueRelatedArtifact=None, valueSampledData=None, valueSignature=None, valueString=None, valueTime=None, valueTiming=None, valueTriggerDefinition=None, valueUnsignedInt=None, valueUri=None, valueUrl=None, valueUsageContext=None, valueUuid=None), Extension(fhir_comments=None, extension=[Extension(fhir_comments=None, extension=None, id=None, url='ombCategory', valueAddress=None, valueAge=None, valueAnnotation=None, valueAttachment=None, valueBase64Binary=None, valueBoolean=None, valueCanonical=None, valueCode=None, valueCodeableConcept=None, valueCodeableReference=None, valueCoding=Coding(fhir_comments=None, extension=None, id=None, code='2135-2', code__ext=None, display='Hispanic or Latino', display__ext=None, system='urn:oid:2.16.840.1.113883.6.238', system__ext=None, userSelected=None, userSelected__ext=None, version=None, version__ext=None), valueContactDetail=None, valueContactPoint=None, valueContributor=None, valueCount=None, valueDataRequirement=None, valueDate=None, valueDateTime=None, valueDecimal=None, valueDistance=None, valueDosage=None, valueDuration=None, valueExpression=None, valueHumanName=None, valueId=None, valueIdentifier=None, valueInstant=None, valueInteger=None, valueMarkdown=None, valueMoney=None, valueOid=None, valueParameterDefinition=None, valuePeriod=None, valuePositiveInt=None, valueQuantity=None, valueRange=None, valueRatio=None, valueRatioRange=None, valueReference=None, valueRelatedArtifact=None, valueSampledData=None, valueSignature=None, valueString=None, valueTime=None, valueTiming=None, valueTriggerDefinition=None, valueUnsignedInt=None, valueUri=None, valueUrl=None, valueUsageContext=None, valueUuid=None), Extension(fhir_comments=None, extension=None, id=None, url='text', valueAddress=None, valueAge=None, valueAnnotation=None, valueAttachment=None, valueBase64Binary=None, valueBoolean=None, valueCanonical=None, valueCode=None, valueCodeableConcept=None, valueCodeableReference=None, valueCoding=None, valueContactDetail=None, valueContactPoint=None, valueContributor=None, valueCount=None, valueDataRequirement=None, valueDate=None, valueDateTime=None, valueDecimal=None, valueDistance=None, valueDosage=None, valueDuration=None, valueExpression=None, valueHumanName=None, valueId=None, valueIdentifier=None, valueInstant=None, valueInteger=None, valueMarkdown=None, valueMoney=None, valueOid=None, valueParameterDefinition=None, valuePeriod=None, valuePositiveInt=None, valueQuantity=None, valueRange=None, valueRatio=None, valueRatioRange=None, valueReference=None, valueRelatedArtifact=None, valueSampledData=None, valueSignature=None, valueString='Hispanic or Latino', valueTime=None, valueTiming=None, valueTriggerDefinition=None, valueUnsignedInt=None, valueUri=None, valueUrl=None, valueUsageContext=None, valueUuid=None)], id=None, url='http://hl7.org/fhir/us/core/StructureDefinition/us-core-ethnicity', valueAddress=None, valueAge=None, valueAnnotation=None, valueAttachment=None, valueBase64Binary=None, valueBoolean=None, valueCanonical=None, valueCode=None, valueCodeableConcept=None, valueCodeableReference=None, valueCoding=None, valueContactDetail=None, valueContactPoint=None, valueContributor=None, valueCount=None, valueDataRequirement=None, valueDate=None, valueDateTime=None, valueDecimal=None, valueDistance=None, valueDosage=None, valueDuration=None, valueExpression=None, valueHumanName=None, valueId=None, valueIdentifier=None, valueInstant=None, valueInteger=None, valueMarkdown=None, valueMoney=None, valueOid=None, valueParameterDefinition=None, valuePeriod=None, valuePositiveInt=None, valueQuantity=None, valueRange=None, valueRatio=None, valueRatioRange=None, valueReference=None, valueRelatedArtifact=None, valueSampledData=None, valueSignature=None, valueString=None, valueTime=None, valueTiming=None, valueTriggerDefinition=None, valueUnsignedInt=None, valueUri=None, valueUrl=None, valueUsageContext=None, valueUuid=None), Extension(fhir_comments=None, extension=None, id=None, url='http://hl7.org/fhir/StructureDefinition/patient-mothersMaidenName', valueAddress=None, valueAge=None, valueAnnotation=None, valueAttachment=None, valueBase64Binary=None, valueBoolean=None, valueCanonical=None, valueCode=None, valueCodeableConcept=None, valueCodeableReference=None, valueCoding=None, valueContactDetail=None, valueContactPoint=None, valueContributor=None, valueCount=None, valueDataRequirement=None, valueDate=None, valueDateTime=None, valueDecimal=None, valueDistance=None, valueDosage=None, valueDuration=None, valueExpression=None, valueHumanName=None, valueId=None, valueIdentifier=None, valueInstant=None, valueInteger=None, valueMarkdown=None, valueMoney=None, valueOid=None, valueParameterDefinition=None, valuePeriod=None, valuePositiveInt=None, valueQuantity=None, valueRange=None, valueRatio=None, valueRatioRange=None, valueReference=None, valueRelatedArtifact=None, valueSampledData=None, valueSignature=None, valueString='Anita473 Patiño436', valueTime=None, valueTiming=None, valueTriggerDefinition=None, valueUnsignedInt=None, valueUri=None, valueUrl=None, valueUsageContext=None, valueUuid=None), Extension(fhir_comments=None, extension=None, id=None, url='http://hl7.org/fhir/us/core/StructureDefinition/us-core-birthsex', valueAddress=None, valueAge=None, valueAnnotation=None, valueAttachment=None, valueBase64Binary=None, valueBoolean=None, valueCanonical=None, valueCode='F', valueCodeableConcept=None, valueCodeableReference=None, valueCoding=None, valueContactDetail=None, valueContactPoint=None, valueContributor=None, valueCount=None, valueDataRequirement=None, valueDate=None, valueDateTime=None, valueDecimal=None, valueDistance=None, valueDosage=None, valueDuration=None, valueExpression=None, valueHumanName=None, valueId=None, valueIdentifier=None, valueInstant=None, valueInteger=None, valueMarkdown=None, valueMoney=None, valueOid=None, valueParameterDefinition=None, valuePeriod=None, valuePositiveInt=None, valueQuantity=None, valueRange=None, valueRatio=None, valueRatioRange=None, valueReference=None, valueRelatedArtifact=None, valueSampledData=None, valueSignature=None, valueString=None, valueTime=None, valueTiming=None, valueTriggerDefinition=None, valueUnsignedInt=None, valueUri=None, valueUrl=None, valueUsageContext=None, valueUuid=None), Extension(fhir_comments=None, extension=None, id=None, url='http://hl7.org/fhir/StructureDefinition/patient-birthPlace', valueAddress=Address(fhir_comments=None, extension=None, id=None, city='Marigot', city__ext=None, country='DM', country__ext=None, district=None, district__ext=None, line=None, line__ext=None, period=None, postalCode=None, postalCode__ext=None, state='Saint Andrew Parish', state__ext=None, text=None, text__ext=None, type=None, type__ext=None, use=None, use__ext=None), valueAge=None, valueAnnotation=None, valueAttachment=None, valueBase64Binary=None, valueBoolean=None, valueCanonical=None, valueCode=None, valueCodeableConcept=None, valueCodeableReference=None, valueCoding=None, valueContactDetail=None, valueContactPoint=None, valueContributor=None, valueCount=None, valueDataRequirement=None, valueDate=None, valueDateTime=None, valueDecimal=None, valueDistance=None, valueDosage=None, valueDuration=None, valueExpression=None, valueHumanName=None, valueId=None, valueIdentifier=None, valueInstant=None, valueInteger=None, valueMarkdown=None, valueMoney=None, valueOid=None, valueParameterDefinition=None, valuePeriod=None, valuePositiveInt=None, valueQuantity=None, valueRange=None, valueRatio=None, valueRatioRange=None, valueReference=None, valueRelatedArtifact=None, valueSampledData=None, valueSignature=None, valueString=None, valueTime=None, valueTiming=None, valueTriggerDefinition=None, valueUnsignedInt=None, valueUri=None, valueUrl=None, valueUsageContext=None, valueUuid=None), Extension(fhir_comments=None, extension=None, id=None, url='http://synthetichealth.github.io/synthea/disability-adjusted-life-years', valueAddress=None, valueAge=None, valueAnnotation=None, valueAttachment=None, valueBase64Binary=None, valueBoolean=None, valueCanonical=None, valueCode=None, valueCodeableConcept=None, valueCodeableReference=None, valueCoding=None, valueContactDetail=None, valueContactPoint=None, valueContributor=None, valueCount=None, valueDataRequirement=None, valueDate=None, valueDateTime=None, valueDecimal=Decimal('0'), valueDistance=None, valueDosage=None, valueDuration=None, valueExpression=None, valueHumanName=None, valueId=None, valueIdentifier=None, valueInstant=None, valueInteger=None, valueMarkdown=None, valueMoney=None, valueOid=None, valueParameterDefinition=None, valuePeriod=None, valuePositiveInt=None, valueQuantity=None, valueRange=None, valueRatio=None, valueRatioRange=None, valueReference=None, valueRelatedArtifact=None, valueSampledData=None, valueSignature=None, valueString=None, valueTime=None, valueTiming=None, valueTriggerDefinition=None, valueUnsignedInt=None, valueUri=None, valueUrl=None, valueUsageContext=None, valueUuid=None), Extension(fhir_comments=None, extension=None, id=None, url='http://synthetichealth.github.io/synthea/quality-adjusted-life-years', valueAddress=None, valueAge=None, valueAnnotation=None, valueAttachment=None, valueBase64Binary=None, valueBoolean=None, valueCanonical=None, valueCode=None, valueCodeableConcept=None, valueCodeableReference=None, valueCoding=None, valueContactDetail=None, valueContactPoint=None, valueContributor=None, valueCount=None, valueDataRequirement=None, valueDate=None, valueDateTime=None, valueDecimal=Decimal('6'), valueDistance=None, valueDosage=None, valueDuration=None, valueExpression=None, valueHumanName=None, valueId=None, valueIdentifier=None, valueInstant=None, valueInteger=None, valueMarkdown=None, valueMoney=None, valueOid=None, valueParameterDefinition=None, valuePeriod=None, valuePositiveInt=None, valueQuantity=None, valueRange=None, valueRatio=None, valueRatioRange=None, valueReference=None, valueRelatedArtifact=None, valueSampledData=None, valueSignature=None, valueString=None, valueTime=None, valueTiming=None, valueTriggerDefinition=None, valueUnsignedInt=None, valueUri=None, valueUrl=None, valueUsageContext=None, valueUuid=None)], modifierExtension=None, text=Narrative(fhir_comments=None, extension=None, id=None, div='<div xmlns=\"http://www.w3.org/1999/xhtml\">Generated by <a href=\"https://github.com/synthetichealth/synthea\">Synthea</a>.Version identifier: master-branch-latest\\n .   Person seed: -2071881202856770153  Population seed: 1742780718013</div>', div__ext=None, status='generated', status__ext=None), active=None, active__ext=None, address=[Address(fhir_comments=None, extension=[Extension(fhir_comments=None, extension=[Extension(fhir_comments=None, extension=None, id=None, url='latitude', valueAddress=None, valueAge=None, valueAnnotation=None, valueAttachment=None, valueBase64Binary=None, valueBoolean=None, valueCanonical=None, valueCode=None, valueCodeableConcept=None, valueCodeableReference=None, valueCoding=None, valueContactDetail=None, valueContactPoint=None, valueContributor=None, valueCount=None, valueDataRequirement=None, valueDate=None, valueDateTime=None, valueDecimal=Decimal('42.30935851339160080897272564470767974853515625'), valueDistance=None, valueDosage=None, valueDuration=None, valueExpression=None, valueHumanName=None, valueId=None, valueIdentifier=None, valueInstant=None, valueInteger=None, valueMarkdown=None, valueMoney=None, valueOid=None, valueParameterDefinition=None, valuePeriod=None, valuePositiveInt=None, valueQuantity=None, valueRange=None, valueRatio=None, valueRatioRange=None, valueReference=None, valueRelatedArtifact=None, valueSampledData=None, valueSignature=None, valueString=None, valueTime=None, valueTiming=None, valueTriggerDefinition=None, valueUnsignedInt=None, valueUri=None, valueUrl=None, valueUsageContext=None, valueUuid=None), Extension(fhir_comments=None, extension=None, id=None, url='longitude', valueAddress=None, valueAge=None, valueAnnotation=None, valueAttachment=None, valueBase64Binary=None, valueBoolean=None, valueCanonical=None, valueCode=None, valueCodeableConcept=None, valueCodeableReference=None, valueCoding=None, valueContactDetail=None, valueContactPoint=None, valueContributor=None, valueCount=None, valueDataRequirement=None, valueDate=None, valueDateTime=None, valueDecimal=Decimal('-71.16075209650813349071540869772434234619140625'), valueDistance=None, valueDosage=None, valueDuration=None, valueExpression=None, valueHumanName=None, valueId=None, valueIdentifier=None, valueInstant=None, valueInteger=None, valueMarkdown=None, valueMoney=None, valueOid=None, valueParameterDefinition=None, valuePeriod=None, valuePositiveInt=None, valueQuantity=None, valueRange=None, valueRatio=None, valueRatioRange=None, valueReference=None, valueRelatedArtifact=None, valueSampledData=None, valueSignature=None, valueString=None, valueTime=None, valueTiming=None, valueTriggerDefinition=None, valueUnsignedInt=None, valueUri=None, valueUrl=None, valueUsageContext=None, valueUuid=None)], id=None, url='http://hl7.org/fhir/StructureDefinition/geolocation', valueAddress=None, valueAge=None, valueAnnotation=None, valueAttachment=None, valueBase64Binary=None, valueBoolean=None, valueCanonical=None, valueCode=None, valueCodeableConcept=None, valueCodeableReference=None, valueCoding=None, valueContactDetail=None, valueContactPoint=None, valueContributor=None, valueCount=None, valueDataRequirement=None, valueDate=None, valueDateTime=None, valueDecimal=None, valueDistance=None, valueDosage=None, valueDuration=None, valueExpression=None, valueHumanName=None, valueId=None, valueIdentifier=None, valueInstant=None, valueInteger=None, valueMarkdown=None, valueMoney=None, valueOid=None, valueParameterDefinition=None, valuePeriod=None, valuePositiveInt=None, valueQuantity=None, valueRange=None, valueRatio=None, valueRatioRange=None, valueReference=None, valueRelatedArtifact=None, valueSampledData=None, valueSignature=None, valueString=None, valueTime=None, valueTiming=None, valueTriggerDefinition=None, valueUnsignedInt=None, valueUri=None, valueUrl=None, valueUsageContext=None, valueUuid=None)], id=None, city='Boston', city__ext=None, country='US', country__ext=None, district=None, district__ext=None, line=['633 Streich Hollow'], line__ext=None, period=None, postalCode='02203', postalCode__ext=None, state='MA', state__ext=None, text=None, text__ext=None, type=None, type__ext=None, use=None, use__ext=None)], birthDate=datetime.date(2018, 12, 5), birthDate__ext=None, communication=[PatientCommunication(fhir_comments=None, extension=None, id=None, modifierExtension=None, language=CodeableConcept(fhir_comments=None, extension=None, id=None, coding=[Coding(fhir_comments=None, extension=None, id=None, code='es', code__ext=None, display='Spanish', display__ext=None, system='urn:ietf:bcp:47', system__ext=None, userSelected=None, userSelected__ext=None, version=None, version__ext=None)], text='Spanish', text__ext=None), preferred=None, preferred__ext=None)], contact=None, deceasedBoolean=None, deceasedBoolean__ext=None, deceasedDateTime=None, deceasedDateTime__ext=None, gender='female', gender__ext=None, generalPractitioner=None, identifier=[Identifier(fhir_comments=None, extension=None, id=None, assigner=None, period=None, system='https://github.com/synthetichealth/synthea', system__ext=None, type=None, use=None, use__ext=None, value='2a734a29-efb1-eec9-2f44-24374e1b1d6f', value__ext=None), Identifier(fhir_comments=None, extension=None, id=None, assigner=None, period=None, system='http://hospital.smarthealthit.org', system__ext=None, type=CodeableConcept(fhir_comments=None, extension=None, id=None, coding=[Coding(fhir_comments=None, extension=None, id=None, code='MR', code__ext=None, display='Medical Record Number', display__ext=None, system='http://terminology.hl7.org/CodeSystem/v2-0203', system__ext=None, userSelected=None, userSelected__ext=None, version=None, version__ext=None)], text='Medical Record Number', text__ext=None), use=None, use__ext=None, value='2a734a29-efb1-eec9-2f44-24374e1b1d6f', value__ext=None), Identifier(fhir_comments=None, extension=None, id=None, assigner=None, period=None, system='http://hl7.org/fhir/sid/us-ssn', system__ext=None, type=CodeableConcept(fhir_comments=None, extension=None, id=None, coding=[Coding(fhir_comments=None, extension=None, id=None, code='SS', code__ext=None, display='Social Security Number', display__ext=None, system='http://terminology.hl7.org/CodeSystem/v2-0203', system__ext=None, userSelected=None, userSelected__ext=None, version=None, version__ext=None)], text='Social Security Number', text__ext=None), use=None, use__ext=None, value='999-14-1972', value__ext=None)], link=None, managingOrganization=None, maritalStatus=CodeableConcept(fhir_comments=None, extension=None, id=None, coding=[Coding(fhir_comments=None, extension=None, id=None, code='S', code__ext=None, display='Never Married', display__ext=None, system='http://terminology.hl7.org/CodeSystem/v3-MaritalStatus', system__ext=None, userSelected=None, userSelected__ext=None, version=None, version__ext=None)], text='Never Married', text__ext=None), multipleBirthBoolean=False, multipleBirthBoolean__ext=None, multipleBirthInteger=None, multipleBirthInteger__ext=None, name=[HumanName(fhir_comments=None, extension=None, id=None, family='Alonso270', family__ext=None, given=['Ana972', 'Leticia253'], given__ext=None, period=None, prefix=None, prefix__ext=None, suffix=None, suffix__ext=None, text=None, text__ext=None, use='official', use__ext=None)], photo=None, telecom=[ContactPoint(fhir_comments=None, extension=None, id=None, period=None, rank=None, rank__ext=None, system='phone', system__ext=None, use='home', use__ext=None, value='555-309-4868', value__ext=None)])"
      ]
     },
     "execution_count": 118,
     "metadata": {},
     "output_type": "execute_result"
    }
   ],
   "source": [
    "bundle.entry[0].resource"
   ]
  },
  {
   "cell_type": "code",
   "execution_count": null,
   "id": "1e509226-9ed7-45bb-9765-209577898e7f",
   "metadata": {},
   "outputs": [],
   "source": []
  }
 ],
 "metadata": {
  "kernelspec": {
   "display_name": "Python 3 (ipykernel)",
   "language": "python",
   "name": "python3"
  },
  "language_info": {
   "codemirror_mode": {
    "name": "ipython",
    "version": 3
   },
   "file_extension": ".py",
   "mimetype": "text/x-python",
   "name": "python",
   "nbconvert_exporter": "python",
   "pygments_lexer": "ipython3",
   "version": "3.11.11"
  }
 },
 "nbformat": 4,
 "nbformat_minor": 5
}
