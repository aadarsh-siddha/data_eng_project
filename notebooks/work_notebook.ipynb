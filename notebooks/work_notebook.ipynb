{
 "cells": [
  {
   "cell_type": "code",
   "execution_count": null,
   "metadata": {
    "vscode": {
     "languageId": "plaintext"
    }
   },
   "outputs": [],
   "source": [
    "# !pip install fhir.resources\n",
    "import json\n",
    "from fhir.resources.R4B.bundle import Bundle"
   ]
  },
  {
   "cell_type": "code",
   "execution_count": null,
   "metadata": {
    "vscode": {
     "languageId": "plaintext"
    }
   },
   "outputs": [],
   "source": [
    "json_file_path = 'synthea/output/fhir/Delbert384_Cummings51_39055503-68de-ca85-9d7e-2548201875ee.json'"
   ]
  },
  {
   "cell_type": "code",
   "execution_count": null,
   "metadata": {
    "vscode": {
     "languageId": "plaintext"
    }
   },
   "outputs": [],
   "source": [
    "with open(json_file_path) as f:\n",
    "    data = json.load(f)\n",
    "\n",
    "# Validate root bundle structure\n",
    "bundle = Bundle(**data)"
   ]
  }
 ],
 "metadata": {
  "language_info": {
   "name": "python"
  }
 },
 "nbformat": 4,
 "nbformat_minor": 2
}
