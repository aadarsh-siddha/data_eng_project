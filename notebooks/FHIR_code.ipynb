{
 "cells": [
  {
   "cell_type": "code",
   "execution_count": 1,
   "id": "d7827d17-6997-46b1-abcd-d2083362bc92",
   "metadata": {},
   "outputs": [],
   "source": [
    "# !pip install fhir.resources\n",
    "import json\n",
    "from fhir.resources.R4B.bundle import Bundle"
   ]
  },
  {
   "cell_type": "code",
   "execution_count": 4,
   "id": "d4302cca-00b5-44b7-a5bb-9f146bdc59b8",
   "metadata": {},
   "outputs": [],
   "source": [
    "json_file_path = 'synthea/output/fhir/Delbert384_Cummings51_39055503-68de-ca85-9d7e-2548201875ee.json'"
   ]
  },
  {
   "cell_type": "code",
   "execution_count": 5,
   "id": "00b468fd-ccc9-43bf-bc93-643a87906770",
   "metadata": {},
   "outputs": [],
   "source": [
    "with open(json_file_path) as f:\n",
    "    data = json.load(f)\n",
    "\n",
    "# Validate root bundle structure\n",
    "bundle = Bundle(**data)"
   ]
  },
  {
   "cell_type": "code",
   "execution_count": null,
   "id": "660a8bac",
   "metadata": {},
   "outputs": [],
   "source": [
    "def codeable_concept_parser(cc):\n",
    "    code = \"\"\n",
    "\n",
    "    for i,codings in enumerate(cc.coding):\n",
    "        code = code + codings.code\n",
    "        if i > 0 and i < len(cc.coding):\n",
    "            code = code + \",\"\n",
    "    return code\n",
    "\n",
    "def n_codeable_concept_parser(codeable_list):\n",
    "    for i,codeable in enumerate(codeable_list):\n",
    "        codes = codeable_concept_parser(codeable)\n",
    "        if i > 0 and i == len(codeable_list) - 1:\n",
    "            codes += \",\"\n",
    "\n",
    "    return codes"
   ]
  },
  {
   "cell_type": "markdown",
   "id": "fd8957be-528e-4ebc-9461-e6b023c56d76",
   "metadata": {},
   "source": [
    "## Pataient Resource"
   ]
  },
  {
   "cell_type": "code",
   "execution_count": 6,
   "id": "32e4e478-28c9-4fa9-9069-bcfd6d3dd03c",
   "metadata": {},
   "outputs": [
    {
     "data": {
      "text/plain": [
       "fhir.resources.R4B.patient.Patient"
      ]
     },
     "execution_count": 6,
     "metadata": {},
     "output_type": "execute_result"
    }
   ],
   "source": [
    "type(bundle.entry[0].resource)"
   ]
  },
  {
   "cell_type": "code",
   "execution_count": 7,
   "id": "ce0dde9f-8fbc-4ccb-aa71-b8bc5b095afa",
   "metadata": {},
   "outputs": [],
   "source": [
    "pat = bundle.entry[0].resource"
   ]
  },
  {
   "cell_type": "code",
   "execution_count": 8,
   "id": "51c55a16-9590-4b6c-abf2-ecf1dca4cc5e",
   "metadata": {},
   "outputs": [],
   "source": [
    "patient_schema = dict()"
   ]
  },
  {
   "cell_type": "code",
   "execution_count": 9,
   "id": "f3afb3a2-a402-40c6-82b4-7736d120098f",
   "metadata": {},
   "outputs": [
    {
     "data": {
      "text/plain": [
       "[HumanName(fhir_comments=None, extension=None, id=None, family='Cummings51', family__ext=None, given=['Delbert384', 'Bill567'], given__ext=None, period=None, prefix=['Mr.'], prefix__ext=None, suffix=None, suffix__ext=None, text=None, text__ext=None, use='official', use__ext=None)]"
      ]
     },
     "execution_count": 9,
     "metadata": {},
     "output_type": "execute_result"
    }
   ],
   "source": [
    "pat.name"
   ]
  },
  {
   "cell_type": "code",
   "execution_count": 10,
   "id": "056ecc32-5f77-4ef3-81d6-d367777fc31a",
   "metadata": {},
   "outputs": [],
   "source": [
    "patient_schema['last_name'] = pat.name[0].family\n",
    "patient_schema['prefix_name'] = pat.name[0].prefix[0]\n",
    "patient_schema['first_name'] = pat.name[0].given[0]\n",
    "patient_schema['middle_name'] = pat.name[0].given[1] if len(pat.name[0].given) > 1 else None"
   ]
  },
  {
   "cell_type": "code",
   "execution_count": 11,
   "id": "6d6afd97-fcf7-443b-8c7d-1349d9aa2930",
   "metadata": {},
   "outputs": [
    {
     "data": {
      "text/plain": [
       "[Identifier(fhir_comments=None, extension=None, id=None, assigner=None, period=None, system='https://github.com/synthetichealth/synthea', system__ext=None, type=None, use=None, use__ext=None, value='39055503-68de-ca85-9d7e-2548201875ee', value__ext=None),\n",
       " Identifier(fhir_comments=None, extension=None, id=None, assigner=None, period=None, system='http://hospital.smarthealthit.org', system__ext=None, type=CodeableConcept(fhir_comments=None, extension=None, id=None, coding=[Coding(fhir_comments=None, extension=None, id=None, code='MR', code__ext=None, display='Medical Record Number', display__ext=None, system='http://terminology.hl7.org/CodeSystem/v2-0203', system__ext=None, userSelected=None, userSelected__ext=None, version=None, version__ext=None)], text='Medical Record Number', text__ext=None), use=None, use__ext=None, value='39055503-68de-ca85-9d7e-2548201875ee', value__ext=None),\n",
       " Identifier(fhir_comments=None, extension=None, id=None, assigner=None, period=None, system='http://hl7.org/fhir/sid/us-ssn', system__ext=None, type=CodeableConcept(fhir_comments=None, extension=None, id=None, coding=[Coding(fhir_comments=None, extension=None, id=None, code='SS', code__ext=None, display='Social Security Number', display__ext=None, system='http://terminology.hl7.org/CodeSystem/v2-0203', system__ext=None, userSelected=None, userSelected__ext=None, version=None, version__ext=None)], text='Social Security Number', text__ext=None), use=None, use__ext=None, value='999-49-5247', value__ext=None),\n",
       " Identifier(fhir_comments=None, extension=None, id=None, assigner=None, period=None, system='urn:oid:2.16.840.1.113883.4.3.25', system__ext=None, type=CodeableConcept(fhir_comments=None, extension=None, id=None, coding=[Coding(fhir_comments=None, extension=None, id=None, code='DL', code__ext=None, display=\"Driver's license number\", display__ext=None, system='http://terminology.hl7.org/CodeSystem/v2-0203', system__ext=None, userSelected=None, userSelected__ext=None, version=None, version__ext=None)], text=\"Driver's license number\", text__ext=None), use=None, use__ext=None, value='S99996490', value__ext=None),\n",
       " Identifier(fhir_comments=None, extension=None, id=None, assigner=None, period=None, system='http://hl7.org/fhir/sid/passport-USA', system__ext=None, type=CodeableConcept(fhir_comments=None, extension=None, id=None, coding=[Coding(fhir_comments=None, extension=None, id=None, code='PPN', code__ext=None, display='Passport Number', display__ext=None, system='http://terminology.hl7.org/CodeSystem/v2-0203', system__ext=None, userSelected=None, userSelected__ext=None, version=None, version__ext=None)], text='Passport Number', text__ext=None), use=None, use__ext=None, value='X37616068X', value__ext=None)]"
      ]
     },
     "execution_count": 11,
     "metadata": {},
     "output_type": "execute_result"
    }
   ],
   "source": [
    "pat.identifier"
   ]
  },
  {
   "cell_type": "code",
   "execution_count": 12,
   "id": "7674d3a2-54df-44e4-935d-3cc0d250caf9",
   "metadata": {},
   "outputs": [],
   "source": [
    "patient_schema['ID'] = pat.id \n",
    "for identifier in pat.identifier:\n",
    "    if identifier.type != None:\n",
    "        patient_schema[identifier.type.coding[0].code] = identifier.value"
   ]
  },
  {
   "cell_type": "code",
   "execution_count": 13,
   "id": "c6f973d3-722b-49eb-8801-17232545812f",
   "metadata": {},
   "outputs": [],
   "source": [
    "for i,contacts in enumerate(pat.telecom):\n",
    "    patient_schema[f'phone_{i}'] = contacts.value"
   ]
  },
  {
   "cell_type": "code",
   "execution_count": 14,
   "id": "2fa7c123-f1cf-484f-8c0c-8c297eced6b4",
   "metadata": {},
   "outputs": [],
   "source": [
    "patient_schema['gender'] = getattr(pat, 'gender', None)\n",
    "patient_schema['deceased'] = getattr(pat, 'deceased', None)\n",
    "patient_schema['deceased_boolean'] = pat.deceasedBoolean\n",
    "patient_schema['deceased_timestamp'] = pat.deceasedDateTime\n",
    "patient_schema['multiple_birth_boolean'] = pat.multipleBirthBoolean\n",
    "patient_schema['multiple_birth_integer'] = pat.multipleBirthInteger\n",
    "patient_schema['marital_status'] = (pat.maritalStatus.coding[0].display).lower()"
   ]
  },
  {
   "cell_type": "code",
   "execution_count": 15,
   "id": "8485822f-8ddb-4702-988f-ac4169281983",
   "metadata": {},
   "outputs": [],
   "source": [
    "patient_schema['city'] = pat.address[0].city\n",
    "patient_schema['country'] = pat.address[0].country\n",
    "patient_schema['postal_code'] = pat.address[0].postalCode\n",
    "patient_schema['state'] = pat.address[0].state\n",
    "patient_schema['dob'] = pat.birthDate"
   ]
  },
  {
   "cell_type": "code",
   "execution_count": 16,
   "id": "20f04e1a-519b-477c-b12f-2a9b1eecb306",
   "metadata": {},
   "outputs": [
    {
     "data": {
      "text/plain": [
       "{'last_name': 'Cummings51',\n",
       " 'prefix_name': 'Mr.',\n",
       " 'first_name': 'Delbert384',\n",
       " 'middle_name': 'Bill567',\n",
       " 'ID': '39055503-68de-ca85-9d7e-2548201875ee',\n",
       " 'MR': '39055503-68de-ca85-9d7e-2548201875ee',\n",
       " 'SS': '999-49-5247',\n",
       " 'DL': 'S99996490',\n",
       " 'PPN': 'X37616068X',\n",
       " 'phone_0': '555-424-2136',\n",
       " 'gender': 'male',\n",
       " 'deceased': None,\n",
       " 'deceased_boolean': None,\n",
       " 'deceased_timestamp': None,\n",
       " 'multiple_birth_boolean': False,\n",
       " 'multiple_birth_integer': None,\n",
       " 'marital_status': 'married',\n",
       " 'city': 'Duxbury',\n",
       " 'country': 'US',\n",
       " 'postal_code': '02332',\n",
       " 'state': 'MA',\n",
       " 'dob': datetime.date(1982, 8, 18)}"
      ]
     },
     "execution_count": 16,
     "metadata": {},
     "output_type": "execute_result"
    }
   ],
   "source": [
    "patient_schema"
   ]
  },
  {
   "cell_type": "code",
   "execution_count": 17,
   "id": "ac8d64de-8b7f-4eec-8f10-6de6063c2a78",
   "metadata": {},
   "outputs": [],
   "source": [
    "def patient_resource_parser(pat):\n",
    "    patient_schema = dict()\n",
    "    patient_schema['last_name'] = pat.name[0].family\n",
    "    patient_schema['prefix_name'] = pat.name[0].prefix[0]\n",
    "    patient_schema['first_name'] = pat.name[0].given[0]\n",
    "    patient_schema['middle_name'] = pat.name[0].given[1] if len(pat.name[0].given) > 1 else None\n",
    "    patient_schema['ID'] = pat.id \n",
    "    for identifier in pat.identifier:\n",
    "        if identifier.type != None:\n",
    "            patient_schema[identifier.type.coding[0].code] = identifier.value\n",
    "    for i,contacts in enumerate(pat.telecom):\n",
    "        patient_schema[f'phone_{i}'] = contacts.value\n",
    "    patient_schema['gender'] = getattr(pat, 'gender', None)\n",
    "    patient_schema['deceased'] = getattr(pat, 'deceased', None)\n",
    "    patient_schema['deceased_boolean'] = pat.deceasedBoolean\n",
    "    patient_schema['deceased_timestamp'] = pat.deceasedDateTime\n",
    "    patient_schema['multiple_birth_boolean'] = pat.multipleBirthBoolean\n",
    "    patient_schema['multiple_birth_integer'] = pat.multipleBirthInteger\n",
    "    patient_schema['marital_status'] = (pat.maritalStatus.coding[0].display).lower()\n",
    "    patient_schema['city'] = pat.address[0].city\n",
    "    patient_schema['country'] = pat.address[0].country\n",
    "    patient_schema['postal_code'] = pat.address[0].postalCode\n",
    "    patient_schema['state'] = pat.address[0].state\n",
    "    patient_schema['dob'] = pat.birthDate\n",
    "\n",
    "    return patient_schema"
   ]
  },
  {
   "cell_type": "code",
   "execution_count": 18,
   "id": "6940acc7-23e4-4181-9ae0-c5320e6d53dd",
   "metadata": {},
   "outputs": [
    {
     "data": {
      "text/plain": [
       "{'last_name': 'Cummings51',\n",
       " 'prefix_name': 'Mr.',\n",
       " 'first_name': 'Delbert384',\n",
       " 'middle_name': 'Bill567',\n",
       " 'ID': '39055503-68de-ca85-9d7e-2548201875ee',\n",
       " 'MR': '39055503-68de-ca85-9d7e-2548201875ee',\n",
       " 'SS': '999-49-5247',\n",
       " 'DL': 'S99996490',\n",
       " 'PPN': 'X37616068X',\n",
       " 'phone_0': '555-424-2136',\n",
       " 'gender': 'male',\n",
       " 'deceased': None,\n",
       " 'deceased_boolean': None,\n",
       " 'deceased_timestamp': None,\n",
       " 'multiple_birth_boolean': False,\n",
       " 'multiple_birth_integer': None,\n",
       " 'marital_status': 'married',\n",
       " 'city': 'Duxbury',\n",
       " 'country': 'US',\n",
       " 'postal_code': '02332',\n",
       " 'state': 'MA',\n",
       " 'dob': datetime.date(1982, 8, 18)}"
      ]
     },
     "execution_count": 18,
     "metadata": {},
     "output_type": "execute_result"
    }
   ],
   "source": [
    "patient_resource_parser(pat)"
   ]
  },
  {
   "cell_type": "markdown",
   "id": "b38b8a7b-1c52-47df-9917-b025945afa3d",
   "metadata": {},
   "source": [
    "## Encounter Resource"
   ]
  },
  {
   "cell_type": "code",
   "execution_count": 256,
   "id": "fa3f4f8d-3e21-49d3-908b-ba83c48d9190",
   "metadata": {},
   "outputs": [
    {
     "data": {
      "text/plain": [
       "fhir.resources.R4B.encounter.Encounter"
      ]
     },
     "execution_count": 256,
     "metadata": {},
     "output_type": "execute_result"
    }
   ],
   "source": [
    "type(bundle.entry[1].resource)"
   ]
  },
  {
   "cell_type": "code",
   "execution_count": 257,
   "id": "9fdd428f-7ebe-4e06-a03e-049739bf1b1f",
   "metadata": {},
   "outputs": [],
   "source": [
    "encounter = bundle.entry[1].resource"
   ]
  },
  {
   "cell_type": "code",
   "execution_count": 258,
   "id": "2b97b2d1-13c6-4cae-99ad-5b7708c84b14",
   "metadata": {},
   "outputs": [],
   "source": [
    "encounter_schema = dict()"
   ]
  },
  {
   "cell_type": "code",
   "execution_count": 259,
   "id": "1175f61d-f652-4410-ab5b-5f6bc2b749ff",
   "metadata": {},
   "outputs": [
    {
     "data": {
      "text/plain": [
       "fhir.resources.R4B.encounter.Encounter"
      ]
     },
     "execution_count": 259,
     "metadata": {},
     "output_type": "execute_result"
    }
   ],
   "source": [
    "type(encounter)"
   ]
  },
  {
   "cell_type": "code",
   "execution_count": 260,
   "id": "e30cd460-14cf-4c9b-8714-0ef7623d60d4",
   "metadata": {},
   "outputs": [],
   "source": [
    "encounter_schema['ID'] = encounter.id"
   ]
  },
  {
   "cell_type": "code",
   "execution_count": 261,
   "id": "6991ade1-4c8a-42f4-9b3a-25ba7f9facd6",
   "metadata": {},
   "outputs": [],
   "source": [
    "encounter_schema['location'] = encounter.location[0].location.display"
   ]
  },
  {
   "cell_type": "code",
   "execution_count": 262,
   "id": "50863163-e428-436c-a01a-8eaeea493c58",
   "metadata": {},
   "outputs": [],
   "source": [
    "encounter_schema['patient_id'] = encounter.subject.reference"
   ]
  },
  {
   "cell_type": "code",
   "execution_count": 263,
   "id": "418bbd55-6c66-4be3-8bfe-35dc1cbe85f5",
   "metadata": {},
   "outputs": [],
   "source": [
    "encounter_schema['snomed_code'] = encounter.type[0].coding[0].code"
   ]
  },
  {
   "cell_type": "code",
   "execution_count": 264,
   "id": "3411d1b0-40c0-472f-80a1-8daf112862ba",
   "metadata": {},
   "outputs": [],
   "source": [
    "encounter_schema['service_provider'] = encounter.serviceProvider.display"
   ]
  },
  {
   "cell_type": "code",
   "execution_count": 265,
   "id": "8dcec74f-54fd-4497-b466-4ad701b1d809",
   "metadata": {},
   "outputs": [
    {
     "ename": "TypeError",
     "evalue": "'NoneType' object is not subscriptable",
     "output_type": "error",
     "traceback": [
      "\u001b[31m---------------------------------------------------------------------------\u001b[39m",
      "\u001b[31mTypeError\u001b[39m                                 Traceback (most recent call last)",
      "\u001b[36mCell\u001b[39m\u001b[36m \u001b[39m\u001b[32mIn[265]\u001b[39m\u001b[32m, line 1\u001b[39m\n\u001b[32m----> \u001b[39m\u001b[32m1\u001b[39m encounter_schema[\u001b[33m'\u001b[39m\u001b[33mreason_code\u001b[39m\u001b[33m'\u001b[39m] = \u001b[43mencounter\u001b[49m\u001b[43m.\u001b[49m\u001b[43mreasonCode\u001b[49m\u001b[43m[\u001b[49m\u001b[32;43m0\u001b[39;49m\u001b[43m]\u001b[49m.coding[\u001b[32m0\u001b[39m].code\n",
      "\u001b[31mTypeError\u001b[39m: 'NoneType' object is not subscriptable"
     ]
    }
   ],
   "source": [
    "encounter_schema['reason_code'] = encounter.reasonCode[0].coding[0].code"
   ]
  },
  {
   "cell_type": "code",
   "execution_count": 266,
   "id": "359059b1-5ceb-45d4-9d68-01a67a8dddbf",
   "metadata": {},
   "outputs": [],
   "source": [
    "encounter_schema['end_timestamp'] = encounter.period.end\n",
    "encounter_schema['start_timestamp'] = encounter.period.start"
   ]
  },
  {
   "cell_type": "code",
   "execution_count": 267,
   "id": "78df54b3-a3ea-4286-8aec-b77262ba0f78",
   "metadata": {},
   "outputs": [],
   "source": [
    "encounter_schema['doctor'] = encounter.participant[0].individual.display"
   ]
  },
  {
   "cell_type": "code",
   "execution_count": 268,
   "id": "ac52ca7d-1077-4484-aa9d-6dbe714bc967",
   "metadata": {},
   "outputs": [],
   "source": [
    "def encounter_resource_parser(encounter):\n",
    "    encounter_schema = dict()\n",
    "    encounter_schema['ID'] = encounter.id\n",
    "    encounter_schema['location'] = encounter.location[0].location.display\n",
    "    encounter_schema['patient_id'] = encounter.subject.reference\n",
    "    encounter_schema['snomed_code'] = encounter.type[0].coding[0].code\n",
    "    encounter_schema['service_provider'] = encounter.serviceProvider.display\n",
    "    if encounter.reasonCode == None:\n",
    "        encounter_schema['reason_code'] = None\n",
    "    else:\n",
    "        encounter_schema['reason_code'] = encounter.reasonCode[0].coding[0].code\n",
    "    encounter_schema['end_timestamp'] = encounter.period.end\n",
    "    encounter_schema['start_timestamp'] = encounter.period.start\n",
    "    encounter_schema['doctor'] = encounter.participant[0].individual.display\n",
    "\n",
    "    return encounter_schema"
   ]
  },
  {
   "cell_type": "code",
   "execution_count": 125,
   "id": "d296ad58-bfa6-4d94-a13f-6948d41239ca",
   "metadata": {},
   "outputs": [],
   "source": [
    "parse_results = []\n",
    "for entry in bundle.entry:\n",
    "    if entry.request.url == 'Encounter':\n",
    "        result = encounter_resource_parser(entry.resource)\n",
    "        parse_results.append(result)"
   ]
  },
  {
   "cell_type": "markdown",
   "id": "8d19f4bb-fa9a-4a2a-a222-919b9a63dc26",
   "metadata": {},
   "source": [
    "## Condition Resource"
   ]
  },
  {
   "cell_type": "code",
   "execution_count": 269,
   "id": "4d5a5f92-8c1e-45ec-8c12-debc941a7341",
   "metadata": {},
   "outputs": [
    {
     "data": {
      "text/plain": [
       "fhir.resources.R4B.condition.Condition"
      ]
     },
     "execution_count": 269,
     "metadata": {},
     "output_type": "execute_result"
    }
   ],
   "source": [
    "type(bundle.entry[2].resource)"
   ]
  },
  {
   "cell_type": "code",
   "execution_count": 270,
   "id": "d02f8e1b-4d5b-44b1-bdb4-5a3f7fc1f6d2",
   "metadata": {},
   "outputs": [],
   "source": [
    "condition = bundle.entry[2].resource"
   ]
  },
  {
   "cell_type": "code",
   "execution_count": 271,
   "id": "2c09f56c-0807-4615-b69d-7daeaf5d467b",
   "metadata": {},
   "outputs": [
    {
     "data": {
      "text/plain": [
       "Condition(fhir_comments=None, id='d0dbc708-18ea-9d78-1135-d77190d7220c', implicitRules=None, implicitRules__ext=None, language=None, language__ext=None, meta=Meta(fhir_comments=None, extension=None, id=None, lastUpdated=None, lastUpdated__ext=None, profile=['http://hl7.org/fhir/us/core/StructureDefinition/us-core-condition-encounter-diagnosis'], profile__ext=None, security=None, source=None, source__ext=None, tag=None, versionId=None, versionId__ext=None), contained=None, extension=None, modifierExtension=None, text=None, abatementAge=None, abatementDateTime=None, abatementDateTime__ext=None, abatementPeriod=None, abatementRange=None, abatementString=None, abatementString__ext=None, asserter=None, bodySite=None, category=[CodeableConcept(fhir_comments=None, extension=None, id=None, coding=[Coding(fhir_comments=None, extension=None, id=None, code='encounter-diagnosis', code__ext=None, display='Encounter Diagnosis', display__ext=None, system='http://terminology.hl7.org/CodeSystem/condition-category', system__ext=None, userSelected=None, userSelected__ext=None, version=None, version__ext=None)], text=None, text__ext=None)], clinicalStatus=CodeableConcept(fhir_comments=None, extension=None, id=None, coding=[Coding(fhir_comments=None, extension=None, id=None, code='active', code__ext=None, display=None, display__ext=None, system='http://terminology.hl7.org/CodeSystem/condition-clinical', system__ext=None, userSelected=None, userSelected__ext=None, version=None, version__ext=None)], text=None, text__ext=None), code=CodeableConcept(fhir_comments=None, extension=None, id=None, coding=[Coding(fhir_comments=None, extension=None, id=None, code='224299000', code__ext=None, display='Received higher education (finding)', display__ext=None, system='http://snomed.info/sct', system__ext=None, userSelected=None, userSelected__ext=None, version=None, version__ext=None)], text='Received higher education (finding)', text__ext=None), encounter=Reference(fhir_comments=None, extension=None, id=None, display=None, display__ext=None, identifier=None, reference='urn:uuid:d4f80e47-91cc-d21d-94a1-767692fea519', reference__ext=None, type=None, type__ext=None), evidence=None, identifier=None, note=None, onsetAge=None, onsetDateTime=datetime.datetime(2000, 10, 11, 2, 15, 48, tzinfo=TzInfo(UTC)), onsetDateTime__ext=None, onsetPeriod=None, onsetRange=None, onsetString=None, onsetString__ext=None, recordedDate=datetime.datetime(2000, 10, 11, 2, 15, 48, tzinfo=TzInfo(UTC)), recordedDate__ext=None, recorder=None, severity=None, stage=None, subject=Reference(fhir_comments=None, extension=None, id=None, display=None, display__ext=None, identifier=None, reference='urn:uuid:39055503-68de-ca85-9d7e-2548201875ee', reference__ext=None, type=None, type__ext=None), verificationStatus=CodeableConcept(fhir_comments=None, extension=None, id=None, coding=[Coding(fhir_comments=None, extension=None, id=None, code='confirmed', code__ext=None, display=None, display__ext=None, system='http://terminology.hl7.org/CodeSystem/condition-ver-status', system__ext=None, userSelected=None, userSelected__ext=None, version=None, version__ext=None)], text=None, text__ext=None))"
      ]
     },
     "execution_count": 271,
     "metadata": {},
     "output_type": "execute_result"
    }
   ],
   "source": [
    "condition"
   ]
  },
  {
   "cell_type": "code",
   "execution_count": 272,
   "id": "f1cc3a36-ef95-43f4-8c03-5f4b84707629",
   "metadata": {},
   "outputs": [],
   "source": [
    "condition_schema = dict()"
   ]
  },
  {
   "cell_type": "code",
   "execution_count": 273,
   "id": "4148a948-504f-4b2b-9882-4f7bbacf8bdb",
   "metadata": {},
   "outputs": [],
   "source": [
    "condition_schema['ID'] = condition.id"
   ]
  },
  {
   "cell_type": "code",
   "execution_count": 274,
   "id": "a4d447f7-2012-4851-90ea-a2efab18823e",
   "metadata": {},
   "outputs": [],
   "source": [
    "condition_schema['patient_id'] = condition.subject.reference"
   ]
  },
  {
   "cell_type": "code",
   "execution_count": 275,
   "id": "1e3e7d1a-e6be-423f-93b3-f2480ffc9bec",
   "metadata": {},
   "outputs": [],
   "source": [
    "condition_schema['clinical_status'] = condition.clinicalStatus.coding[0].code"
   ]
  },
  {
   "cell_type": "code",
   "execution_count": 276,
   "id": "0ad5aea0-4f28-4dcb-8f40-1fdf099be50a",
   "metadata": {},
   "outputs": [],
   "source": [
    "condition_schema['verification_status'] = condition.verificationStatus.coding[0].code"
   ]
  },
  {
   "cell_type": "code",
   "execution_count": 277,
   "id": "40afa081-21d6-4f3a-ad47-2e09c4cefca3",
   "metadata": {},
   "outputs": [],
   "source": [
    "condition_schema['condition_category'] = condition.category[0].coding[0].code"
   ]
  },
  {
   "cell_type": "code",
   "execution_count": 278,
   "id": "917ce529-1229-447e-bfcd-ee78537397bf",
   "metadata": {},
   "outputs": [],
   "source": [
    "condition_schema['snomed_code'] = condition.code.coding[0].code"
   ]
  },
  {
   "cell_type": "code",
   "execution_count": 279,
   "id": "0992e1b7-0a67-48c6-ad3d-7becd8a22380",
   "metadata": {},
   "outputs": [],
   "source": [
    "if condition.bodySite == None:\n",
    "    condition_schema['body_Site'] = None\n",
    "else:\n",
    "    condition_schema['body_Site'] = condition.bodySite.coding[0].code"
   ]
  },
  {
   "cell_type": "code",
   "execution_count": 280,
   "id": "420e9b37-8398-4a46-90b4-b534bc70c334",
   "metadata": {},
   "outputs": [],
   "source": [
    "if condition.severity == None:\n",
    "    condition_schema['severity'] = None\n",
    "else:\n",
    "    condition_schema['severity'] = condition.severity.coding[0].code"
   ]
  },
  {
   "cell_type": "code",
   "execution_count": 281,
   "id": "7f0e811f-d4f1-426a-aa47-785d4ed8b53d",
   "metadata": {},
   "outputs": [],
   "source": [
    "condition_schema['onsetAge'] = getattr(condition, 'onsetAge', None)\n",
    "condition_schema['onsetDateTime'] = getattr(condition, 'onsetDateTime', None)\n",
    "condition_schema['abatementAge'] = getattr(condition, 'abatementAge', None)\n",
    "condition_schema['abatementDateTime'] = getattr(condition, 'abatementDateTime', None)\n",
    "condition_schema['recordedDate'] = getattr(condition, 'recordedDate', None)"
   ]
  },
  {
   "cell_type": "code",
   "execution_count": 282,
   "id": "a79d11df-b6a6-49a4-ba59-58bcda8ac52f",
   "metadata": {},
   "outputs": [],
   "source": [
    "condition_schema['stage'] = condition.stage"
   ]
  },
  {
   "cell_type": "code",
   "execution_count": 283,
   "id": "779f7f97-68a1-4824-973a-10bf71929024",
   "metadata": {},
   "outputs": [],
   "source": [
    "condition_schema['evidence'] = condition.evidence"
   ]
  },
  {
   "cell_type": "code",
   "execution_count": 284,
   "id": "c98add2b-7322-4228-a234-861dd5ef292e",
   "metadata": {},
   "outputs": [],
   "source": [
    "def condition_resource_parser(condition):\n",
    "    condition_schema = dict()\n",
    "    if condition.id == None:\n",
    "        return None\n",
    "    condition_schema['ID'] = condition.id\n",
    "    if condition.subject == None:\n",
    "        return None\n",
    "    condition_schema['patient_id'] = condition.subject.reference\n",
    "    condition_schema['clinical_status'] = condition.clinicalStatus.coding[0].code\n",
    "    condition_schema['verification_status'] = condition.verificationStatus.coding[0].code\n",
    "    condition_schema['condition_category'] = condition.category[0].coding[0].code\n",
    "    condition_schema['snomed_code'] = condition.code.coding[0].code\n",
    "    if condition.bodySite == None:\n",
    "        condition_schema['body_Site'] = None\n",
    "    else:\n",
    "        condition_schema['body_Site'] = condition.bodySite.coding[0].code\n",
    "    if condition.severity == None:\n",
    "        condition_schema['severity'] = None\n",
    "    else:\n",
    "        condition_schema['severity'] = condition.severity.coding[0].code\n",
    "    condition_schema['onsetAge'] = getattr(condition, 'onsetAge', None)\n",
    "    condition_schema['onsetDateTime'] = getattr(condition, 'onsetDateTime', None)\n",
    "    condition_schema['abatementAge'] = getattr(condition, 'abatementAge', None)\n",
    "    condition_schema['abatementDateTime'] = getattr(condition, 'abatementDateTime', None)\n",
    "    condition_schema['recordedDate'] = getattr(condition, 'recordedDate', None)\n",
    "    condition_schema['stage'] = condition.stage\n",
    "    condition_schema['evidence'] = condition.evidence\n",
    "\n",
    "    return condition_schema"
   ]
  },
  {
   "cell_type": "code",
   "execution_count": 285,
   "id": "deb0ef76-06e9-4e70-9d77-7b950e52c157",
   "metadata": {},
   "outputs": [],
   "source": [
    "parse_results = []\n",
    "for entry in bundle.entry: ## TESTING\n",
    "    if entry.request.url == 'Condition':\n",
    "        result = condition_resource_parser(entry.resource)\n",
    "        parse_results.append(result)"
   ]
  },
  {
   "cell_type": "markdown",
   "id": "5ef3efab-3b85-4e10-a449-30138a992147",
   "metadata": {},
   "source": [
    "## Device Resource"
   ]
  },
  {
   "cell_type": "code",
   "execution_count": 149,
   "id": "5de2fc02-7d95-499b-888f-237954060f1c",
   "metadata": {},
   "outputs": [
    {
     "data": {
      "text/plain": [
       "fhir.resources.R4B.device.Device"
      ]
     },
     "execution_count": 149,
     "metadata": {},
     "output_type": "execute_result"
    }
   ],
   "source": [
    "type(bundle.entry[9].resource)"
   ]
  },
  {
   "cell_type": "code",
   "execution_count": 150,
   "id": "b946c8a9-a7de-4a2a-9fb9-6f64cbdd9455",
   "metadata": {},
   "outputs": [
    {
     "data": {
      "text/plain": [
       "Device(fhir_comments=None, id='033e4431-ed01-313a-ad3c-dcd7bc18baca', implicitRules=None, implicitRules__ext=None, language=None, language__ext=None, meta=Meta(fhir_comments=None, extension=None, id=None, lastUpdated=None, lastUpdated__ext=None, profile=['http://hl7.org/fhir/us/core/StructureDefinition/us-core-implantable-device'], profile__ext=None, security=None, source=None, source__ext=None, tag=None, versionId=None, versionId__ext=None), contained=None, extension=None, modifierExtension=None, text=None, contact=None, definition=None, deviceName=[DeviceDeviceName(fhir_comments=None, extension=None, id=None, modifierExtension=None, name='Home nebulizer (physical object)', name__ext=None, type='user-friendly-name', type__ext=None)], distinctIdentifier='33093132134901', distinctIdentifier__ext=None, expirationDate=datetime.datetime(2029, 6, 12, 20, 43, 8, tzinfo=TzInfo(UTC)), expirationDate__ext=None, identifier=None, location=None, lotNumber='2319', lotNumber__ext=None, manufactureDate=datetime.datetime(2004, 5, 28, 20, 43, 8, tzinfo=TzInfo(UTC)), manufactureDate__ext=None, manufacturer=None, manufacturer__ext=None, modelNumber=None, modelNumber__ext=None, note=None, owner=None, parent=None, partNumber=None, partNumber__ext=None, patient=Reference(fhir_comments=None, extension=None, id=None, display=None, display__ext=None, identifier=None, reference='urn:uuid:39055503-68de-ca85-9d7e-2548201875ee', reference__ext=None, type=None, type__ext=None), property=None, safety=None, serialNumber='5731404453565498925', serialNumber__ext=None, specialization=None, status='active', status__ext=None, statusReason=None, type=CodeableConcept(fhir_comments=None, extension=None, id=None, coding=[Coding(fhir_comments=None, extension=None, id=None, code='170615005', code__ext=None, display='Home nebulizer (physical object)', display__ext=None, system='http://snomed.info/sct', system__ext=None, userSelected=None, userSelected__ext=None, version=None, version__ext=None)], text='Home nebulizer (physical object)', text__ext=None), udiCarrier=[DeviceUdiCarrier(fhir_comments=None, extension=None, id=None, modifierExtension=None, carrierAIDC=None, carrierAIDC__ext=None, carrierHRF='(01)33093132134901(11)040528(17)290612(10)2319(21)5731404453565498925', carrierHRF__ext=None, deviceIdentifier='33093132134901', deviceIdentifier__ext=None, entryType=None, entryType__ext=None, issuer=None, issuer__ext=None, jurisdiction=None, jurisdiction__ext=None)], url=None, url__ext=None, version=None)"
      ]
     },
     "execution_count": 150,
     "metadata": {},
     "output_type": "execute_result"
    }
   ],
   "source": [
    "device = bundle.entry[9].resource\n",
    "device"
   ]
  },
  {
   "cell_type": "code",
   "execution_count": 151,
   "id": "bf49811b-e719-4ae0-8b4c-353111c52e56",
   "metadata": {},
   "outputs": [
    {
     "data": {
      "text/plain": [
       "'033e4431-ed01-313a-ad3c-dcd7bc18baca'"
      ]
     },
     "execution_count": 151,
     "metadata": {},
     "output_type": "execute_result"
    }
   ],
   "source": [
    "device.id"
   ]
  },
  {
   "cell_type": "code",
   "execution_count": 152,
   "id": "3868c1e7-3d3b-4f6a-8c73-59882be44e82",
   "metadata": {},
   "outputs": [
    {
     "data": {
      "text/plain": [
       "'Home nebulizer (physical object)'"
      ]
     },
     "execution_count": 152,
     "metadata": {},
     "output_type": "execute_result"
    }
   ],
   "source": [
    "device.deviceName[0].name"
   ]
  },
  {
   "cell_type": "code",
   "execution_count": 153,
   "id": "8d36bf91-f46d-495e-9230-12a60a0eeee0",
   "metadata": {},
   "outputs": [
    {
     "data": {
      "text/plain": [
       "'user-friendly-name'"
      ]
     },
     "execution_count": 153,
     "metadata": {},
     "output_type": "execute_result"
    }
   ],
   "source": [
    "device.deviceName[0].type"
   ]
  },
  {
   "cell_type": "code",
   "execution_count": 154,
   "id": "ae08d49d-b8e7-49f0-9c88-cb0338ba81bf",
   "metadata": {},
   "outputs": [],
   "source": [
    "device.contact"
   ]
  },
  {
   "cell_type": "code",
   "execution_count": 155,
   "id": "d96a38d6-71e6-4bd8-b099-376975af804a",
   "metadata": {},
   "outputs": [],
   "source": [
    "device.definition"
   ]
  },
  {
   "cell_type": "code",
   "execution_count": 156,
   "id": "26443061-a9bd-4a68-9ca5-17132215849c",
   "metadata": {},
   "outputs": [],
   "source": [
    "device.location"
   ]
  },
  {
   "cell_type": "code",
   "execution_count": 157,
   "id": "828cbaa2-e6df-4bf1-9d1f-22e548ab4b23",
   "metadata": {},
   "outputs": [
    {
     "data": {
      "text/plain": [
       "'2319'"
      ]
     },
     "execution_count": 157,
     "metadata": {},
     "output_type": "execute_result"
    }
   ],
   "source": [
    "device.lotNumber"
   ]
  },
  {
   "cell_type": "code",
   "execution_count": 158,
   "id": "8f6b5d58-1d65-4871-969d-8bb2f3a88e13",
   "metadata": {},
   "outputs": [
    {
     "data": {
      "text/plain": [
       "'33093132134901'"
      ]
     },
     "execution_count": 158,
     "metadata": {},
     "output_type": "execute_result"
    }
   ],
   "source": [
    "device.distinctIdentifier"
   ]
  },
  {
   "cell_type": "code",
   "execution_count": 159,
   "id": "335084d2-ef0e-407f-a418-4208344524c6",
   "metadata": {},
   "outputs": [
    {
     "data": {
      "text/plain": [
       "datetime.datetime(2029, 6, 12, 20, 43, 8, tzinfo=TzInfo(UTC))"
      ]
     },
     "execution_count": 159,
     "metadata": {},
     "output_type": "execute_result"
    }
   ],
   "source": [
    "device.expirationDate"
   ]
  },
  {
   "cell_type": "code",
   "execution_count": 160,
   "id": "68765286-379e-4dbe-afba-0403ed84011b",
   "metadata": {},
   "outputs": [
    {
     "data": {
      "text/plain": [
       "datetime.datetime(2004, 5, 28, 20, 43, 8, tzinfo=TzInfo(UTC))"
      ]
     },
     "execution_count": 160,
     "metadata": {},
     "output_type": "execute_result"
    }
   ],
   "source": [
    "device.manufactureDate"
   ]
  },
  {
   "cell_type": "code",
   "execution_count": 161,
   "id": "1f6ad976-6ffb-4f8c-9b33-7fa7b6e1af81",
   "metadata": {},
   "outputs": [],
   "source": [
    "device.manufacturer"
   ]
  },
  {
   "cell_type": "code",
   "execution_count": 162,
   "id": "9a58071a-823e-4e9d-9b19-5a9a57fe8bec",
   "metadata": {},
   "outputs": [
    {
     "data": {
      "text/plain": [
       "CodeableConcept(fhir_comments=None, extension=None, id=None, coding=[Coding(fhir_comments=None, extension=None, id=None, code='170615005', code__ext=None, display='Home nebulizer (physical object)', display__ext=None, system='http://snomed.info/sct', system__ext=None, userSelected=None, userSelected__ext=None, version=None, version__ext=None)], text='Home nebulizer (physical object)', text__ext=None)"
      ]
     },
     "execution_count": 162,
     "metadata": {},
     "output_type": "execute_result"
    }
   ],
   "source": [
    "device.type"
   ]
  },
  {
   "cell_type": "code",
   "execution_count": 163,
   "id": "79ae16f9-f123-4160-aed7-b61eddd5983a",
   "metadata": {},
   "outputs": [
    {
     "data": {
      "text/plain": [
       "'urn:uuid:39055503-68de-ca85-9d7e-2548201875ee'"
      ]
     },
     "execution_count": 163,
     "metadata": {},
     "output_type": "execute_result"
    }
   ],
   "source": [
    "device.patient.reference"
   ]
  },
  {
   "cell_type": "code",
   "execution_count": 164,
   "id": "69537091-1736-432b-860a-8fb362db9ada",
   "metadata": {},
   "outputs": [
    {
     "data": {
      "text/plain": [
       "'5731404453565498925'"
      ]
     },
     "execution_count": 164,
     "metadata": {},
     "output_type": "execute_result"
    }
   ],
   "source": [
    "device.serialNumber"
   ]
  },
  {
   "cell_type": "code",
   "execution_count": 165,
   "id": "89f637be-1422-4e4c-bfd4-3a7684442517",
   "metadata": {},
   "outputs": [
    {
     "data": {
      "text/plain": [
       "'active'"
      ]
     },
     "execution_count": 165,
     "metadata": {},
     "output_type": "execute_result"
    }
   ],
   "source": [
    "device.status"
   ]
  },
  {
   "cell_type": "code",
   "execution_count": 166,
   "id": "e5629901-772a-4ec8-b526-3ecb011d3924",
   "metadata": {},
   "outputs": [
    {
     "data": {
      "text/plain": [
       "'(01)33093132134901(11)040528(17)290612(10)2319(21)5731404453565498925'"
      ]
     },
     "execution_count": 166,
     "metadata": {},
     "output_type": "execute_result"
    }
   ],
   "source": [
    "device.udiCarrier[0].carrierHRF"
   ]
  },
  {
   "cell_type": "code",
   "execution_count": 167,
   "id": "fa6ca30d-e509-47e5-b9f9-2814347f952a",
   "metadata": {},
   "outputs": [],
   "source": [
    "def device_resource_parser(device):\n",
    "    device_schema = dict()\n",
    "    if device.id == None:\n",
    "        return None\n",
    "    device_schema['ID'] = device.id\n",
    "    device_schema['device_name'] = device.deviceName[0].name\n",
    "    device_schema['device_type'] = device.deviceName[0].type\n",
    "    device_schema['lot_number'] = getattr(device, 'lotNumber', None)\n",
    "    device_schema['definition'] = getattr(device, 'definition', None)\n",
    "    device_schema['location'] = getattr(device, 'location', None)\n",
    "    device_schema['distinctIdentifier'] = getattr(device, 'distinctIdentifier', None)\n",
    "    device_schema['expirationDate'] = getattr(device, 'expirationDate', None)\n",
    "    device_schema['manufactureDate'] = getattr(device, 'manufactureDate', None)\n",
    "    device_schema['manufacturer'] = getattr(device, 'manufacturer', None)\n",
    "    device_schema['serialNumber'] = getattr(device, 'serialNumber', None)\n",
    "    device_schema['status'] = getattr(device, 'status', None)\n",
    "    device_schema['udi_id'] = device.udiCarrier[0].carrierHRF\n",
    "    device_schema['patient_id'] = device.patient.reference\n",
    "\n",
    "    return device_schema"
   ]
  },
  {
   "cell_type": "code",
   "execution_count": 168,
   "id": "cb2738b5-9cdd-420c-b5ce-390d3bc1ae30",
   "metadata": {},
   "outputs": [],
   "source": [
    "parse_results = []\n",
    "for entry in bundle.entry: ## TESTING\n",
    "    if entry.request.url == 'Device':\n",
    "        result = device_resource_parser(entry.resource)\n",
    "        parse_results.append(result)"
   ]
  },
  {
   "cell_type": "markdown",
   "id": "5364b536-c912-44a8-a1c2-db231bc270ca",
   "metadata": {},
   "source": [
    "## Diagonostic Report"
   ]
  },
  {
   "cell_type": "code",
   "execution_count": 170,
   "id": "bca34fba-5d19-426a-9831-68c46ce6335f",
   "metadata": {},
   "outputs": [
    {
     "data": {
      "text/plain": [
       "fhir.resources.R4B.diagnosticreport.DiagnosticReport"
      ]
     },
     "execution_count": 170,
     "metadata": {},
     "output_type": "execute_result"
    }
   ],
   "source": [
    "type(bundle.entry[3].resource)"
   ]
  },
  {
   "cell_type": "code",
   "execution_count": 171,
   "id": "4d6d0f0b-e3e7-4fea-a03e-91e0a0369f96",
   "metadata": {},
   "outputs": [
    {
     "data": {
      "text/plain": [
       "DiagnosticReport(fhir_comments=None, id='6bc5bc5b-5644-116f-5b11-1999888da30c', implicitRules=None, implicitRules__ext=None, language=None, language__ext=None, meta=Meta(fhir_comments=None, extension=None, id=None, lastUpdated=None, lastUpdated__ext=None, profile=['http://hl7.org/fhir/us/core/StructureDefinition/us-core-diagnosticreport-note'], profile__ext=None, security=None, source=None, source__ext=None, tag=None, versionId=None, versionId__ext=None), contained=None, extension=None, modifierExtension=None, text=None, basedOn=None, category=[CodeableConcept(fhir_comments=None, extension=None, id=None, coding=[Coding(fhir_comments=None, extension=None, id=None, code='34117-2', code__ext=None, display='History and physical note', display__ext=None, system='http://loinc.org', system__ext=None, userSelected=None, userSelected__ext=None, version=None, version__ext=None), Coding(fhir_comments=None, extension=None, id=None, code='51847-2', code__ext=None, display='Evaluation + Plan note', display__ext=None, system='http://loinc.org', system__ext=None, userSelected=None, userSelected__ext=None, version=None, version__ext=None)], text=None, text__ext=None)], code=CodeableConcept(fhir_comments=None, extension=None, id=None, coding=[Coding(fhir_comments=None, extension=None, id=None, code='34117-2', code__ext=None, display='History and physical note', display__ext=None, system='http://loinc.org', system__ext=None, userSelected=None, userSelected__ext=None, version=None, version__ext=None), Coding(fhir_comments=None, extension=None, id=None, code='51847-2', code__ext=None, display='Evaluation + Plan note', display__ext=None, system='http://loinc.org', system__ext=None, userSelected=None, userSelected__ext=None, version=None, version__ext=None)], text=None, text__ext=None), conclusion=None, conclusion__ext=None, conclusionCode=None, effectiveDateTime=datetime.datetime(2000, 10, 11, 1, 43, 8, tzinfo=TzInfo(UTC)), effectiveDateTime__ext=None, effectivePeriod=None, encounter=Reference(fhir_comments=None, extension=None, id=None, display=None, display__ext=None, identifier=None, reference='urn:uuid:d4f80e47-91cc-d21d-94a1-767692fea519', reference__ext=None, type=None, type__ext=None), identifier=None, imagingStudy=None, issued=datetime.datetime(2000, 10, 11, 1, 43, 8, 282000, tzinfo=TzInfo(UTC)), issued__ext=None, media=None, performer=[Reference(fhir_comments=None, extension=None, id=None, display='Dr. Regenia619 Bosco882', display__ext=None, identifier=None, reference='Practitioner?identifier=http://hl7.org/fhir/sid/us-npi|9999942599', reference__ext=None, type=None, type__ext=None)], presentedForm=[Attachment(fhir_comments=None, extension=None, id=None, contentType='text/plain; charset=utf-8', contentType__ext=None, creation=None, creation__ext=None, data=b'\\n2000-10-11\\n\\n# Chief Complaint\\nNo complaints.\\n\\n# History of Present Illness\\nDelbert384\\n is a 18 year-old nonhispanic black male.\\n\\n# Social History\\n Patient has never smoked.\\n Patient identifies as heterosexual.\\n\\nPatient comes from a high socioeconomic background.\\n Patient is a college graduate.\\nPatient currently has Blue Cross Blue Shield.\\n\\n# Allergies\\nNo Known Allergies.\\n\\n# Medications\\nNo Active Medications.\\n\\n# Assessment and Plan\\nPatient is presenting with received higher education (finding). \\n\\n## Plan\\n\\n', data__ext=None, hash=None, hash__ext=None, language=None, language__ext=None, size=None, size__ext=None, title=None, title__ext=None, url=None, url__ext=None)], result=None, resultsInterpreter=None, specimen=None, status='final', status__ext=None, subject=Reference(fhir_comments=None, extension=None, id=None, display=None, display__ext=None, identifier=None, reference='urn:uuid:39055503-68de-ca85-9d7e-2548201875ee', reference__ext=None, type=None, type__ext=None))"
      ]
     },
     "execution_count": 171,
     "metadata": {},
     "output_type": "execute_result"
    }
   ],
   "source": [
    "report = bundle.entry[3].resource\n",
    "report"
   ]
  },
  {
   "cell_type": "code",
   "execution_count": 172,
   "id": "966281f2-65b9-4b04-8c84-930ffd325a23",
   "metadata": {},
   "outputs": [
    {
     "data": {
      "text/plain": [
       "'6bc5bc5b-5644-116f-5b11-1999888da30c'"
      ]
     },
     "execution_count": 172,
     "metadata": {},
     "output_type": "execute_result"
    }
   ],
   "source": [
    "report.id"
   ]
  },
  {
   "cell_type": "code",
   "execution_count": 173,
   "id": "24c98a20-119b-492e-a785-870f81b29d09",
   "metadata": {},
   "outputs": [
    {
     "data": {
      "text/plain": [
       "[CodeableConcept(fhir_comments=None, extension=None, id=None, coding=[Coding(fhir_comments=None, extension=None, id=None, code='34117-2', code__ext=None, display='History and physical note', display__ext=None, system='http://loinc.org', system__ext=None, userSelected=None, userSelected__ext=None, version=None, version__ext=None), Coding(fhir_comments=None, extension=None, id=None, code='51847-2', code__ext=None, display='Evaluation + Plan note', display__ext=None, system='http://loinc.org', system__ext=None, userSelected=None, userSelected__ext=None, version=None, version__ext=None)], text=None, text__ext=None)]"
      ]
     },
     "execution_count": 173,
     "metadata": {},
     "output_type": "execute_result"
    }
   ],
   "source": [
    "report.category"
   ]
  },
  {
   "cell_type": "code",
   "execution_count": 174,
   "id": "1358fc0d-3d44-4865-96c5-cf2d63cc16e5",
   "metadata": {},
   "outputs": [
    {
     "data": {
      "text/plain": [
       "Coding(fhir_comments=None, extension=None, id=None, code='51847-2', code__ext=None, display='Evaluation + Plan note', display__ext=None, system='http://loinc.org', system__ext=None, userSelected=None, userSelected__ext=None, version=None, version__ext=None)"
      ]
     },
     "execution_count": 174,
     "metadata": {},
     "output_type": "execute_result"
    }
   ],
   "source": [
    "report.code.coding[1]"
   ]
  },
  {
   "cell_type": "code",
   "execution_count": 175,
   "id": "5265912d-748f-464d-ac5d-2c7ee4cf7e0b",
   "metadata": {},
   "outputs": [
    {
     "data": {
      "text/plain": [
       "datetime.datetime(2000, 10, 11, 1, 43, 8, tzinfo=TzInfo(UTC))"
      ]
     },
     "execution_count": 175,
     "metadata": {},
     "output_type": "execute_result"
    }
   ],
   "source": [
    "report.effectiveDateTime"
   ]
  },
  {
   "cell_type": "code",
   "execution_count": 176,
   "id": "e57770db-f71d-40de-a213-7fa5f8c11f3b",
   "metadata": {},
   "outputs": [
    {
     "data": {
      "text/plain": [
       "'urn:uuid:d4f80e47-91cc-d21d-94a1-767692fea519'"
      ]
     },
     "execution_count": 176,
     "metadata": {},
     "output_type": "execute_result"
    }
   ],
   "source": [
    "report.encounter.reference"
   ]
  },
  {
   "cell_type": "code",
   "execution_count": 177,
   "id": "96274bf4-9152-4d00-908c-05fb41f69d16",
   "metadata": {},
   "outputs": [
    {
     "data": {
      "text/plain": [
       "'Dr. Regenia619 Bosco882'"
      ]
     },
     "execution_count": 177,
     "metadata": {},
     "output_type": "execute_result"
    }
   ],
   "source": [
    "report.performer[0].display"
   ]
  },
  {
   "cell_type": "code",
   "execution_count": 178,
   "id": "5dc5aad2-8343-4433-9d8c-446c5011749a",
   "metadata": {},
   "outputs": [
    {
     "data": {
      "text/plain": [
       "'urn:uuid:39055503-68de-ca85-9d7e-2548201875ee'"
      ]
     },
     "execution_count": 178,
     "metadata": {},
     "output_type": "execute_result"
    }
   ],
   "source": [
    "report.subject.reference"
   ]
  },
  {
   "cell_type": "code",
   "execution_count": 179,
   "id": "68c54ec6-6cbb-41ce-899e-94ab4efdd835",
   "metadata": {},
   "outputs": [],
   "source": [
    "def diagonistic_report_resource_parser(report):\n",
    "    diagonistic_report_schema = dict()\n",
    "    diagonistic_report_schema['ID'] = report.id\n",
    "    diagonistic_report_schema['patient_id'] = report.subject.reference\n",
    "    if report.performer != None:\n",
    "        for i,doctor in enumerate(report.performer):\n",
    "            diagonistic_report_schema[f'diagnosis_doctor_{i+1}'] = doctor.display\n",
    "    for i,code_section in enumerate(report.code.coding):\n",
    "        diagonistic_report_schema[f'diagnosis_loinc_code_{i+1}'] = code_section.code\n",
    "    return diagonistic_report_schema"
   ]
  },
  {
   "cell_type": "code",
   "execution_count": 180,
   "id": "be720837-7178-40b5-a211-a2096e6b8300",
   "metadata": {},
   "outputs": [
    {
     "data": {
      "text/plain": [
       "{'ID': '6bc5bc5b-5644-116f-5b11-1999888da30c',\n",
       " 'patient_id': 'urn:uuid:39055503-68de-ca85-9d7e-2548201875ee',\n",
       " 'diagnosis_doctor_1': 'Dr. Regenia619 Bosco882',\n",
       " 'diagnosis_loinc_code_1': '34117-2',\n",
       " 'diagnosis_loinc_code_2': '51847-2'}"
      ]
     },
     "execution_count": 180,
     "metadata": {},
     "output_type": "execute_result"
    }
   ],
   "source": [
    "diagonistic_report_resource_parser(report)"
   ]
  },
  {
   "cell_type": "code",
   "execution_count": 81,
   "id": "62b82f6d-1bed-46d3-93bb-5a3ec94cd988",
   "metadata": {},
   "outputs": [],
   "source": [
    "parse_results = []\n",
    "for i,entry in enumerate(bundle.entry): ## TESTING\n",
    "    if entry.request.url == 'DiagnosticReport':\n",
    "        result = diagonistic_report_resource_parser(entry.resource)\n",
    "        parse_results.append(result)"
   ]
  },
  {
   "cell_type": "markdown",
   "id": "c241ce96-21a1-449c-b07c-25574cf0e26a",
   "metadata": {},
   "source": [
    "## Document Refrence"
   ]
  },
  {
   "cell_type": "code",
   "execution_count": 186,
   "id": "491fd824-b503-4aac-849c-7f4e456529ea",
   "metadata": {},
   "outputs": [
    {
     "data": {
      "text/plain": [
       "fhir.resources.R4B.documentreference.DocumentReference"
      ]
     },
     "execution_count": 186,
     "metadata": {},
     "output_type": "execute_result"
    }
   ],
   "source": [
    "type(bundle.entry[11].resource)"
   ]
  },
  {
   "cell_type": "code",
   "execution_count": 187,
   "id": "0b2939a6-91b8-458e-9278-8c2d3d02a703",
   "metadata": {},
   "outputs": [
    {
     "data": {
      "text/plain": [
       "DocumentReference(fhir_comments=None, id='de34694e-fe86-5e46-27c6-063e49e39c79', implicitRules=None, implicitRules__ext=None, language=None, language__ext=None, meta=Meta(fhir_comments=None, extension=None, id=None, lastUpdated=None, lastUpdated__ext=None, profile=['http://hl7.org/fhir/us/core/StructureDefinition/us-core-documentreference'], profile__ext=None, security=None, source=None, source__ext=None, tag=None, versionId=None, versionId__ext=None), contained=None, extension=None, modifierExtension=None, text=None, authenticator=None, author=[Reference(fhir_comments=None, extension=None, id=None, display='Dr. Crystle668 McCullough561', display__ext=None, identifier=None, reference='Practitioner?identifier=http://hl7.org/fhir/sid/us-npi|9999998997', reference__ext=None, type=None, type__ext=None)], category=[CodeableConcept(fhir_comments=None, extension=None, id=None, coding=[Coding(fhir_comments=None, extension=None, id=None, code='clinical-note', code__ext=None, display='Clinical Note', display__ext=None, system='http://hl7.org/fhir/us/core/CodeSystem/us-core-documentreference-category', system__ext=None, userSelected=None, userSelected__ext=None, version=None, version__ext=None)], text=None, text__ext=None)], content=[DocumentReferenceContent(fhir_comments=None, extension=None, id=None, modifierExtension=None, attachment=Attachment(fhir_comments=None, extension=None, id=None, contentType='text/plain; charset=utf-8', contentType__ext=None, creation=None, creation__ext=None, data=b'\\n2004-06-18\\n\\n# Chief Complaint\\nNo complaints.\\n\\n# History of Present Illness\\nDelbert384\\n is a 21 year-old nonhispanic black male.\\n\\n# Social History\\nPatient is married. Patient has never smoked.\\n Patient identifies as heterosexual.\\n\\nPatient comes from a high socioeconomic background.\\n Patient is a college graduate.\\nPatient currently has Blue Cross Blue Shield.\\n\\n# Allergies\\nNo Known Allergies.\\n\\n# Medications\\nNo Active Medications.\\n\\n# Assessment and Plan\\nPatient is presenting with chronic sinusitis (disorder). \\n\\n## Plan\\n\\n', data__ext=None, hash=None, hash__ext=None, language=None, language__ext=None, size=None, size__ext=None, title=None, title__ext=None, url=None, url__ext=None), format=Coding(fhir_comments=None, extension=None, id=None, code='urn:ihe:iti:xds:2017:mimeTypeSufficient', code__ext=None, display='mimeType Sufficient', display__ext=None, system='http://ihe.net/fhir/ihe.formatcode.fhir/CodeSystem/formatcode', system__ext=None, userSelected=None, userSelected__ext=None, version=None, version__ext=None))], context=DocumentReferenceContext(fhir_comments=None, extension=None, id=None, modifierExtension=None, encounter=[Reference(fhir_comments=None, extension=None, id=None, display=None, display__ext=None, identifier=None, reference='urn:uuid:548b2aa5-5d6a-c44a-a865-4dc46e5d84b4', reference__ext=None, type=None, type__ext=None)], event=None, facilityType=None, period=Period(fhir_comments=None, extension=None, id=None, end=datetime.datetime(2004, 6, 18, 20, 58, 8, tzinfo=TzInfo(UTC)), end__ext=None, start=datetime.datetime(2004, 6, 18, 20, 43, 8, tzinfo=TzInfo(UTC)), start__ext=None), practiceSetting=None, related=None, sourcePatientInfo=None), custodian=Reference(fhir_comments=None, extension=None, id=None, display='BETH ISRAEL DEACONESS HOSPITAL PLYMOUTH INC', display__ext=None, identifier=None, reference='Organization?identifier=https://github.com/synthetichealth/synthea|3ff0f58b-7a1f-3334-9449-ff15f68b7d86', reference__ext=None, type=None, type__ext=None), date=datetime.datetime(2004, 6, 18, 20, 43, 8, 282000, tzinfo=TzInfo(UTC)), date__ext=None, description=None, description__ext=None, docStatus=None, docStatus__ext=None, identifier=[Identifier(fhir_comments=None, extension=None, id=None, assigner=None, period=None, system='urn:ietf:rfc:3986', system__ext=None, type=None, use=None, use__ext=None, value='urn:uuid:52c4dd76-5e54-11ae-f0ae-491e249d43e1', value__ext=None)], masterIdentifier=None, relatesTo=None, securityLabel=None, status='superseded', status__ext=None, subject=Reference(fhir_comments=None, extension=None, id=None, display=None, display__ext=None, identifier=None, reference='urn:uuid:39055503-68de-ca85-9d7e-2548201875ee', reference__ext=None, type=None, type__ext=None), type=CodeableConcept(fhir_comments=None, extension=None, id=None, coding=[Coding(fhir_comments=None, extension=None, id=None, code='34117-2', code__ext=None, display='History and physical note', display__ext=None, system='http://loinc.org', system__ext=None, userSelected=None, userSelected__ext=None, version=None, version__ext=None), Coding(fhir_comments=None, extension=None, id=None, code='51847-2', code__ext=None, display='Evaluation + Plan note', display__ext=None, system='http://loinc.org', system__ext=None, userSelected=None, userSelected__ext=None, version=None, version__ext=None)], text=None, text__ext=None))"
      ]
     },
     "execution_count": 187,
     "metadata": {},
     "output_type": "execute_result"
    }
   ],
   "source": [
    "document_ref = bundle.entry[11].resource\n",
    "document_ref"
   ]
  },
  {
   "cell_type": "code",
   "execution_count": 188,
   "id": "76180811-a099-43b6-955e-3646f51f6e19",
   "metadata": {},
   "outputs": [
    {
     "data": {
      "text/plain": [
       "'de34694e-fe86-5e46-27c6-063e49e39c79'"
      ]
     },
     "execution_count": 188,
     "metadata": {},
     "output_type": "execute_result"
    }
   ],
   "source": [
    "document_ref.id"
   ]
  },
  {
   "cell_type": "code",
   "execution_count": 189,
   "id": "2c9a126e-7b9a-467e-85d5-26976dba94cb",
   "metadata": {},
   "outputs": [
    {
     "data": {
      "text/plain": [
       "'superseded'"
      ]
     },
     "execution_count": 189,
     "metadata": {},
     "output_type": "execute_result"
    }
   ],
   "source": [
    "document_ref.status"
   ]
  },
  {
   "cell_type": "code",
   "execution_count": 190,
   "id": "846c7a81-19b4-4f17-ba41-17c91a32df45",
   "metadata": {},
   "outputs": [
    {
     "data": {
      "text/plain": [
       "'Dr. Crystle668 McCullough561'"
      ]
     },
     "execution_count": 190,
     "metadata": {},
     "output_type": "execute_result"
    }
   ],
   "source": [
    "document_ref.author[0].display"
   ]
  },
  {
   "cell_type": "code",
   "execution_count": 191,
   "id": "090351e0-d2cd-4b44-8d61-2433cf43aeb0",
   "metadata": {},
   "outputs": [
    {
     "data": {
      "text/plain": [
       "[CodeableConcept(fhir_comments=None, extension=None, id=None, coding=[Coding(fhir_comments=None, extension=None, id=None, code='clinical-note', code__ext=None, display='Clinical Note', display__ext=None, system='http://hl7.org/fhir/us/core/CodeSystem/us-core-documentreference-category', system__ext=None, userSelected=None, userSelected__ext=None, version=None, version__ext=None)], text=None, text__ext=None)]"
      ]
     },
     "execution_count": 191,
     "metadata": {},
     "output_type": "execute_result"
    }
   ],
   "source": [
    "document_ref.category"
   ]
  },
  {
   "cell_type": "code",
   "execution_count": 192,
   "id": "fae3ea73-2205-4720-aecf-ba72c2cfd526",
   "metadata": {},
   "outputs": [],
   "source": [
    "document_ref.docStatus"
   ]
  },
  {
   "cell_type": "code",
   "execution_count": 193,
   "id": "64dd44f1-d0ba-4b02-a6c7-3d51453e3073",
   "metadata": {},
   "outputs": [
    {
     "data": {
      "text/plain": [
       "b'\\n2004-06-18\\n\\n# Chief Complaint\\nNo complaints.\\n\\n# History of Present Illness\\nDelbert384\\n is a 21 year-old nonhispanic black male.\\n\\n# Social History\\nPatient is married. Patient has never smoked.\\n Patient identifies as heterosexual.\\n\\nPatient comes from a high socioeconomic background.\\n Patient is a college graduate.\\nPatient currently has Blue Cross Blue Shield.\\n\\n# Allergies\\nNo Known Allergies.\\n\\n# Medications\\nNo Active Medications.\\n\\n# Assessment and Plan\\nPatient is presenting with chronic sinusitis (disorder). \\n\\n## Plan\\n\\n'"
      ]
     },
     "execution_count": 193,
     "metadata": {},
     "output_type": "execute_result"
    }
   ],
   "source": [
    "document_ref.content[0].attachment.data"
   ]
  },
  {
   "cell_type": "code",
   "execution_count": 194,
   "id": "07ae75c7-d99b-4af4-9d19-bc1aa32536c6",
   "metadata": {},
   "outputs": [
    {
     "data": {
      "text/plain": [
       "DocumentReferenceContext(fhir_comments=None, extension=None, id=None, modifierExtension=None, encounter=[Reference(fhir_comments=None, extension=None, id=None, display=None, display__ext=None, identifier=None, reference='urn:uuid:548b2aa5-5d6a-c44a-a865-4dc46e5d84b4', reference__ext=None, type=None, type__ext=None)], event=None, facilityType=None, period=Period(fhir_comments=None, extension=None, id=None, end=datetime.datetime(2004, 6, 18, 20, 58, 8, tzinfo=TzInfo(UTC)), end__ext=None, start=datetime.datetime(2004, 6, 18, 20, 43, 8, tzinfo=TzInfo(UTC)), start__ext=None), practiceSetting=None, related=None, sourcePatientInfo=None)"
      ]
     },
     "execution_count": 194,
     "metadata": {},
     "output_type": "execute_result"
    }
   ],
   "source": [
    "document_ref.context"
   ]
  },
  {
   "cell_type": "code",
   "execution_count": 195,
   "id": "8ee52e9a-79df-41dc-959b-81bcfcbaf484",
   "metadata": {},
   "outputs": [
    {
     "data": {
      "text/plain": [
       "'34117-2'"
      ]
     },
     "execution_count": 195,
     "metadata": {},
     "output_type": "execute_result"
    }
   ],
   "source": [
    "document_ref.type.coding[0].code"
   ]
  },
  {
   "cell_type": "code",
   "execution_count": 196,
   "id": "1e0fb1c8-1d4c-4f26-ad7e-80f61f701291",
   "metadata": {},
   "outputs": [
    {
     "data": {
      "text/plain": [
       "'urn:uuid:39055503-68de-ca85-9d7e-2548201875ee'"
      ]
     },
     "execution_count": 196,
     "metadata": {},
     "output_type": "execute_result"
    }
   ],
   "source": [
    "document_ref.subject.reference"
   ]
  },
  {
   "cell_type": "code",
   "execution_count": 197,
   "id": "e878f5ff-d047-4481-ac9d-cc177e47d77f",
   "metadata": {},
   "outputs": [
    {
     "data": {
      "text/plain": [
       "[Identifier(fhir_comments=None, extension=None, id=None, assigner=None, period=None, system='urn:ietf:rfc:3986', system__ext=None, type=None, use=None, use__ext=None, value='urn:uuid:52c4dd76-5e54-11ae-f0ae-491e249d43e1', value__ext=None)]"
      ]
     },
     "execution_count": 197,
     "metadata": {},
     "output_type": "execute_result"
    }
   ],
   "source": [
    "document_ref.identifier"
   ]
  },
  {
   "cell_type": "code",
   "execution_count": 198,
   "id": "8e424a06-33c6-4c29-a030-ba5ee5b1bbc8",
   "metadata": {},
   "outputs": [
    {
     "data": {
      "text/plain": [
       "'BETH ISRAEL DEACONESS HOSPITAL PLYMOUTH INC'"
      ]
     },
     "execution_count": 198,
     "metadata": {},
     "output_type": "execute_result"
    }
   ],
   "source": [
    "document_ref.custodian.display"
   ]
  },
  {
   "cell_type": "code",
   "execution_count": 199,
   "id": "df64bc13-2134-404b-b2a0-f4e31e2d2d29",
   "metadata": {},
   "outputs": [
    {
     "data": {
      "text/plain": [
       "datetime.datetime(2004, 6, 18, 20, 43, 8, 282000, tzinfo=TzInfo(UTC))"
      ]
     },
     "execution_count": 199,
     "metadata": {},
     "output_type": "execute_result"
    }
   ],
   "source": [
    "document_ref.date"
   ]
  },
  {
   "cell_type": "code",
   "execution_count": 200,
   "id": "dadc0dec-39f5-4d13-bb18-ed3b6864126b",
   "metadata": {},
   "outputs": [],
   "source": [
    "def document_refrence_resource_parser(document_ref):\n",
    "    document_ref_schema = dict()\n",
    "    if document_ref.id == None:\n",
    "        return None\n",
    "    document_ref_schema['ID'] = document_ref.id\n",
    "    document_ref_schema['status'] = document_ref.status\n",
    "    document_ref_schema['patient_id'] = document_ref.subject.reference\n",
    "    document_ref_schema['date'] = document_ref.date\n",
    "    document_ref_schema['maintained_by'] = document_ref.custodian.display\n",
    "    for i, doctor in enumerate(document_ref.author):\n",
    "        document_ref_schema[f'doctor_name_{i+1}'] = doctor.display\n",
    "    for i, coding in  enumerate(document_ref.type.coding):\n",
    "        document_ref_schema[f'document_type_code_{i+1}'] = coding.code ## LOINC Code\n",
    "    for i, category in enumerate(document_ref.category):\n",
    "        document_ref_schema[f'category_code_{i+1}'] = ','.join([coding.code for coding in category.coding])\n",
    "    for i,doc in enumerate(document_ref.content):\n",
    "        document_ref_schema[f'data_{i+1}'] = doc.attachment.data ## LOINC Code\n",
    "    for i, encounter in enumerate(document_ref.context.encounter):\n",
    "        document_ref_schema[f'encounter_id_{i+1}'] = encounter.reference\n",
    "    \n",
    "    return document_ref_schema"
   ]
  },
  {
   "cell_type": "code",
   "execution_count": 201,
   "id": "0567942d-95ae-4f3b-8c5f-9cb72cdeceb9",
   "metadata": {},
   "outputs": [],
   "source": [
    "parse_results = []\n",
    "for i,entry in enumerate(bundle.entry): ## TESTING\n",
    "    if entry.request.url == 'DocumentReference':\n",
    "        result = document_refrence_resource_parser(entry.resource)\n",
    "        parse_results.append(result)"
   ]
  },
  {
   "cell_type": "markdown",
   "id": "5811de94-ae25-423e-a6ac-c1bc3ec308ad",
   "metadata": {},
   "source": [
    "## Claim Resource"
   ]
  },
  {
   "cell_type": "code",
   "execution_count": 231,
   "id": "ffeb57c7-2ed7-4c8a-8a05-c893b06766a9",
   "metadata": {},
   "outputs": [
    {
     "data": {
      "text/plain": [
       "fhir.resources.R4B.claim.Claim"
      ]
     },
     "execution_count": 231,
     "metadata": {},
     "output_type": "execute_result"
    }
   ],
   "source": [
    "type(bundle.entry[5].resource)"
   ]
  },
  {
   "cell_type": "code",
   "execution_count": 232,
   "id": "e3fe2b68-aba7-4b10-9ef8-53b8c29f910b",
   "metadata": {},
   "outputs": [
    {
     "data": {
      "text/plain": [
       "Claim(fhir_comments=None, id='7e324630-dd87-d5d5-0372-94ae2dc5cf61', implicitRules=None, implicitRules__ext=None, language=None, language__ext=None, meta=None, contained=None, extension=None, modifierExtension=None, text=None, accident=None, billablePeriod=Period(fhir_comments=None, extension=None, id=None, end=datetime.datetime(2000, 10, 11, 2, 15, 48, tzinfo=TzInfo(UTC)), end__ext=None, start=datetime.datetime(2000, 10, 11, 1, 43, 8, tzinfo=TzInfo(UTC)), start__ext=None), careTeam=None, created=datetime.datetime(2000, 10, 11, 2, 15, 48, tzinfo=TzInfo(UTC)), created__ext=None, diagnosis=[ClaimDiagnosis(fhir_comments=None, extension=None, id=None, modifierExtension=None, diagnosisCodeableConcept=None, diagnosisReference=Reference(fhir_comments=None, extension=None, id=None, display=None, display__ext=None, identifier=None, reference='urn:uuid:d0dbc708-18ea-9d78-1135-d77190d7220c', reference__ext=None, type=None, type__ext=None), onAdmission=None, packageCode=None, sequence=1, sequence__ext=None, type=None)], enterer=None, facility=Reference(fhir_comments=None, extension=None, id=None, display='UNITED MEDICAL CARE LLC', display__ext=None, identifier=None, reference='Location?identifier=https://github.com/synthetichealth/synthea|6e3d04a3-9064-33e4-b8b5-63bb468d7629', reference__ext=None, type=None, type__ext=None), fundsReserve=None, identifier=None, insurance=[ClaimInsurance(fhir_comments=None, extension=None, id=None, modifierExtension=None, businessArrangement=None, businessArrangement__ext=None, claimResponse=None, coverage=Reference(fhir_comments=None, extension=None, id=None, display='Blue Cross Blue Shield', display__ext=None, identifier=None, reference=None, reference__ext=None, type=None, type__ext=None), focal=True, focal__ext=None, identifier=None, preAuthRef=None, preAuthRef__ext=None, sequence=1, sequence__ext=None)], insurer=None, item=[ClaimItem(fhir_comments=None, extension=None, id=None, modifierExtension=None, bodySite=None, careTeamSequence=None, careTeamSequence__ext=None, category=None, detail=None, diagnosisSequence=None, diagnosisSequence__ext=None, encounter=[Reference(fhir_comments=None, extension=None, id=None, display=None, display__ext=None, identifier=None, reference='urn:uuid:d4f80e47-91cc-d21d-94a1-767692fea519', reference__ext=None, type=None, type__ext=None)], factor=None, factor__ext=None, informationSequence=None, informationSequence__ext=None, locationAddress=None, locationCodeableConcept=None, locationReference=None, modifier=None, net=None, procedureSequence=None, procedureSequence__ext=None, productOrService=CodeableConcept(fhir_comments=None, extension=None, id=None, coding=[Coding(fhir_comments=None, extension=None, id=None, code='162673000', code__ext=None, display='General examination of patient (procedure)', display__ext=None, system='http://snomed.info/sct', system__ext=None, userSelected=None, userSelected__ext=None, version=None, version__ext=None)], text='General examination of patient (procedure)', text__ext=None), programCode=None, quantity=None, revenue=None, sequence=1, sequence__ext=None, servicedDate=None, servicedDate__ext=None, servicedPeriod=None, subSite=None, udi=None, unitPrice=None), ClaimItem(fhir_comments=None, extension=None, id=None, modifierExtension=None, bodySite=None, careTeamSequence=None, careTeamSequence__ext=None, category=None, detail=None, diagnosisSequence=[1], diagnosisSequence__ext=None, encounter=None, factor=None, factor__ext=None, informationSequence=None, informationSequence__ext=None, locationAddress=None, locationCodeableConcept=None, locationReference=None, modifier=None, net=None, procedureSequence=None, procedureSequence__ext=None, productOrService=CodeableConcept(fhir_comments=None, extension=None, id=None, coding=[Coding(fhir_comments=None, extension=None, id=None, code='224299000', code__ext=None, display='Received higher education (finding)', display__ext=None, system='http://snomed.info/sct', system__ext=None, userSelected=None, userSelected__ext=None, version=None, version__ext=None)], text='Received higher education (finding)', text__ext=None), programCode=None, quantity=None, revenue=None, sequence=2, sequence__ext=None, servicedDate=None, servicedDate__ext=None, servicedPeriod=None, subSite=None, udi=None, unitPrice=None)], originalPrescription=None, patient=Reference(fhir_comments=None, extension=None, id=None, display='Delbert384 Cummings51', display__ext=None, identifier=None, reference='urn:uuid:39055503-68de-ca85-9d7e-2548201875ee', reference__ext=None, type=None, type__ext=None), payee=None, prescription=None, priority=CodeableConcept(fhir_comments=None, extension=None, id=None, coding=[Coding(fhir_comments=None, extension=None, id=None, code='normal', code__ext=None, display=None, display__ext=None, system='http://terminology.hl7.org/CodeSystem/processpriority', system__ext=None, userSelected=None, userSelected__ext=None, version=None, version__ext=None)], text=None, text__ext=None), procedure=None, provider=Reference(fhir_comments=None, extension=None, id=None, display='UNITED MEDICAL CARE LLC', display__ext=None, identifier=None, reference='Organization?identifier=https://github.com/synthetichealth/synthea|4e56c7ec-99e5-3023-8e4f-95ad18a03f06', reference__ext=None, type=None, type__ext=None), referral=None, related=None, status='active', status__ext=None, subType=None, supportingInfo=None, total=Money(fhir_comments=None, extension=None, id=None, currency='USD', currency__ext=None, value=Decimal('704.200000000000045474735088646411895751953125'), value__ext=None), type=CodeableConcept(fhir_comments=None, extension=None, id=None, coding=[Coding(fhir_comments=None, extension=None, id=None, code='professional', code__ext=None, display=None, display__ext=None, system='http://terminology.hl7.org/CodeSystem/claim-type', system__ext=None, userSelected=None, userSelected__ext=None, version=None, version__ext=None)], text=None, text__ext=None), use='claim', use__ext=None)"
      ]
     },
     "execution_count": 232,
     "metadata": {},
     "output_type": "execute_result"
    }
   ],
   "source": [
    "claim = bundle.entry[5].resource\n",
    "claim"
   ]
  },
  {
   "cell_type": "code",
   "execution_count": 233,
   "id": "0f6f2326-55c2-414e-b63d-c89d65e3bb99",
   "metadata": {},
   "outputs": [
    {
     "data": {
      "text/plain": [
       "'7e324630-dd87-d5d5-0372-94ae2dc5cf61'"
      ]
     },
     "execution_count": 233,
     "metadata": {},
     "output_type": "execute_result"
    }
   ],
   "source": [
    "claim.id"
   ]
  },
  {
   "cell_type": "code",
   "execution_count": 234,
   "id": "ae0905c6-a0d6-4f80-8a36-72909cf614bb",
   "metadata": {},
   "outputs": [
    {
     "data": {
      "text/plain": [
       "'active'"
      ]
     },
     "execution_count": 234,
     "metadata": {},
     "output_type": "execute_result"
    }
   ],
   "source": [
    "claim.status"
   ]
  },
  {
   "cell_type": "code",
   "execution_count": 235,
   "id": "11f2dbbc-dae9-42c9-8db5-2f4c38f70c31",
   "metadata": {},
   "outputs": [
    {
     "data": {
      "text/plain": [
       "CodeableConcept(fhir_comments=None, extension=None, id=None, coding=[Coding(fhir_comments=None, extension=None, id=None, code='professional', code__ext=None, display=None, display__ext=None, system='http://terminology.hl7.org/CodeSystem/claim-type', system__ext=None, userSelected=None, userSelected__ext=None, version=None, version__ext=None)], text=None, text__ext=None)"
      ]
     },
     "execution_count": 235,
     "metadata": {},
     "output_type": "execute_result"
    }
   ],
   "source": [
    "claim.type"
   ]
  },
  {
   "cell_type": "code",
   "execution_count": 236,
   "id": "3f0663e6-e55c-4778-93f8-5b657901bcd3",
   "metadata": {},
   "outputs": [
    {
     "data": {
      "text/plain": [
       "'claim'"
      ]
     },
     "execution_count": 236,
     "metadata": {},
     "output_type": "execute_result"
    }
   ],
   "source": [
    "claim.use"
   ]
  },
  {
   "cell_type": "code",
   "execution_count": 237,
   "id": "7704b4fd-cec6-422b-a0af-d46f9be55ff3",
   "metadata": {},
   "outputs": [
    {
     "data": {
      "text/plain": [
       "'urn:uuid:39055503-68de-ca85-9d7e-2548201875ee'"
      ]
     },
     "execution_count": 237,
     "metadata": {},
     "output_type": "execute_result"
    }
   ],
   "source": [
    "claim.patient.reference"
   ]
  },
  {
   "cell_type": "code",
   "execution_count": 238,
   "id": "c79d6bd0-641f-41f6-8ac2-d2be11d85435",
   "metadata": {},
   "outputs": [
    {
     "data": {
      "text/plain": [
       "datetime.datetime(2000, 10, 11, 2, 15, 48, tzinfo=TzInfo(UTC))"
      ]
     },
     "execution_count": 238,
     "metadata": {},
     "output_type": "execute_result"
    }
   ],
   "source": [
    "claim.billablePeriod.end"
   ]
  },
  {
   "cell_type": "code",
   "execution_count": 239,
   "id": "80743f9c-0810-4898-9634-b703351a3339",
   "metadata": {},
   "outputs": [
    {
     "data": {
      "text/plain": [
       "datetime.datetime(2000, 10, 11, 2, 15, 48, tzinfo=TzInfo(UTC))"
      ]
     },
     "execution_count": 239,
     "metadata": {},
     "output_type": "execute_result"
    }
   ],
   "source": [
    "claim.created"
   ]
  },
  {
   "cell_type": "code",
   "execution_count": 240,
   "id": "0dec7f9a-7b0b-490e-b3e5-9cc761859a48",
   "metadata": {},
   "outputs": [
    {
     "data": {
      "text/plain": [
       "[ClaimDiagnosis(fhir_comments=None, extension=None, id=None, modifierExtension=None, diagnosisCodeableConcept=None, diagnosisReference=Reference(fhir_comments=None, extension=None, id=None, display=None, display__ext=None, identifier=None, reference='urn:uuid:d0dbc708-18ea-9d78-1135-d77190d7220c', reference__ext=None, type=None, type__ext=None), onAdmission=None, packageCode=None, sequence=1, sequence__ext=None, type=None)]"
      ]
     },
     "execution_count": 240,
     "metadata": {},
     "output_type": "execute_result"
    }
   ],
   "source": [
    "claim.diagnosis"
   ]
  },
  {
   "cell_type": "code",
   "execution_count": 241,
   "id": "9edfb9f0-d82a-4175-b484-cae4cc13c873",
   "metadata": {},
   "outputs": [],
   "source": [
    "claim.enterer"
   ]
  },
  {
   "cell_type": "code",
   "execution_count": 242,
   "id": "019f06ab-3cde-4cd9-a25b-443c56045f53",
   "metadata": {},
   "outputs": [],
   "source": [
    "claim.insurer"
   ]
  },
  {
   "cell_type": "code",
   "execution_count": 243,
   "id": "2d2de0a2-20c1-4008-a834-ee56dade97df",
   "metadata": {},
   "outputs": [
    {
     "data": {
      "text/plain": [
       "Reference(fhir_comments=None, extension=None, id=None, display='UNITED MEDICAL CARE LLC', display__ext=None, identifier=None, reference='Organization?identifier=https://github.com/synthetichealth/synthea|4e56c7ec-99e5-3023-8e4f-95ad18a03f06', reference__ext=None, type=None, type__ext=None)"
      ]
     },
     "execution_count": 243,
     "metadata": {},
     "output_type": "execute_result"
    }
   ],
   "source": [
    "claim.provider"
   ]
  },
  {
   "cell_type": "code",
   "execution_count": 244,
   "id": "fc08041a-fdbe-46b5-b3f3-9036bb0d9738",
   "metadata": {},
   "outputs": [
    {
     "data": {
      "text/plain": [
       "'normal'"
      ]
     },
     "execution_count": 244,
     "metadata": {},
     "output_type": "execute_result"
    }
   ],
   "source": [
    "claim.priority.coding[0].code"
   ]
  },
  {
   "cell_type": "code",
   "execution_count": 245,
   "id": "3c782da2-6385-4e3a-9bb6-55b9e37ef5ea",
   "metadata": {},
   "outputs": [],
   "source": [
    "claim.prescription"
   ]
  },
  {
   "cell_type": "code",
   "execution_count": 246,
   "id": "44e24469-c709-4521-ae0b-d68bc62b327e",
   "metadata": {},
   "outputs": [],
   "source": [
    "claim.originalPrescription"
   ]
  },
  {
   "cell_type": "code",
   "execution_count": 247,
   "id": "93e53774-eec9-4e0c-8900-3e2cb6753406",
   "metadata": {},
   "outputs": [],
   "source": [
    "claim.related"
   ]
  },
  {
   "cell_type": "code",
   "execution_count": 248,
   "id": "772253d1-c79a-4618-8ccd-baf797388dc4",
   "metadata": {},
   "outputs": [],
   "source": [
    "claim.payee"
   ]
  },
  {
   "cell_type": "code",
   "execution_count": 249,
   "id": "f39c6eb3-013d-4b89-98fb-021a6f17dd9f",
   "metadata": {},
   "outputs": [],
   "source": [
    "claim.referral"
   ]
  },
  {
   "cell_type": "code",
   "execution_count": 250,
   "id": "eff9728b-83bd-40bb-b4a7-791e1fc1d36a",
   "metadata": {},
   "outputs": [
    {
     "data": {
      "text/plain": [
       "'UNITED MEDICAL CARE LLC'"
      ]
     },
     "execution_count": 250,
     "metadata": {},
     "output_type": "execute_result"
    }
   ],
   "source": [
    "claim.facility.display"
   ]
  },
  {
   "cell_type": "code",
   "execution_count": 251,
   "id": "ef310e8d-f353-4f71-863a-705d36ed1a98",
   "metadata": {},
   "outputs": [
    {
     "data": {
      "text/plain": [
       "'urn:uuid:d0dbc708-18ea-9d78-1135-d77190d7220c'"
      ]
     },
     "execution_count": 251,
     "metadata": {},
     "output_type": "execute_result"
    }
   ],
   "source": [
    "claim.diagnosis[0].diagnosisReference.reference"
   ]
  },
  {
   "cell_type": "code",
   "execution_count": 252,
   "id": "587cea43-6033-4362-a10e-7a019211264f",
   "metadata": {},
   "outputs": [
    {
     "data": {
      "text/plain": [
       "'Blue Cross Blue Shield'"
      ]
     },
     "execution_count": 252,
     "metadata": {},
     "output_type": "execute_result"
    }
   ],
   "source": [
    "claim.insurance[0].coverage.display"
   ]
  },
  {
   "cell_type": "code",
   "execution_count": 253,
   "id": "6fcaaad0-1ce0-4f0a-9096-cd3a309d6638",
   "metadata": {},
   "outputs": [
    {
     "data": {
      "text/plain": [
       "[ClaimItem(fhir_comments=None, extension=None, id=None, modifierExtension=None, bodySite=None, careTeamSequence=None, careTeamSequence__ext=None, category=None, detail=None, diagnosisSequence=None, diagnosisSequence__ext=None, encounter=[Reference(fhir_comments=None, extension=None, id=None, display=None, display__ext=None, identifier=None, reference='urn:uuid:d4f80e47-91cc-d21d-94a1-767692fea519', reference__ext=None, type=None, type__ext=None)], factor=None, factor__ext=None, informationSequence=None, informationSequence__ext=None, locationAddress=None, locationCodeableConcept=None, locationReference=None, modifier=None, net=None, procedureSequence=None, procedureSequence__ext=None, productOrService=CodeableConcept(fhir_comments=None, extension=None, id=None, coding=[Coding(fhir_comments=None, extension=None, id=None, code='162673000', code__ext=None, display='General examination of patient (procedure)', display__ext=None, system='http://snomed.info/sct', system__ext=None, userSelected=None, userSelected__ext=None, version=None, version__ext=None)], text='General examination of patient (procedure)', text__ext=None), programCode=None, quantity=None, revenue=None, sequence=1, sequence__ext=None, servicedDate=None, servicedDate__ext=None, servicedPeriod=None, subSite=None, udi=None, unitPrice=None),\n",
       " ClaimItem(fhir_comments=None, extension=None, id=None, modifierExtension=None, bodySite=None, careTeamSequence=None, careTeamSequence__ext=None, category=None, detail=None, diagnosisSequence=[1], diagnosisSequence__ext=None, encounter=None, factor=None, factor__ext=None, informationSequence=None, informationSequence__ext=None, locationAddress=None, locationCodeableConcept=None, locationReference=None, modifier=None, net=None, procedureSequence=None, procedureSequence__ext=None, productOrService=CodeableConcept(fhir_comments=None, extension=None, id=None, coding=[Coding(fhir_comments=None, extension=None, id=None, code='224299000', code__ext=None, display='Received higher education (finding)', display__ext=None, system='http://snomed.info/sct', system__ext=None, userSelected=None, userSelected__ext=None, version=None, version__ext=None)], text='Received higher education (finding)', text__ext=None), programCode=None, quantity=None, revenue=None, sequence=2, sequence__ext=None, servicedDate=None, servicedDate__ext=None, servicedPeriod=None, subSite=None, udi=None, unitPrice=None)]"
      ]
     },
     "execution_count": 253,
     "metadata": {},
     "output_type": "execute_result"
    }
   ],
   "source": [
    "claim.item"
   ]
  },
  {
   "cell_type": "code",
   "execution_count": 254,
   "id": "b9655135-4525-4195-9bce-e7ca2e265718",
   "metadata": {},
   "outputs": [
    {
     "data": {
      "text/plain": [
       "Decimal('704.200000000000045474735088646411895751953125')"
      ]
     },
     "execution_count": 254,
     "metadata": {},
     "output_type": "execute_result"
    }
   ],
   "source": [
    "claim.total.value"
   ]
  },
  {
   "cell_type": "code",
   "execution_count": 255,
   "id": "79e6b0ec-e6ac-4042-96ea-976bd6844809",
   "metadata": {},
   "outputs": [],
   "source": [
    "def claim_resource_parser(claim):\n",
    "    if claim.id == None:\n",
    "        return None\n",
    "    claim_schema = dict()\n",
    "    claim_schema['ID'] = claim.id\n",
    "    claim_schema['status'] = getattr(claim, 'status', None)\n",
    "    claim_schema['claim_type_codes'] = ','.join([codings.code for codings in claim.type.coding])\n",
    "    claim_schema['claim_use'] = getattr(claim, 'use', None)\n",
    "    claim_schema['created'] = getattr(claim, 'created', None)\n",
    "    claim_schema['enterer'] = getattr(claim, 'enterer', None)\n",
    "    claim_schema['insurer'] = getattr(claim, 'insurer', None)\n",
    "    claim_schema['provider'] = getattr(claim, 'provider', None)\n",
    "    claim_schema['created'] = getattr(claim, 'created', None)\n",
    "    claim_schema['prescription'] = getattr(claim, 'prescription', None)\n",
    "    claim_schema['related'] = getattr(claim, 'related', None)\n",
    "    claim_schema['referral'] = getattr(claim, 'referral', None)\n",
    "    claim_schema['payee'] = getattr(claim, 'payee', None)\n",
    "    claim_schema['procedure'] = getattr(claim, 'procedure', None)\n",
    "    claim_schema['originalPrescription'] = getattr(claim, 'originalPrescription', None)\n",
    "    claim_schema['careTeam'] = getattr(claim, 'careTeam', None)\n",
    "    claim_schema['careTeam'] = getattr(claim, 'careTeam', None)\n",
    "    claim_schema['accident'] = getattr(claim, 'accident', None)\n",
    "    claim_schema['patient_id'] = claim.patient.reference\n",
    "    claim_schema['billable_start'] = claim.billablePeriod.start\n",
    "    claim_schema['billable_end'] = claim.billablePeriod.end\n",
    "    claim_schema['claim_priority_code'] = claim.priority.coding[0].code\n",
    "    if claim.facility != None:\n",
    "        claim_schema['facility'] = claim.facility.display\n",
    "    else:\n",
    "        claim_schema['facility'] = None\n",
    "    if claim.diagnosis != None:\n",
    "        claim_schema['diagnosis_refrence_id'] = claim.diagnosis[0].diagnosisReference.reference\n",
    "    else:\n",
    "        claim_schema['diagnosis_refrence_id'] = None\n",
    "    for i, insurance in enumerate(claim.insurance):\n",
    "        claim_schema[f'insurance_{i+1}'] = insurance.coverage.display\n",
    "    claim_schema['claim_amount'] = claim.total.value\n",
    "\n",
    "    return claim_schema"
   ]
  },
  {
   "cell_type": "code",
   "execution_count": 228,
   "id": "8dfd20e3-7ba5-48cd-9a92-9172b68f0405",
   "metadata": {},
   "outputs": [],
   "source": [
    "parse_results = []\n",
    "for i,entry in enumerate(bundle.entry): ## TESTING\n",
    "    if entry.request.url == 'Claim':\n",
    "        result = claim_resource_parser(entry.resource)\n",
    "        parse_results.append(result)"
   ]
  },
  {
   "cell_type": "markdown",
   "id": "5dce6cc3-b3de-4dde-9549-585491e45648",
   "metadata": {},
   "source": [
    "## "
   ]
  },
  {
   "cell_type": "code",
   "execution_count": 287,
   "id": "de915d5b-48bf-4a99-9cd5-c28751704a53",
   "metadata": {},
   "outputs": [
    {
     "data": {
      "text/plain": [
       "fhir.resources.R4B.explanationofbenefit.ExplanationOfBenefit"
      ]
     },
     "execution_count": 287,
     "metadata": {},
     "output_type": "execute_result"
    }
   ],
   "source": [
    "type(bundle.entry[6].resource)"
   ]
  },
  {
   "cell_type": "code",
   "execution_count": 289,
   "id": "20429d4a-e7dc-410a-9ac8-eb70bda44e8d",
   "metadata": {},
   "outputs": [
    {
     "data": {
      "text/plain": [
       "ExplanationOfBenefit(fhir_comments=None, id='c8acfdaa-1fd6-da08-ee0b-5345de0923d2', implicitRules=None, implicitRules__ext=None, language=None, language__ext=None, meta=None, contained=[ServiceRequest(fhir_comments=None, id='referral', implicitRules=None, implicitRules__ext=None, language=None, language__ext=None, meta=None, contained=None, extension=None, modifierExtension=None, text=None, asNeededBoolean=None, asNeededBoolean__ext=None, asNeededCodeableConcept=None, authoredOn=None, authoredOn__ext=None, basedOn=None, bodySite=None, category=None, code=None, doNotPerform=None, doNotPerform__ext=None, encounter=None, identifier=None, instantiatesCanonical=None, instantiatesCanonical__ext=None, instantiatesUri=None, instantiatesUri__ext=None, insurance=None, intent='order', intent__ext=None, locationCode=None, locationReference=None, note=None, occurrenceDateTime=None, occurrenceDateTime__ext=None, occurrencePeriod=None, occurrenceTiming=None, orderDetail=None, patientInstruction=None, patientInstruction__ext=None, performer=[Reference(fhir_comments=None, extension=None, id=None, display=None, display__ext=None, identifier=None, reference='Practitioner?identifier=http://hl7.org/fhir/sid/us-npi|9999942599', reference__ext=None, type=None, type__ext=None)], performerType=None, priority=None, priority__ext=None, quantityQuantity=None, quantityRange=None, quantityRatio=None, reasonCode=None, reasonReference=None, relevantHistory=None, replaces=None, requester=Reference(fhir_comments=None, extension=None, id=None, display=None, display__ext=None, identifier=None, reference='Practitioner?identifier=http://hl7.org/fhir/sid/us-npi|9999942599', reference__ext=None, type=None, type__ext=None), requisition=None, specimen=None, status='completed', status__ext=None, subject=Reference(fhir_comments=None, extension=None, id=None, display=None, display__ext=None, identifier=None, reference='urn:uuid:39055503-68de-ca85-9d7e-2548201875ee', reference__ext=None, type=None, type__ext=None), supportingInfo=None), Coverage(fhir_comments=None, id='coverage', implicitRules=None, implicitRules__ext=None, language=None, language__ext=None, meta=None, contained=None, extension=None, modifierExtension=None, text=None, beneficiary=Reference(fhir_comments=None, extension=None, id=None, display=None, display__ext=None, identifier=None, reference='urn:uuid:39055503-68de-ca85-9d7e-2548201875ee', reference__ext=None, type=None, type__ext=None), class_fhir=None, contract=None, costToBeneficiary=None, dependent=None, dependent__ext=None, identifier=None, network=None, network__ext=None, order=None, order__ext=None, payor=[Reference(fhir_comments=None, extension=None, id=None, display='Blue Cross Blue Shield', display__ext=None, identifier=None, reference=None, reference__ext=None, type=None, type__ext=None)], period=None, policyHolder=None, relationship=None, status='active', status__ext=None, subrogation=None, subrogation__ext=None, subscriber=None, subscriberId=None, subscriberId__ext=None, type=CodeableConcept(fhir_comments=None, extension=None, id=None, coding=None, text='Blue Cross Blue Shield', text__ext=None))], extension=None, modifierExtension=None, text=None, accident=None, addItem=None, adjudication=None, benefitBalance=None, benefitPeriod=None, billablePeriod=Period(fhir_comments=None, extension=None, id=None, end=datetime.datetime(2001, 10, 11, 2, 15, 48, tzinfo=TzInfo(UTC)), end__ext=None, start=datetime.datetime(2000, 10, 11, 2, 15, 48, tzinfo=TzInfo(UTC)), start__ext=None), careTeam=[ExplanationOfBenefitCareTeam(fhir_comments=None, extension=None, id=None, modifierExtension=None, provider=Reference(fhir_comments=None, extension=None, id=None, display=None, display__ext=None, identifier=None, reference='Practitioner?identifier=http://hl7.org/fhir/sid/us-npi|9999942599', reference__ext=None, type=None, type__ext=None), qualification=None, responsible=None, responsible__ext=None, role=CodeableConcept(fhir_comments=None, extension=None, id=None, coding=[Coding(fhir_comments=None, extension=None, id=None, code='primary', code__ext=None, display='Primary provider', display__ext=None, system='http://terminology.hl7.org/CodeSystem/claimcareteamrole', system__ext=None, userSelected=None, userSelected__ext=None, version=None, version__ext=None)], text=None, text__ext=None), sequence=1, sequence__ext=None)], claim=Reference(fhir_comments=None, extension=None, id=None, display=None, display__ext=None, identifier=None, reference='urn:uuid:7e324630-dd87-d5d5-0372-94ae2dc5cf61', reference__ext=None, type=None, type__ext=None), claimResponse=None, created=datetime.datetime(2000, 10, 11, 2, 15, 48, tzinfo=TzInfo(UTC)), created__ext=None, diagnosis=[ExplanationOfBenefitDiagnosis(fhir_comments=None, extension=None, id=None, modifierExtension=None, diagnosisCodeableConcept=None, diagnosisReference=Reference(fhir_comments=None, extension=None, id=None, display=None, display__ext=None, identifier=None, reference='urn:uuid:d0dbc708-18ea-9d78-1135-d77190d7220c', reference__ext=None, type=None, type__ext=None), onAdmission=None, packageCode=None, sequence=1, sequence__ext=None, type=[CodeableConcept(fhir_comments=None, extension=None, id=None, coding=[Coding(fhir_comments=None, extension=None, id=None, code='principal', code__ext=None, display=None, display__ext=None, system='http://terminology.hl7.org/CodeSystem/ex-diagnosistype', system__ext=None, userSelected=None, userSelected__ext=None, version=None, version__ext=None)], text=None, text__ext=None)])], disposition=None, disposition__ext=None, enterer=None, facility=Reference(fhir_comments=None, extension=None, id=None, display='UNITED MEDICAL CARE LLC', display__ext=None, identifier=None, reference='Location?identifier=https://github.com/synthetichealth/synthea|6e3d04a3-9064-33e4-b8b5-63bb468d7629', reference__ext=None, type=None, type__ext=None), form=None, formCode=None, fundsReserve=None, fundsReserveRequested=None, identifier=[Identifier(fhir_comments=None, extension=None, id=None, assigner=None, period=None, system='https://bluebutton.cms.gov/resources/variables/clm_id', system__ext=None, type=None, use=None, use__ext=None, value='7e324630-dd87-d5d5-0372-94ae2dc5cf61', value__ext=None), Identifier(fhir_comments=None, extension=None, id=None, assigner=None, period=None, system='https://bluebutton.cms.gov/resources/identifier/claim-group', system__ext=None, type=None, use=None, use__ext=None, value='99999999999', value__ext=None)], insurance=[ExplanationOfBenefitInsurance(fhir_comments=None, extension=None, id=None, modifierExtension=None, coverage=Reference(fhir_comments=None, extension=None, id=None, display='Blue Cross Blue Shield', display__ext=None, identifier=None, reference='#coverage', reference__ext=None, type=None, type__ext=None), focal=True, focal__ext=None, preAuthRef=None, preAuthRef__ext=None)], insurer=Reference(fhir_comments=None, extension=None, id=None, display='Blue Cross Blue Shield', display__ext=None, identifier=None, reference=None, reference__ext=None, type=None, type__ext=None), item=[ExplanationOfBenefitItem(fhir_comments=None, extension=None, id=None, modifierExtension=None, adjudication=None, bodySite=None, careTeamSequence=None, careTeamSequence__ext=None, category=CodeableConcept(fhir_comments=None, extension=None, id=None, coding=[Coding(fhir_comments=None, extension=None, id=None, code='1', code__ext=None, display='Medical care', display__ext=None, system='https://bluebutton.cms.gov/resources/variables/line_cms_type_srvc_cd', system__ext=None, userSelected=None, userSelected__ext=None, version=None, version__ext=None)], text=None, text__ext=None), detail=None, diagnosisSequence=None, diagnosisSequence__ext=None, encounter=[Reference(fhir_comments=None, extension=None, id=None, display=None, display__ext=None, identifier=None, reference='urn:uuid:d4f80e47-91cc-d21d-94a1-767692fea519', reference__ext=None, type=None, type__ext=None)], factor=None, factor__ext=None, informationSequence=None, informationSequence__ext=None, locationAddress=None, locationCodeableConcept=CodeableConcept(fhir_comments=None, extension=None, id=None, coding=[Coding(fhir_comments=None, extension=None, id=None, code='19', code__ext=None, display='Off Campus-Outpatient Hospital', display__ext=None, system='http://terminology.hl7.org/CodeSystem/ex-serviceplace', system__ext=None, userSelected=None, userSelected__ext=None, version=None, version__ext=None)], text=None, text__ext=None), locationReference=None, modifier=None, net=None, noteNumber=None, noteNumber__ext=None, procedureSequence=None, procedureSequence__ext=None, productOrService=CodeableConcept(fhir_comments=None, extension=None, id=None, coding=[Coding(fhir_comments=None, extension=None, id=None, code='162673000', code__ext=None, display='General examination of patient (procedure)', display__ext=None, system='http://snomed.info/sct', system__ext=None, userSelected=None, userSelected__ext=None, version=None, version__ext=None)], text='General examination of patient (procedure)', text__ext=None), programCode=None, quantity=None, revenue=None, sequence=1, sequence__ext=None, servicedDate=None, servicedDate__ext=None, servicedPeriod=Period(fhir_comments=None, extension=None, id=None, end=datetime.datetime(2000, 10, 11, 2, 15, 48, tzinfo=TzInfo(UTC)), end__ext=None, start=datetime.datetime(2000, 10, 11, 1, 43, 8, tzinfo=TzInfo(UTC)), start__ext=None), subSite=None, udi=None, unitPrice=None), ExplanationOfBenefitItem(fhir_comments=None, extension=None, id=None, modifierExtension=None, adjudication=None, bodySite=None, careTeamSequence=None, careTeamSequence__ext=None, category=CodeableConcept(fhir_comments=None, extension=None, id=None, coding=[Coding(fhir_comments=None, extension=None, id=None, code='1', code__ext=None, display='Medical care', display__ext=None, system='https://bluebutton.cms.gov/resources/variables/line_cms_type_srvc_cd', system__ext=None, userSelected=None, userSelected__ext=None, version=None, version__ext=None)], text=None, text__ext=None), detail=None, diagnosisSequence=[1], diagnosisSequence__ext=None, encounter=None, factor=None, factor__ext=None, informationSequence=None, informationSequence__ext=None, locationAddress=None, locationCodeableConcept=CodeableConcept(fhir_comments=None, extension=None, id=None, coding=[Coding(fhir_comments=None, extension=None, id=None, code='19', code__ext=None, display='Off Campus-Outpatient Hospital', display__ext=None, system='http://terminology.hl7.org/CodeSystem/ex-serviceplace', system__ext=None, userSelected=None, userSelected__ext=None, version=None, version__ext=None)], text=None, text__ext=None), locationReference=None, modifier=None, net=None, noteNumber=None, noteNumber__ext=None, procedureSequence=None, procedureSequence__ext=None, productOrService=CodeableConcept(fhir_comments=None, extension=None, id=None, coding=[Coding(fhir_comments=None, extension=None, id=None, code='224299000', code__ext=None, display='Received higher education (finding)', display__ext=None, system='http://snomed.info/sct', system__ext=None, userSelected=None, userSelected__ext=None, version=None, version__ext=None)], text='Received higher education (finding)', text__ext=None), programCode=None, quantity=None, revenue=None, sequence=2, sequence__ext=None, servicedDate=None, servicedDate__ext=None, servicedPeriod=Period(fhir_comments=None, extension=None, id=None, end=datetime.datetime(2000, 10, 11, 2, 15, 48, tzinfo=TzInfo(UTC)), end__ext=None, start=datetime.datetime(2000, 10, 11, 1, 43, 8, tzinfo=TzInfo(UTC)), start__ext=None), subSite=None, udi=None, unitPrice=None)], originalPrescription=None, outcome='complete', outcome__ext=None, patient=Reference(fhir_comments=None, extension=None, id=None, display=None, display__ext=None, identifier=None, reference='urn:uuid:39055503-68de-ca85-9d7e-2548201875ee', reference__ext=None, type=None, type__ext=None), payee=None, payment=ExplanationOfBenefitPayment(fhir_comments=None, extension=None, id=None, modifierExtension=None, adjustment=None, adjustmentReason=None, amount=Money(fhir_comments=None, extension=None, id=None, currency='USD', currency__ext=None, value=Decimal('0'), value__ext=None), date=None, date__ext=None, identifier=None, type=None), preAuthRef=None, preAuthRef__ext=None, preAuthRefPeriod=None, precedence=None, precedence__ext=None, prescription=None, priority=None, procedure=None, processNote=None, provider=Reference(fhir_comments=None, extension=None, id=None, display=None, display__ext=None, identifier=None, reference='Practitioner?identifier=http://hl7.org/fhir/sid/us-npi|9999942599', reference__ext=None, type=None, type__ext=None), referral=Reference(fhir_comments=None, extension=None, id=None, display=None, display__ext=None, identifier=None, reference='#referral', reference__ext=None, type=None, type__ext=None), related=None, status='active', status__ext=None, subType=None, supportingInfo=None, total=[ExplanationOfBenefitTotal(fhir_comments=None, extension=None, id=None, modifierExtension=None, amount=Money(fhir_comments=None, extension=None, id=None, currency='USD', currency__ext=None, value=Decimal('704.200000000000045474735088646411895751953125'), value__ext=None), category=CodeableConcept(fhir_comments=None, extension=None, id=None, coding=[Coding(fhir_comments=None, extension=None, id=None, code='submitted', code__ext=None, display='Submitted Amount', display__ext=None, system='http://terminology.hl7.org/CodeSystem/adjudication', system__ext=None, userSelected=None, userSelected__ext=None, version=None, version__ext=None)], text='Submitted Amount', text__ext=None))], type=CodeableConcept(fhir_comments=None, extension=None, id=None, coding=[Coding(fhir_comments=None, extension=None, id=None, code='professional', code__ext=None, display=None, display__ext=None, system='http://terminology.hl7.org/CodeSystem/claim-type', system__ext=None, userSelected=None, userSelected__ext=None, version=None, version__ext=None)], text=None, text__ext=None), use='claim', use__ext=None)"
      ]
     },
     "execution_count": 289,
     "metadata": {},
     "output_type": "execute_result"
    }
   ],
   "source": [
    "explain_ob = bundle.entry[6].resource\n",
    "explain_ob"
   ]
  },
  {
   "cell_type": "code",
   "execution_count": 290,
   "id": "f936a132-49d0-4fa8-af87-d788bbef910d",
   "metadata": {},
   "outputs": [
    {
     "data": {
      "text/plain": [
       "'c8acfdaa-1fd6-da08-ee0b-5345de0923d2'"
      ]
     },
     "execution_count": 290,
     "metadata": {},
     "output_type": "execute_result"
    }
   ],
   "source": [
    "explain_ob.id"
   ]
  },
  {
   "cell_type": "code",
   "execution_count": 291,
   "id": "eb440e91-a64f-4187-ae1b-68b18eb7275e",
   "metadata": {},
   "outputs": [
    {
     "data": {
      "text/plain": [
       "'active'"
      ]
     },
     "execution_count": 291,
     "metadata": {},
     "output_type": "execute_result"
    }
   ],
   "source": [
    "explain_ob.status"
   ]
  },
  {
   "cell_type": "code",
   "execution_count": 292,
   "id": "b57c84eb-e1e8-44c1-94d2-e888220f8b16",
   "metadata": {},
   "outputs": [
    {
     "data": {
      "text/plain": [
       "CodeableConcept(fhir_comments=None, extension=None, id=None, coding=[Coding(fhir_comments=None, extension=None, id=None, code='professional', code__ext=None, display=None, display__ext=None, system='http://terminology.hl7.org/CodeSystem/claim-type', system__ext=None, userSelected=None, userSelected__ext=None, version=None, version__ext=None)], text=None, text__ext=None)"
      ]
     },
     "execution_count": 292,
     "metadata": {},
     "output_type": "execute_result"
    }
   ],
   "source": [
    "explain_ob.type"
   ]
  },
  {
   "cell_type": "code",
   "execution_count": 293,
   "id": "0bd8c39e-4e94-4fe3-a737-15c50664bcdd",
   "metadata": {},
   "outputs": [],
   "source": [
    "explain_ob.subType"
   ]
  },
  {
   "cell_type": "code",
   "execution_count": 294,
   "id": "f868c531-e4a7-450f-9dd6-f2308f36bade",
   "metadata": {},
   "outputs": [
    {
     "data": {
      "text/plain": [
       "'claim'"
      ]
     },
     "execution_count": 294,
     "metadata": {},
     "output_type": "execute_result"
    }
   ],
   "source": [
    "explain_ob.use"
   ]
  },
  {
   "cell_type": "code",
   "execution_count": 339,
   "id": "90558239-c3e5-409b-b841-0254af31e14c",
   "metadata": {},
   "outputs": [
    {
     "data": {
      "text/plain": [
       "'urn:uuid:39055503-68de-ca85-9d7e-2548201875ee'"
      ]
     },
     "execution_count": 339,
     "metadata": {},
     "output_type": "execute_result"
    }
   ],
   "source": [
    "explain_ob.patient.reference"
   ]
  },
  {
   "cell_type": "code",
   "execution_count": 367,
   "id": "eff2048b-c148-4e36-bdea-1646164ad883",
   "metadata": {},
   "outputs": [
    {
     "data": {
      "text/plain": [
       "[ExplanationOfBenefitCareTeam(fhir_comments=None, extension=None, id=None, modifierExtension=None, provider=Reference(fhir_comments=None, extension=None, id=None, display=None, display__ext=None, identifier=None, reference='Practitioner?identifier=http://hl7.org/fhir/sid/us-npi|9999942599', reference__ext=None, type=None, type__ext=None), qualification=None, responsible=None, responsible__ext=None, role=CodeableConcept(fhir_comments=None, extension=None, id=None, coding=[Coding(fhir_comments=None, extension=None, id=None, code='primary', code__ext=None, display='Primary provider', display__ext=None, system='http://terminology.hl7.org/CodeSystem/claimcareteamrole', system__ext=None, userSelected=None, userSelected__ext=None, version=None, version__ext=None)], text=None, text__ext=None), sequence=1, sequence__ext=None)]"
      ]
     },
     "execution_count": 367,
     "metadata": {},
     "output_type": "execute_result"
    }
   ],
   "source": [
    "explain_ob.careTeam"
   ]
  },
  {
   "cell_type": "code",
   "execution_count": 334,
   "id": "10638d4d-6bc1-454a-acfe-9ff2b84066f6",
   "metadata": {},
   "outputs": [
    {
     "data": {
      "text/plain": [
       "Reference(fhir_comments=None, extension=None, id=None, display=None, display__ext=None, identifier=None, reference='urn:uuid:7e324630-dd87-d5d5-0372-94ae2dc5cf61', reference__ext=None, type=None, type__ext=None)"
      ]
     },
     "execution_count": 334,
     "metadata": {},
     "output_type": "execute_result"
    }
   ],
   "source": [
    "explain_ob.claim"
   ]
  },
  {
   "cell_type": "code",
   "execution_count": 336,
   "id": "6ec9872c-6d4a-4ff4-b486-4a8ca8f0ddcc",
   "metadata": {},
   "outputs": [
    {
     "data": {
      "text/plain": [
       "datetime.datetime(2000, 10, 11, 2, 15, 48, tzinfo=TzInfo(UTC))"
      ]
     },
     "execution_count": 336,
     "metadata": {},
     "output_type": "execute_result"
    }
   ],
   "source": [
    "explain_ob.created"
   ]
  },
  {
   "cell_type": "code",
   "execution_count": null,
   "id": "ba7aaea5-9c28-41f7-9263-3e18275fefbe",
   "metadata": {},
   "outputs": [],
   "source": []
  },
  {
   "cell_type": "code",
   "execution_count": 361,
   "id": "25f75dbd-301a-40f9-b32a-893eaba9f15a",
   "metadata": {},
   "outputs": [
    {
     "data": {
      "text/plain": [
       "'urn:uuid:7e324630-dd87-d5d5-0372-94ae2dc5cf61'"
      ]
     },
     "execution_count": 361,
     "metadata": {},
     "output_type": "execute_result"
    }
   ],
   "source": [
    "explain_ob.claim.reference"
   ]
  },
  {
   "cell_type": "code",
   "execution_count": 338,
   "id": "ebf21055-2a0a-47d2-930c-05cc336e557a",
   "metadata": {},
   "outputs": [
    {
     "data": {
      "text/plain": [
       "'claim'"
      ]
     },
     "execution_count": 338,
     "metadata": {},
     "output_type": "execute_result"
    }
   ],
   "source": [
    "explain_ob.use"
   ]
  },
  {
   "cell_type": "code",
   "execution_count": 341,
   "id": "d8e19f99-76b9-42b9-b8a8-4b741ff83759",
   "metadata": {},
   "outputs": [
    {
     "data": {
      "text/plain": [
       "datetime.datetime(2000, 10, 11, 2, 15, 48, tzinfo=TzInfo(UTC))"
      ]
     },
     "execution_count": 341,
     "metadata": {},
     "output_type": "execute_result"
    }
   ],
   "source": [
    "explain_ob.billablePeriod.start"
   ]
  },
  {
   "cell_type": "code",
   "execution_count": 347,
   "id": "a1cb4402-c856-4c3f-afbf-5a3eee6cefb3",
   "metadata": {},
   "outputs": [
    {
     "data": {
      "text/plain": [
       "'Blue Cross Blue Shield'"
      ]
     },
     "execution_count": 347,
     "metadata": {},
     "output_type": "execute_result"
    }
   ],
   "source": [
    "explain_ob.insurer.display"
   ]
  },
  {
   "cell_type": "code",
   "execution_count": 350,
   "id": "70954cb5-3f59-43fe-affe-2200563fd077",
   "metadata": {},
   "outputs": [
    {
     "data": {
      "text/plain": [
       "'Practitioner?identifier=http://hl7.org/fhir/sid/us-npi|9999942599'"
      ]
     },
     "execution_count": 350,
     "metadata": {},
     "output_type": "execute_result"
    }
   ],
   "source": [
    "explain_ob.provider.reference"
   ]
  },
  {
   "cell_type": "code",
   "execution_count": 378,
   "id": "31aac638-6a63-4b40-a1ff-6572e6ba8740",
   "metadata": {},
   "outputs": [
    {
     "data": {
      "text/plain": [
       "[ExplanationOfBenefitDiagnosis(fhir_comments=None, extension=None, id=None, modifierExtension=None, diagnosisCodeableConcept=None, diagnosisReference=Reference(fhir_comments=None, extension=None, id=None, display=None, display__ext=None, identifier=None, reference='urn:uuid:d0dbc708-18ea-9d78-1135-d77190d7220c', reference__ext=None, type=None, type__ext=None), onAdmission=None, packageCode=None, sequence=1, sequence__ext=None, type=[CodeableConcept(fhir_comments=None, extension=None, id=None, coding=[Coding(fhir_comments=None, extension=None, id=None, code='principal', code__ext=None, display=None, display__ext=None, system='http://terminology.hl7.org/CodeSystem/ex-diagnosistype', system__ext=None, userSelected=None, userSelected__ext=None, version=None, version__ext=None)], text=None, text__ext=None)])]"
      ]
     },
     "execution_count": 378,
     "metadata": {},
     "output_type": "execute_result"
    }
   ],
   "source": [
    "explain_ob.diagnosis"
   ]
  },
  {
   "cell_type": "code",
   "execution_count": 379,
   "id": "bf4dec71-ed21-4e21-b902-fa8a9dcf6197",
   "metadata": {},
   "outputs": [
    {
     "data": {
      "text/plain": [
       "'urn:uuid:d0dbc708-18ea-9d78-1135-d77190d7220c'"
      ]
     },
     "execution_count": 379,
     "metadata": {},
     "output_type": "execute_result"
    }
   ],
   "source": [
    "explain_ob.diagnosis[0].diagnosisReference.reference"
   ]
  },
  {
   "cell_type": "code",
   "execution_count": 380,
   "id": "091cbac4-67f4-41d8-986b-eb6a2ec684f6",
   "metadata": {},
   "outputs": [
    {
     "name": "stdout",
     "output_type": "stream",
     "text": [
      "1\n",
      "Practitioner?identifier=http://hl7.org/fhir/sid/us-npi|9999942599\n"
     ]
    }
   ],
   "source": [
    "for careteam in explain_ob.careTeam:\n",
    "    print(careteam.sequence)\n",
    "    print(careteam.provider.reference)"
   ]
  },
  {
   "cell_type": "code",
   "execution_count": 382,
   "id": "241d72d9-572f-439d-bf5c-f69ede421cd0",
   "metadata": {},
   "outputs": [],
   "source": [
    "explain_ob.procedure"
   ]
  },
  {
   "cell_type": "code",
   "execution_count": 387,
   "id": "f7b914e5-a200-46a1-940f-5112282b8d57",
   "metadata": {},
   "outputs": [
    {
     "data": {
      "text/plain": [
       "'Blue Cross Blue Shield'"
      ]
     },
     "execution_count": 387,
     "metadata": {},
     "output_type": "execute_result"
    }
   ],
   "source": [
    "explain_ob.insurance[0].coverage.display"
   ]
  },
  {
   "cell_type": "code",
   "execution_count": 388,
   "id": "c0b2b929-0008-46c8-8c2d-bf08942c4ec4",
   "metadata": {},
   "outputs": [],
   "source": [
    "explain_ob.accident"
   ]
  },
  {
   "cell_type": "code",
   "execution_count": 389,
   "id": "69ffcf05-17d2-4588-8621-c95d1c10fbc6",
   "metadata": {},
   "outputs": [
    {
     "data": {
      "text/plain": [
       "[ExplanationOfBenefitItem(fhir_comments=None, extension=None, id=None, modifierExtension=None, adjudication=None, bodySite=None, careTeamSequence=None, careTeamSequence__ext=None, category=CodeableConcept(fhir_comments=None, extension=None, id=None, coding=[Coding(fhir_comments=None, extension=None, id=None, code='1', code__ext=None, display='Medical care', display__ext=None, system='https://bluebutton.cms.gov/resources/variables/line_cms_type_srvc_cd', system__ext=None, userSelected=None, userSelected__ext=None, version=None, version__ext=None)], text=None, text__ext=None), detail=None, diagnosisSequence=None, diagnosisSequence__ext=None, encounter=[Reference(fhir_comments=None, extension=None, id=None, display=None, display__ext=None, identifier=None, reference='urn:uuid:d4f80e47-91cc-d21d-94a1-767692fea519', reference__ext=None, type=None, type__ext=None)], factor=None, factor__ext=None, informationSequence=None, informationSequence__ext=None, locationAddress=None, locationCodeableConcept=CodeableConcept(fhir_comments=None, extension=None, id=None, coding=[Coding(fhir_comments=None, extension=None, id=None, code='19', code__ext=None, display='Off Campus-Outpatient Hospital', display__ext=None, system='http://terminology.hl7.org/CodeSystem/ex-serviceplace', system__ext=None, userSelected=None, userSelected__ext=None, version=None, version__ext=None)], text=None, text__ext=None), locationReference=None, modifier=None, net=None, noteNumber=None, noteNumber__ext=None, procedureSequence=None, procedureSequence__ext=None, productOrService=CodeableConcept(fhir_comments=None, extension=None, id=None, coding=[Coding(fhir_comments=None, extension=None, id=None, code='162673000', code__ext=None, display='General examination of patient (procedure)', display__ext=None, system='http://snomed.info/sct', system__ext=None, userSelected=None, userSelected__ext=None, version=None, version__ext=None)], text='General examination of patient (procedure)', text__ext=None), programCode=None, quantity=None, revenue=None, sequence=1, sequence__ext=None, servicedDate=None, servicedDate__ext=None, servicedPeriod=Period(fhir_comments=None, extension=None, id=None, end=datetime.datetime(2000, 10, 11, 2, 15, 48, tzinfo=TzInfo(UTC)), end__ext=None, start=datetime.datetime(2000, 10, 11, 1, 43, 8, tzinfo=TzInfo(UTC)), start__ext=None), subSite=None, udi=None, unitPrice=None),\n",
       " ExplanationOfBenefitItem(fhir_comments=None, extension=None, id=None, modifierExtension=None, adjudication=None, bodySite=None, careTeamSequence=None, careTeamSequence__ext=None, category=CodeableConcept(fhir_comments=None, extension=None, id=None, coding=[Coding(fhir_comments=None, extension=None, id=None, code='1', code__ext=None, display='Medical care', display__ext=None, system='https://bluebutton.cms.gov/resources/variables/line_cms_type_srvc_cd', system__ext=None, userSelected=None, userSelected__ext=None, version=None, version__ext=None)], text=None, text__ext=None), detail=None, diagnosisSequence=[1], diagnosisSequence__ext=None, encounter=None, factor=None, factor__ext=None, informationSequence=None, informationSequence__ext=None, locationAddress=None, locationCodeableConcept=CodeableConcept(fhir_comments=None, extension=None, id=None, coding=[Coding(fhir_comments=None, extension=None, id=None, code='19', code__ext=None, display='Off Campus-Outpatient Hospital', display__ext=None, system='http://terminology.hl7.org/CodeSystem/ex-serviceplace', system__ext=None, userSelected=None, userSelected__ext=None, version=None, version__ext=None)], text=None, text__ext=None), locationReference=None, modifier=None, net=None, noteNumber=None, noteNumber__ext=None, procedureSequence=None, procedureSequence__ext=None, productOrService=CodeableConcept(fhir_comments=None, extension=None, id=None, coding=[Coding(fhir_comments=None, extension=None, id=None, code='224299000', code__ext=None, display='Received higher education (finding)', display__ext=None, system='http://snomed.info/sct', system__ext=None, userSelected=None, userSelected__ext=None, version=None, version__ext=None)], text='Received higher education (finding)', text__ext=None), programCode=None, quantity=None, revenue=None, sequence=2, sequence__ext=None, servicedDate=None, servicedDate__ext=None, servicedPeriod=Period(fhir_comments=None, extension=None, id=None, end=datetime.datetime(2000, 10, 11, 2, 15, 48, tzinfo=TzInfo(UTC)), end__ext=None, start=datetime.datetime(2000, 10, 11, 1, 43, 8, tzinfo=TzInfo(UTC)), start__ext=None), subSite=None, udi=None, unitPrice=None)]"
      ]
     },
     "execution_count": 389,
     "metadata": {},
     "output_type": "execute_result"
    }
   ],
   "source": [
    "explain_ob.item"
   ]
  },
  {
   "cell_type": "code",
   "execution_count": 390,
   "id": "df931ca2-acd2-4b98-8ffc-c0fb9ed742b5",
   "metadata": {},
   "outputs": [
    {
     "data": {
      "text/plain": [
       "[ExplanationOfBenefitTotal(fhir_comments=None, extension=None, id=None, modifierExtension=None, amount=Money(fhir_comments=None, extension=None, id=None, currency='USD', currency__ext=None, value=Decimal('704.200000000000045474735088646411895751953125'), value__ext=None), category=CodeableConcept(fhir_comments=None, extension=None, id=None, coding=[Coding(fhir_comments=None, extension=None, id=None, code='submitted', code__ext=None, display='Submitted Amount', display__ext=None, system='http://terminology.hl7.org/CodeSystem/adjudication', system__ext=None, userSelected=None, userSelected__ext=None, version=None, version__ext=None)], text='Submitted Amount', text__ext=None))]"
      ]
     },
     "execution_count": 390,
     "metadata": {},
     "output_type": "execute_result"
    }
   ],
   "source": [
    "explain_ob.total"
   ]
  },
  {
   "cell_type": "code",
   "execution_count": 392,
   "id": "de198913-5570-49c5-b9f1-bfcea12a9fa0",
   "metadata": {},
   "outputs": [],
   "source": [
    "def explaination_ob_resource_parser(explain_ob):\n",
    "    if explain_ob.id == None:\n",
    "        return None\n",
    "    explain_ob_schema = dict()\n",
    "    explain_ob_schema['ID'] = explain_ob.id\n",
    "    explain_ob_schema['status'] = getattr(explain_ob, 'status', None)\n",
    "    explain_ob_schema['type_code'] = codeable_concept_parser(explain_ob.type)\n",
    "    explain_ob_schema['use'] = getattr(explain_ob, 'use', None)\n",
    "    explain_ob_schema['patient_id'] = getattr(getattr(explain_ob, 'patient', None), 'refrence', None)\n",
    "    explain_ob_schema['billable_start_date'] = getattr(getattr(explain_ob, 'billablePeriod', None), 'start', None)\n",
    "    explain_ob_schema['billable_end_date'] = getattr(getattr(explain_ob, 'billablePeriod', None), 'start', None)\n",
    "    explain_ob_schema['created'] = getattr(explain_ob,'created', None)\n",
    "    explain_ob_schema['insurer'] = getattr(getattr(explain_ob, 'insurer', None), 'display', None)\n",
    "    explain_ob_schema['provider'] = getattr(getattr(explain_ob, 'provider', None), 'reference', None)\n",
    "    explain_ob_schema['outcome'] = getattr(explain_ob, 'outcome', None)\n",
    "    explain_ob_schema['claim_id'] = getattr(getattr(explain_ob, 'claim', None), 'reference', None)\n",
    "    explain_ob_schema['procedure'] = explain_ob.procedure\n",
    "    for careteam in explain_ob.careTeam:\n",
    "        explain_ob_schema[f'careteam_{careteam.sequence}_reference_id'] = careteam.provider.reference\n",
    "    for diagnosis in explain_ob.diagnosis:\n",
    "        explain_ob_schema[f'diagnosis_{diagnosis.sequence}_reference_id'] = diagnosis.diagnosisReference.reference\n",
    "    for i,insurance in enumerate(explain_ob.insurance):\n",
    "        explain_ob_schema[f'insurance_{i+1}'] = insurance.coverage.display\n",
    "\n",
    "\n",
    "    return explain_ob_schema"
   ]
  },
  {
   "cell_type": "code",
   "execution_count": 325,
   "id": "ae255721-2e04-4022-ad42-82b2063ec952",
   "metadata": {},
   "outputs": [],
   "source": [
    "def codeable_concept_parser(cc):\n",
    "    code = \"\"\n",
    "\n",
    "    for i,codings in enumerate(cc.coding):\n",
    "        code = code + codings.code\n",
    "        if i > 0 and i < len(cc.coding):\n",
    "            code = code + \",\"\n",
    "    return code"
   ]
  },
  {
   "cell_type": "code",
   "execution_count": null,
   "id": "e88cb17e-6ae4-4027-8c95-c529827925a1",
   "metadata": {},
   "outputs": [],
   "source": [
    "def observation_resource_parser(obs):\n",
    "    if obs.id == None:\n",
    "        return None\n",
    "    observation_schema = dict()\n",
    "    observation_schema['ID'] = obs.id\n",
    "    observation_schema['based_on'] = getattr(obs,'basedOn', None)\n",
    "    observation_schema['part_of'] = getattr(obs,'partOf', None)\n",
    "    observation_schema['status'] = getattr(obs,'status', None)\n",
    "    observation_schema['category_type'] = n_codeable_concept_parser(obs.category)\n",
    "    observation_schema['loinc_code'] = codeable_concept_parser(obs.code)\n",
    "    observation_schema['patient_id'] = getattr(getattr(obs,'subject',None),'reference',None)\n",
    "    observation_schema['focus'] = getattr(obs, 'focus', None)\n",
    "    observation_schema['encounter_id'] = getattr(getattr(obs,'encounter',None),'reference',None)\n",
    "    observation_schema['effective_datetime'] = getattr(obs, 'effectiveDateTime', None)\n",
    "    observation_schema['effective_period'] = getattr(obs, 'effectivePeriod', None)\n",
    "    observation_schema['effective_timing'] = getattr(obs, 'effectiveTiming', None)\n",
    "    observation_schema['issued'] = getattr(obs, 'issued', None)\n",
    "    observation_schema['performer'] = getattr(obs, 'performer', None)\n",
    "    observation_schema['value_boolean'] = getattr(obs, 'valueBoolean', None)\n",
    "    observation_schema['value_codeable_concept'] = getattr(obs, 'valueCodeableConcept', None)\n",
    "    observation_schema['value_datetime'] = getattr(obs, 'valueDateTime', None)\n",
    "    observation_schema['value_integer'] = getattr(obs, 'valueInteger', None)\n",
    "    observation_schema['value_unit'] = getattr(getattr(obs,'valueQuantity',None),'unit',None)\n",
    "    observation_schema['value'] = getattr(getattr(obs,'valueQuantity',None),'value',None)\n",
    "    observation_schema['value_tring'] = getattr(obs, 'valueString', None)\n",
    "    observation_schema['data_absent_reason'] = getattr(obs, 'dataAbsentReason', None)\n",
    "    observation_schema['interpretation'] = getattr(obs, 'interpretation', None)\n",
    "    observation_schema['note'] = getattr(obs, 'note', None)\n",
    "    observation_schema['bodysite'] = getattr(obs, 'bodySite', None)\n",
    "    observation_schema['method'] = getattr(obs, 'method', None)\n",
    "    observation_schema['specimen'] = getattr(obs, 'specimen', None)\n",
    "    observation_schema['device'] = getattr(obs, 'device', None)\n",
    "    observation_schema['reference_range'] = getattr(obs, 'referenceRange', None)\n",
    "    observation_schema['has_member'] = getattr(obs, 'hasMember', None)\n",
    "    observation_schema['derived_from'] = getattr(obs, 'derivedFrom', None)\n",
    "    observation_schema['component'] = getattr(obs, 'component', None)\n",
    "\n",
    "    return observation_schema    "
   ]
  },
  {
   "cell_type": "markdown",
   "id": "c4f2a530-919b-4b43-bdc7-4b4e79e60ede",
   "metadata": {},
   "source": [
    "To fix:\n",
    "- Observation Component\n",
    "- value_codable_concept"
   ]
  },
  {
   "cell_type": "markdown",
   "id": "29474168",
   "metadata": {},
   "source": []
  }
 ],
 "metadata": {
  "kernelspec": {
   "display_name": "Python 3 (ipykernel)",
   "language": "python",
   "name": "python3"
  },
  "language_info": {
   "codemirror_mode": {
    "name": "ipython",
    "version": 3
   },
   "file_extension": ".py",
   "mimetype": "text/x-python",
   "name": "python",
   "nbconvert_exporter": "python",
   "pygments_lexer": "ipython3",
   "version": "3.11.11"
  }
 },
 "nbformat": 4,
 "nbformat_minor": 5
}
